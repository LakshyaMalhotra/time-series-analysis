{
  "nbformat": 4,
  "nbformat_minor": 5,
  "metadata": {
    "kernelspec": {
      "display_name": "Python 3",
      "language": "python",
      "name": "python3"
    },
    "language_info": {
      "codemirror_mode": {
        "name": "ipython",
        "version": 3
      },
      "file_extension": ".py",
      "mimetype": "text/x-python",
      "name": "python",
      "nbconvert_exporter": "python",
      "pygments_lexer": "ipython3",
      "version": "3.9.2"
    },
    "colab": {
      "name": "plotly-basic.ipynb",
      "provenance": [],
      "include_colab_link": true
    }
  },
  "cells": [
    {
      "cell_type": "markdown",
      "metadata": {
        "id": "view-in-github",
        "colab_type": "text"
      },
      "source": [
        "<a href=\"https://colab.research.google.com/github/LakshyaMalhotra/time-series-analysis/blob/main/plotly_basic.ipynb\" target=\"_parent\"><img src=\"https://colab.research.google.com/assets/colab-badge.svg\" alt=\"Open In Colab\"/></a>"
      ]
    },
    {
      "cell_type": "code",
      "metadata": {
        "id": "lyric-invalid"
      },
      "source": [
        "# standard plotly imports\n",
        "import pandas as pd\n",
        "import plotly as py\n",
        "import plotly.graph_objs as go\n",
        "import plotly.express as px\n",
        "from plotly.offline import iplot, init_notebook_mode\n",
        "\n",
        "# use plotly + cufflinks in offline mode\n",
        "# import cufflinks\n",
        "# cufflinks.go_offline(connected=True)\n",
        "# init_notebook_mode(connected=True)"
      ],
      "id": "lyric-invalid",
      "execution_count": 1,
      "outputs": []
    },
    {
      "cell_type": "code",
      "metadata": {
        "colab": {
          "base_uri": "https://localhost:8080/",
          "height": 204
        },
        "id": "demonstrated-participation",
        "outputId": "3ffa13ef-376e-4167-e98d-07c1d989e3fa"
      },
      "source": [
        "df = pd.read_csv('https://raw.githubusercontent.com/plotly/datasets/master/Emissions%20Data.csv')\n",
        "df.head()"
      ],
      "id": "demonstrated-participation",
      "execution_count": 2,
      "outputs": [
        {
          "output_type": "execute_result",
          "data": {
            "text/html": [
              "<div>\n",
              "<style scoped>\n",
              "    .dataframe tbody tr th:only-of-type {\n",
              "        vertical-align: middle;\n",
              "    }\n",
              "\n",
              "    .dataframe tbody tr th {\n",
              "        vertical-align: top;\n",
              "    }\n",
              "\n",
              "    .dataframe thead th {\n",
              "        text-align: right;\n",
              "    }\n",
              "</style>\n",
              "<table border=\"1\" class=\"dataframe\">\n",
              "  <thead>\n",
              "    <tr style=\"text-align: right;\">\n",
              "      <th></th>\n",
              "      <th>Year</th>\n",
              "      <th>Country</th>\n",
              "      <th>Continent</th>\n",
              "      <th>Emission</th>\n",
              "    </tr>\n",
              "  </thead>\n",
              "  <tbody>\n",
              "    <tr>\n",
              "      <th>0</th>\n",
              "      <td>2008</td>\n",
              "      <td>Aruba</td>\n",
              "      <td>South America</td>\n",
              "      <td>24.750133</td>\n",
              "    </tr>\n",
              "    <tr>\n",
              "      <th>1</th>\n",
              "      <td>2009</td>\n",
              "      <td>Aruba</td>\n",
              "      <td>South America</td>\n",
              "      <td>24.876706</td>\n",
              "    </tr>\n",
              "    <tr>\n",
              "      <th>2</th>\n",
              "      <td>2010</td>\n",
              "      <td>Aruba</td>\n",
              "      <td>South America</td>\n",
              "      <td>24.182702</td>\n",
              "    </tr>\n",
              "    <tr>\n",
              "      <th>3</th>\n",
              "      <td>2011</td>\n",
              "      <td>Aruba</td>\n",
              "      <td>South America</td>\n",
              "      <td>23.922412</td>\n",
              "    </tr>\n",
              "    <tr>\n",
              "      <th>4</th>\n",
              "      <td>2008</td>\n",
              "      <td>Andorra</td>\n",
              "      <td>Europe</td>\n",
              "      <td>6.296125</td>\n",
              "    </tr>\n",
              "  </tbody>\n",
              "</table>\n",
              "</div>"
            ],
            "text/plain": [
              "   Year  Country      Continent   Emission\n",
              "0  2008    Aruba  South America  24.750133\n",
              "1  2009    Aruba  South America  24.876706\n",
              "2  2010    Aruba  South America  24.182702\n",
              "3  2011    Aruba  South America  23.922412\n",
              "4  2008  Andorra         Europe   6.296125"
            ]
          },
          "metadata": {
            "tags": []
          },
          "execution_count": 2
        }
      ]
    },
    {
      "cell_type": "code",
      "metadata": {
        "colab": {
          "base_uri": "https://localhost:8080/"
        },
        "id": "afraid-church",
        "outputId": "9e9b3541-c5b8-4ad3-b0bb-7ce2dfe6a938"
      },
      "source": [
        "df.info()"
      ],
      "id": "afraid-church",
      "execution_count": 3,
      "outputs": [
        {
          "output_type": "stream",
          "text": [
            "<class 'pandas.core.frame.DataFrame'>\n",
            "RangeIndex: 788 entries, 0 to 787\n",
            "Data columns (total 4 columns):\n",
            " #   Column     Non-Null Count  Dtype  \n",
            "---  ------     --------------  -----  \n",
            " 0   Year       788 non-null    int64  \n",
            " 1   Country    788 non-null    object \n",
            " 2   Continent  788 non-null    object \n",
            " 3   Emission   788 non-null    float64\n",
            "dtypes: float64(1), int64(1), object(2)\n",
            "memory usage: 24.8+ KB\n"
          ],
          "name": "stdout"
        }
      ]
    },
    {
      "cell_type": "code",
      "metadata": {
        "colab": {
          "base_uri": "https://localhost:8080/",
          "height": 173
        },
        "id": "continent-tyler",
        "outputId": "61d900eb-37e1-42f2-eafc-8e020778cf03"
      },
      "source": [
        "mean_emission_year = pd.DataFrame(df.groupby(['Year'])[['Emission']].mean()).reset_index()\n",
        "mean_emission_year"
      ],
      "id": "continent-tyler",
      "execution_count": 4,
      "outputs": [
        {
          "output_type": "execute_result",
          "data": {
            "text/html": [
              "<div>\n",
              "<style scoped>\n",
              "    .dataframe tbody tr th:only-of-type {\n",
              "        vertical-align: middle;\n",
              "    }\n",
              "\n",
              "    .dataframe tbody tr th {\n",
              "        vertical-align: top;\n",
              "    }\n",
              "\n",
              "    .dataframe thead th {\n",
              "        text-align: right;\n",
              "    }\n",
              "</style>\n",
              "<table border=\"1\" class=\"dataframe\">\n",
              "  <thead>\n",
              "    <tr style=\"text-align: right;\">\n",
              "      <th></th>\n",
              "      <th>Year</th>\n",
              "      <th>Emission</th>\n",
              "    </tr>\n",
              "  </thead>\n",
              "  <tbody>\n",
              "    <tr>\n",
              "      <th>0</th>\n",
              "      <td>2008</td>\n",
              "      <td>5.012454</td>\n",
              "    </tr>\n",
              "    <tr>\n",
              "      <th>1</th>\n",
              "      <td>2009</td>\n",
              "      <td>4.779365</td>\n",
              "    </tr>\n",
              "    <tr>\n",
              "      <th>2</th>\n",
              "      <td>2010</td>\n",
              "      <td>4.936749</td>\n",
              "    </tr>\n",
              "    <tr>\n",
              "      <th>3</th>\n",
              "      <td>2011</td>\n",
              "      <td>4.904900</td>\n",
              "    </tr>\n",
              "  </tbody>\n",
              "</table>\n",
              "</div>"
            ],
            "text/plain": [
              "   Year  Emission\n",
              "0  2008  5.012454\n",
              "1  2009  4.779365\n",
              "2  2010  4.936749\n",
              "3  2011  4.904900"
            ]
          },
          "metadata": {
            "tags": []
          },
          "execution_count": 4
        }
      ]
    },
    {
      "cell_type": "markdown",
      "metadata": {
        "id": "permanent-prescription"
      },
      "source": [
        "## Using Plotly Graph-Objs"
      ],
      "id": "permanent-prescription"
    },
    {
      "cell_type": "code",
      "metadata": {
        "colab": {
          "base_uri": "https://localhost:8080/",
          "height": 517
        },
        "id": "aggressive-withdrawal",
        "outputId": "c14bd596-e0c1-4ed5-8ba2-2e77e60541d5"
      },
      "source": [
        "trace1 = go.Scatter(x=mean_emission_year.Year, y=mean_emission_year.Emission, \n",
        "                   mode='lines+markers', )\n",
        "layout = dict(title='Average Emission by Year', \n",
        "              xaxis=dict(title='Year', dtick=1.0), \n",
        "              height=500, width=600)\n",
        "fig = go.Figure(data=[trace1], layout=layout)#dict(data=[trace1], layout=layout)\n",
        "iplot(fig)"
      ],
      "id": "aggressive-withdrawal",
      "execution_count": 5,
      "outputs": [
        {
          "output_type": "display_data",
          "data": {
            "text/html": [
              "<html>\n",
              "<head><meta charset=\"utf-8\" /></head>\n",
              "<body>\n",
              "    <div>\n",
              "            <script src=\"https://cdnjs.cloudflare.com/ajax/libs/mathjax/2.7.5/MathJax.js?config=TeX-AMS-MML_SVG\"></script><script type=\"text/javascript\">if (window.MathJax) {MathJax.Hub.Config({SVG: {font: \"STIX-Web\"}});}</script>\n",
              "                <script type=\"text/javascript\">window.PlotlyConfig = {MathJaxConfig: 'local'};</script>\n",
              "        <script src=\"https://cdn.plot.ly/plotly-latest.min.js\"></script>    \n",
              "            <div id=\"7551307c-11e8-4d3b-9bdd-9b940fac3321\" class=\"plotly-graph-div\" style=\"height:500px; width:600px;\"></div>\n",
              "            <script type=\"text/javascript\">\n",
              "                \n",
              "                    window.PLOTLYENV=window.PLOTLYENV || {};\n",
              "                    \n",
              "                if (document.getElementById(\"7551307c-11e8-4d3b-9bdd-9b940fac3321\")) {\n",
              "                    Plotly.newPlot(\n",
              "                        '7551307c-11e8-4d3b-9bdd-9b940fac3321',\n",
              "                        [{\"mode\": \"lines+markers\", \"type\": \"scatter\", \"x\": [2008, 2009, 2010, 2011], \"y\": [5.012454280116751, 4.779364858639592, 4.9367485989390865, 4.904900274527923]}],\n",
              "                        {\"height\": 500, \"template\": {\"data\": {\"bar\": [{\"error_x\": {\"color\": \"#2a3f5f\"}, \"error_y\": {\"color\": \"#2a3f5f\"}, \"marker\": {\"line\": {\"color\": \"#E5ECF6\", \"width\": 0.5}}, \"type\": \"bar\"}], \"barpolar\": [{\"marker\": {\"line\": {\"color\": \"#E5ECF6\", \"width\": 0.5}}, \"type\": \"barpolar\"}], \"carpet\": [{\"aaxis\": {\"endlinecolor\": \"#2a3f5f\", \"gridcolor\": \"white\", \"linecolor\": \"white\", \"minorgridcolor\": \"white\", \"startlinecolor\": \"#2a3f5f\"}, \"baxis\": {\"endlinecolor\": \"#2a3f5f\", \"gridcolor\": \"white\", \"linecolor\": \"white\", \"minorgridcolor\": \"white\", \"startlinecolor\": \"#2a3f5f\"}, \"type\": \"carpet\"}], \"choropleth\": [{\"colorbar\": {\"outlinewidth\": 0, \"ticks\": \"\"}, \"type\": \"choropleth\"}], \"contour\": [{\"colorbar\": {\"outlinewidth\": 0, \"ticks\": \"\"}, \"colorscale\": [[0.0, \"#0d0887\"], [0.1111111111111111, \"#46039f\"], [0.2222222222222222, \"#7201a8\"], [0.3333333333333333, \"#9c179e\"], [0.4444444444444444, \"#bd3786\"], [0.5555555555555556, \"#d8576b\"], [0.6666666666666666, \"#ed7953\"], [0.7777777777777778, \"#fb9f3a\"], [0.8888888888888888, \"#fdca26\"], [1.0, \"#f0f921\"]], \"type\": \"contour\"}], \"contourcarpet\": [{\"colorbar\": {\"outlinewidth\": 0, \"ticks\": \"\"}, \"type\": \"contourcarpet\"}], \"heatmap\": [{\"colorbar\": {\"outlinewidth\": 0, \"ticks\": \"\"}, \"colorscale\": [[0.0, \"#0d0887\"], [0.1111111111111111, \"#46039f\"], [0.2222222222222222, \"#7201a8\"], [0.3333333333333333, \"#9c179e\"], [0.4444444444444444, \"#bd3786\"], [0.5555555555555556, \"#d8576b\"], [0.6666666666666666, \"#ed7953\"], [0.7777777777777778, \"#fb9f3a\"], [0.8888888888888888, \"#fdca26\"], [1.0, \"#f0f921\"]], \"type\": \"heatmap\"}], \"heatmapgl\": [{\"colorbar\": {\"outlinewidth\": 0, \"ticks\": \"\"}, \"colorscale\": [[0.0, \"#0d0887\"], [0.1111111111111111, \"#46039f\"], [0.2222222222222222, \"#7201a8\"], [0.3333333333333333, \"#9c179e\"], [0.4444444444444444, \"#bd3786\"], [0.5555555555555556, \"#d8576b\"], [0.6666666666666666, \"#ed7953\"], [0.7777777777777778, \"#fb9f3a\"], [0.8888888888888888, \"#fdca26\"], [1.0, \"#f0f921\"]], \"type\": \"heatmapgl\"}], \"histogram\": [{\"marker\": {\"colorbar\": {\"outlinewidth\": 0, \"ticks\": \"\"}}, \"type\": \"histogram\"}], \"histogram2d\": [{\"colorbar\": {\"outlinewidth\": 0, \"ticks\": \"\"}, \"colorscale\": [[0.0, \"#0d0887\"], [0.1111111111111111, \"#46039f\"], [0.2222222222222222, \"#7201a8\"], [0.3333333333333333, \"#9c179e\"], [0.4444444444444444, \"#bd3786\"], [0.5555555555555556, \"#d8576b\"], [0.6666666666666666, \"#ed7953\"], [0.7777777777777778, \"#fb9f3a\"], [0.8888888888888888, \"#fdca26\"], [1.0, \"#f0f921\"]], \"type\": \"histogram2d\"}], \"histogram2dcontour\": [{\"colorbar\": {\"outlinewidth\": 0, \"ticks\": \"\"}, \"colorscale\": [[0.0, \"#0d0887\"], [0.1111111111111111, \"#46039f\"], [0.2222222222222222, \"#7201a8\"], [0.3333333333333333, \"#9c179e\"], [0.4444444444444444, \"#bd3786\"], [0.5555555555555556, \"#d8576b\"], [0.6666666666666666, \"#ed7953\"], [0.7777777777777778, \"#fb9f3a\"], [0.8888888888888888, \"#fdca26\"], [1.0, \"#f0f921\"]], \"type\": \"histogram2dcontour\"}], \"mesh3d\": [{\"colorbar\": {\"outlinewidth\": 0, \"ticks\": \"\"}, \"type\": \"mesh3d\"}], \"parcoords\": [{\"line\": {\"colorbar\": {\"outlinewidth\": 0, \"ticks\": \"\"}}, \"type\": \"parcoords\"}], \"pie\": [{\"automargin\": true, \"type\": \"pie\"}], \"scatter\": [{\"marker\": {\"colorbar\": {\"outlinewidth\": 0, \"ticks\": \"\"}}, \"type\": \"scatter\"}], \"scatter3d\": [{\"line\": {\"colorbar\": {\"outlinewidth\": 0, \"ticks\": \"\"}}, \"marker\": {\"colorbar\": {\"outlinewidth\": 0, \"ticks\": \"\"}}, \"type\": \"scatter3d\"}], \"scattercarpet\": [{\"marker\": {\"colorbar\": {\"outlinewidth\": 0, \"ticks\": \"\"}}, \"type\": \"scattercarpet\"}], \"scattergeo\": [{\"marker\": {\"colorbar\": {\"outlinewidth\": 0, \"ticks\": \"\"}}, \"type\": \"scattergeo\"}], \"scattergl\": [{\"marker\": {\"colorbar\": {\"outlinewidth\": 0, \"ticks\": \"\"}}, \"type\": \"scattergl\"}], \"scattermapbox\": [{\"marker\": {\"colorbar\": {\"outlinewidth\": 0, \"ticks\": \"\"}}, \"type\": \"scattermapbox\"}], \"scatterpolar\": [{\"marker\": {\"colorbar\": {\"outlinewidth\": 0, \"ticks\": \"\"}}, \"type\": \"scatterpolar\"}], \"scatterpolargl\": [{\"marker\": {\"colorbar\": {\"outlinewidth\": 0, \"ticks\": \"\"}}, \"type\": \"scatterpolargl\"}], \"scatterternary\": [{\"marker\": {\"colorbar\": {\"outlinewidth\": 0, \"ticks\": \"\"}}, \"type\": \"scatterternary\"}], \"surface\": [{\"colorbar\": {\"outlinewidth\": 0, \"ticks\": \"\"}, \"colorscale\": [[0.0, \"#0d0887\"], [0.1111111111111111, \"#46039f\"], [0.2222222222222222, \"#7201a8\"], [0.3333333333333333, \"#9c179e\"], [0.4444444444444444, \"#bd3786\"], [0.5555555555555556, \"#d8576b\"], [0.6666666666666666, \"#ed7953\"], [0.7777777777777778, \"#fb9f3a\"], [0.8888888888888888, \"#fdca26\"], [1.0, \"#f0f921\"]], \"type\": \"surface\"}], \"table\": [{\"cells\": {\"fill\": {\"color\": \"#EBF0F8\"}, \"line\": {\"color\": \"white\"}}, \"header\": {\"fill\": {\"color\": \"#C8D4E3\"}, \"line\": {\"color\": \"white\"}}, \"type\": \"table\"}]}, \"layout\": {\"annotationdefaults\": {\"arrowcolor\": \"#2a3f5f\", \"arrowhead\": 0, \"arrowwidth\": 1}, \"coloraxis\": {\"colorbar\": {\"outlinewidth\": 0, \"ticks\": \"\"}}, \"colorscale\": {\"diverging\": [[0, \"#8e0152\"], [0.1, \"#c51b7d\"], [0.2, \"#de77ae\"], [0.3, \"#f1b6da\"], [0.4, \"#fde0ef\"], [0.5, \"#f7f7f7\"], [0.6, \"#e6f5d0\"], [0.7, \"#b8e186\"], [0.8, \"#7fbc41\"], [0.9, \"#4d9221\"], [1, \"#276419\"]], \"sequential\": [[0.0, \"#0d0887\"], [0.1111111111111111, \"#46039f\"], [0.2222222222222222, \"#7201a8\"], [0.3333333333333333, \"#9c179e\"], [0.4444444444444444, \"#bd3786\"], [0.5555555555555556, \"#d8576b\"], [0.6666666666666666, \"#ed7953\"], [0.7777777777777778, \"#fb9f3a\"], [0.8888888888888888, \"#fdca26\"], [1.0, \"#f0f921\"]], \"sequentialminus\": [[0.0, \"#0d0887\"], [0.1111111111111111, \"#46039f\"], [0.2222222222222222, \"#7201a8\"], [0.3333333333333333, \"#9c179e\"], [0.4444444444444444, \"#bd3786\"], [0.5555555555555556, \"#d8576b\"], [0.6666666666666666, \"#ed7953\"], [0.7777777777777778, \"#fb9f3a\"], [0.8888888888888888, \"#fdca26\"], [1.0, \"#f0f921\"]]}, \"colorway\": [\"#636efa\", \"#EF553B\", \"#00cc96\", \"#ab63fa\", \"#FFA15A\", \"#19d3f3\", \"#FF6692\", \"#B6E880\", \"#FF97FF\", \"#FECB52\"], \"font\": {\"color\": \"#2a3f5f\"}, \"geo\": {\"bgcolor\": \"white\", \"lakecolor\": \"white\", \"landcolor\": \"#E5ECF6\", \"showlakes\": true, \"showland\": true, \"subunitcolor\": \"white\"}, \"hoverlabel\": {\"align\": \"left\"}, \"hovermode\": \"closest\", \"mapbox\": {\"style\": \"light\"}, \"paper_bgcolor\": \"white\", \"plot_bgcolor\": \"#E5ECF6\", \"polar\": {\"angularaxis\": {\"gridcolor\": \"white\", \"linecolor\": \"white\", \"ticks\": \"\"}, \"bgcolor\": \"#E5ECF6\", \"radialaxis\": {\"gridcolor\": \"white\", \"linecolor\": \"white\", \"ticks\": \"\"}}, \"scene\": {\"xaxis\": {\"backgroundcolor\": \"#E5ECF6\", \"gridcolor\": \"white\", \"gridwidth\": 2, \"linecolor\": \"white\", \"showbackground\": true, \"ticks\": \"\", \"zerolinecolor\": \"white\"}, \"yaxis\": {\"backgroundcolor\": \"#E5ECF6\", \"gridcolor\": \"white\", \"gridwidth\": 2, \"linecolor\": \"white\", \"showbackground\": true, \"ticks\": \"\", \"zerolinecolor\": \"white\"}, \"zaxis\": {\"backgroundcolor\": \"#E5ECF6\", \"gridcolor\": \"white\", \"gridwidth\": 2, \"linecolor\": \"white\", \"showbackground\": true, \"ticks\": \"\", \"zerolinecolor\": \"white\"}}, \"shapedefaults\": {\"line\": {\"color\": \"#2a3f5f\"}}, \"ternary\": {\"aaxis\": {\"gridcolor\": \"white\", \"linecolor\": \"white\", \"ticks\": \"\"}, \"baxis\": {\"gridcolor\": \"white\", \"linecolor\": \"white\", \"ticks\": \"\"}, \"bgcolor\": \"#E5ECF6\", \"caxis\": {\"gridcolor\": \"white\", \"linecolor\": \"white\", \"ticks\": \"\"}}, \"title\": {\"x\": 0.05}, \"xaxis\": {\"automargin\": true, \"gridcolor\": \"white\", \"linecolor\": \"white\", \"ticks\": \"\", \"title\": {\"standoff\": 15}, \"zerolinecolor\": \"white\", \"zerolinewidth\": 2}, \"yaxis\": {\"automargin\": true, \"gridcolor\": \"white\", \"linecolor\": \"white\", \"ticks\": \"\", \"title\": {\"standoff\": 15}, \"zerolinecolor\": \"white\", \"zerolinewidth\": 2}}}, \"title\": {\"text\": \"Average Emission by Year\"}, \"width\": 600, \"xaxis\": {\"dtick\": 1.0, \"title\": {\"text\": \"Year\"}}},\n",
              "                        {\"responsive\": true}\n",
              "                    ).then(function(){\n",
              "                            \n",
              "var gd = document.getElementById('7551307c-11e8-4d3b-9bdd-9b940fac3321');\n",
              "var x = new MutationObserver(function (mutations, observer) {{\n",
              "        var display = window.getComputedStyle(gd).display;\n",
              "        if (!display || display === 'none') {{\n",
              "            console.log([gd, 'removed!']);\n",
              "            Plotly.purge(gd);\n",
              "            observer.disconnect();\n",
              "        }}\n",
              "}});\n",
              "\n",
              "// Listen for the removal of the full notebook cells\n",
              "var notebookContainer = gd.closest('#notebook-container');\n",
              "if (notebookContainer) {{\n",
              "    x.observe(notebookContainer, {childList: true});\n",
              "}}\n",
              "\n",
              "// Listen for the clearing of the current output cell\n",
              "var outputEl = gd.closest('.output');\n",
              "if (outputEl) {{\n",
              "    x.observe(outputEl, {childList: true});\n",
              "}}\n",
              "\n",
              "                        })\n",
              "                };\n",
              "                \n",
              "            </script>\n",
              "        </div>\n",
              "</body>\n",
              "</html>"
            ]
          },
          "metadata": {
            "tags": []
          }
        }
      ]
    },
    {
      "cell_type": "code",
      "metadata": {
        "colab": {
          "base_uri": "https://localhost:8080/",
          "height": 419
        },
        "id": "statistical-happening",
        "outputId": "9d6e5510-a418-4840-e243-217acbe9bda4"
      },
      "source": [
        "mean_emission_country = pd.DataFrame(df.groupby(['Country'])['Emission'].mean()).reset_index()\n",
        "mean_emission_country"
      ],
      "id": "statistical-happening",
      "execution_count": 6,
      "outputs": [
        {
          "output_type": "execute_result",
          "data": {
            "text/html": [
              "<div>\n",
              "<style scoped>\n",
              "    .dataframe tbody tr th:only-of-type {\n",
              "        vertical-align: middle;\n",
              "    }\n",
              "\n",
              "    .dataframe tbody tr th {\n",
              "        vertical-align: top;\n",
              "    }\n",
              "\n",
              "    .dataframe thead th {\n",
              "        text-align: right;\n",
              "    }\n",
              "</style>\n",
              "<table border=\"1\" class=\"dataframe\">\n",
              "  <thead>\n",
              "    <tr style=\"text-align: right;\">\n",
              "      <th></th>\n",
              "      <th>Country</th>\n",
              "      <th>Emission</th>\n",
              "    </tr>\n",
              "  </thead>\n",
              "  <tbody>\n",
              "    <tr>\n",
              "      <th>0</th>\n",
              "      <td>Afghanistan</td>\n",
              "      <td>0.284058</td>\n",
              "    </tr>\n",
              "    <tr>\n",
              "      <th>1</th>\n",
              "      <td>Albania</td>\n",
              "      <td>1.558990</td>\n",
              "    </tr>\n",
              "    <tr>\n",
              "      <th>2</th>\n",
              "      <td>Algeria</td>\n",
              "      <td>3.314901</td>\n",
              "    </tr>\n",
              "    <tr>\n",
              "      <th>3</th>\n",
              "      <td>Andorra</td>\n",
              "      <td>6.109688</td>\n",
              "    </tr>\n",
              "    <tr>\n",
              "      <th>4</th>\n",
              "      <td>Angola</td>\n",
              "      <td>1.388990</td>\n",
              "    </tr>\n",
              "    <tr>\n",
              "      <th>...</th>\n",
              "      <td>...</td>\n",
              "      <td>...</td>\n",
              "    </tr>\n",
              "    <tr>\n",
              "      <th>192</th>\n",
              "      <td>Vietnam</td>\n",
              "      <td>1.716749</td>\n",
              "    </tr>\n",
              "    <tr>\n",
              "      <th>193</th>\n",
              "      <td>West Bank And Gaza</td>\n",
              "      <td>0.560487</td>\n",
              "    </tr>\n",
              "    <tr>\n",
              "      <th>194</th>\n",
              "      <td>Yemen</td>\n",
              "      <td>1.006546</td>\n",
              "    </tr>\n",
              "    <tr>\n",
              "      <th>195</th>\n",
              "      <td>Zambia</td>\n",
              "      <td>0.188319</td>\n",
              "    </tr>\n",
              "    <tr>\n",
              "      <th>196</th>\n",
              "      <td>Zimbabwe</td>\n",
              "      <td>0.626887</td>\n",
              "    </tr>\n",
              "  </tbody>\n",
              "</table>\n",
              "<p>197 rows × 2 columns</p>\n",
              "</div>"
            ],
            "text/plain": [
              "                Country  Emission\n",
              "0           Afghanistan  0.284058\n",
              "1               Albania  1.558990\n",
              "2               Algeria  3.314901\n",
              "3               Andorra  6.109688\n",
              "4                Angola  1.388990\n",
              "..                  ...       ...\n",
              "192             Vietnam  1.716749\n",
              "193  West Bank And Gaza  0.560487\n",
              "194               Yemen  1.006546\n",
              "195              Zambia  0.188319\n",
              "196            Zimbabwe  0.626887\n",
              "\n",
              "[197 rows x 2 columns]"
            ]
          },
          "metadata": {
            "tags": []
          },
          "execution_count": 6
        }
      ]
    },
    {
      "cell_type": "code",
      "metadata": {
        "colab": {
          "base_uri": "https://localhost:8080/",
          "height": 517
        },
        "id": "angry-wiring",
        "outputId": "f0ff584e-3dd3-48fb-9f5b-4b54f361d9a8"
      },
      "source": [
        "trace = go.Scatter(x=mean_emission_country.Country, y=mean_emission_country.Emission, \n",
        "                   mode='lines+markers', marker = dict(color = 'rgba(80, 26, 80, 0.8)'), \n",
        "                   text=mean_emission_country.Country)\n",
        "layout = dict(title='Average Emission by Country', \n",
        "              yaxis=dict(title='Average Emission', dtick=5.0),\n",
        "              xaxis=dict(showticklabels=False),\n",
        "              height=500, width=1000)\n",
        "fig = go.Figure(data=[trace], layout=layout)\n",
        "iplot(fig)"
      ],
      "id": "angry-wiring",
      "execution_count": 7,
      "outputs": [
        {
          "output_type": "display_data",
          "data": {
            "text/html": [
              "<html>\n",
              "<head><meta charset=\"utf-8\" /></head>\n",
              "<body>\n",
              "    <div>\n",
              "            <script src=\"https://cdnjs.cloudflare.com/ajax/libs/mathjax/2.7.5/MathJax.js?config=TeX-AMS-MML_SVG\"></script><script type=\"text/javascript\">if (window.MathJax) {MathJax.Hub.Config({SVG: {font: \"STIX-Web\"}});}</script>\n",
              "                <script type=\"text/javascript\">window.PlotlyConfig = {MathJaxConfig: 'local'};</script>\n",
              "        <script src=\"https://cdn.plot.ly/plotly-latest.min.js\"></script>    \n",
              "            <div id=\"111564ae-ba93-463f-a1c8-9c53dbabda82\" class=\"plotly-graph-div\" style=\"height:500px; width:1000px;\"></div>\n",
              "            <script type=\"text/javascript\">\n",
              "                \n",
              "                    window.PLOTLYENV=window.PLOTLYENV || {};\n",
              "                    \n",
              "                if (document.getElementById(\"111564ae-ba93-463f-a1c8-9c53dbabda82\")) {\n",
              "                    Plotly.newPlot(\n",
              "                        '111564ae-ba93-463f-a1c8-9c53dbabda82',\n",
              "                        [{\"marker\": {\"color\": \"rgba(80, 26, 80, 0.8)\"}, \"mode\": \"lines+markers\", \"text\": [\"Afghanistan\", \"Albania\", \"Algeria\", \"Andorra\", \"Angola\", \"Antigua And Barbuda\", \"Argentina\", \"Armenia\", \"Aruba\", \"Australia\", \"Austria\", \"Azerbaijan\", \"Bahamas\", \"Bahrain\", \"Bangladesh\", \"Barbados\", \"Belarus\", \"Belgium\", \"Belize\", \"Benin\", \"Bermuda\", \"Bhutan\", \"Bolivia\", \"Bosnia And Herzegovina\", \"Botswana\", \"Brazil\", \"Brunei\", \"Bulgaria\", \"Burkina Faso\", \"Burundi\", \"Cabo Verde\", \"Cambodia\", \"Cameroon\", \"Canada\", \"Cayman Islands\", \"Central African Republic\", \"Chad\", \"Chile\", \"China\", \"Colombia\", \"Comoros\", \"Costa Rica\", \"Cote D'Ivoire\", \"Croatia\", \"Cuba\", \"Cyprus\", \"Czech Republic\", \"Dem Rep Of Congo\", \"Denmark\", \"Djibouti\", \"Dominica\", \"Dominican Republic\", \"Ecuador\", \"Egypt\", \"El Salvador\", \"Equatorial Guinea\", \"Eritrea\", \"Estonia\", \"Ethiopia\", \"Faroe Islands\", \"Fiji\", \"Finland\", \"France\", \"French Polynesia\", \"Gabon\", \"Gambia\", \"Georgia\", \"Germany\", \"Ghana\", \"Greece\", \"Greenland\", \"Grenada\", \"Guatemala\", \"Guinea\", \"Guinea-Bissau\", \"Guyana\", \"Haiti\", \"Honduras\", \"Hong Kong\", \"Hungary\", \"Iceland\", \"India\", \"Indonesia\", \"Iran\", \"Iraq\", \"Ireland\", \"Israel\", \"Italy\", \"Jamaica\", \"Japan\", \"Jordan\", \"Kazakhstan\", \"Kenya\", \"Kiribati\", \"Kuwait\", \"Kyrgyz Republic\", \"Latvia\", \"Lebanon\", \"Lesotho\", \"Liberia\", \"Libya\", \"Liechtenstein\", \"Lithuania\", \"Luxembourg\", \"Macedonia\", \"Madagascar\", \"Malawi\", \"Malaysia\", \"Maldives\", \"Mali\", \"Malta\", \"Marshall Islands\", \"Mauritania\", \"Mauritius\", \"Mexico\", \"Micronesia\", \"Moldova\", \"Mongolia\", \"Montenegro\", \"Morocco\", \"Mozambique\", \"Myanmar\", \"Namibia\", \"Nepal\", \"Netherlands\", \"New Caledonia\", \"New Zealand\", \"Nicaragua\", \"Niger\", \"Nigeria\", \"North Korea\", \"Norway\", \"Oman\", \"Pakistan\", \"Palau\", \"Panama\", \"Papua New Guinea\", \"Paraguay\", \"Peru\", \"Philippines\", \"Poland\", \"Portugal\", \"Qatar\", \"Rep Of Congo\", \"Romania\", \"Russian Federation\", \"Rwanda\", \"Samoa\", \"Sao Tome And Principe\", \"Saudi Arabia\", \"Senegal\", \"Serbia\", \"Seychelles\", \"Sierra Leone\", \"Singapore\", \"Slovak Republic\", \"Slovenia\", \"Solomon Islands\", \"Somalia\", \"South Africa\", \"South Korea\", \"Spain\", \"Sri Lanka\", \"St. Kitts And Nevis\", \"St. Lucia\", \"St. Vincent And The Grenadines\", \"Sudan\", \"Suriname\", \"Swaziland\", \"Sweden\", \"Switzerland\", \"Syria\", \"Tajikistan\", \"Tanzania\", \"Thailand\", \"Timor-Leste\", \"Togo\", \"Tonga\", \"Trinidad And Tobago\", \"Tunisia\", \"Turkey\", \"Turkmenistan\", \"Turks And Caicos Islands\", \"Uganda\", \"Ukraine\", \"United Arab Emirates\", \"United Kingdom\", \"United States\", \"Uruguay\", \"Uzbekistan\", \"Vanuatu\", \"Venezuela\", \"Vietnam\", \"West Bank And Gaza\", \"Yemen\", \"Zambia\", \"Zimbabwe\"], \"type\": \"scatter\", \"x\": [\"Afghanistan\", \"Albania\", \"Algeria\", \"Andorra\", \"Angola\", \"Antigua And Barbuda\", \"Argentina\", \"Armenia\", \"Aruba\", \"Australia\", \"Austria\", \"Azerbaijan\", \"Bahamas\", \"Bahrain\", \"Bangladesh\", \"Barbados\", \"Belarus\", \"Belgium\", \"Belize\", \"Benin\", \"Bermuda\", \"Bhutan\", \"Bolivia\", \"Bosnia And Herzegovina\", \"Botswana\", \"Brazil\", \"Brunei\", \"Bulgaria\", \"Burkina Faso\", \"Burundi\", \"Cabo Verde\", \"Cambodia\", \"Cameroon\", \"Canada\", \"Cayman Islands\", \"Central African Republic\", \"Chad\", \"Chile\", \"China\", \"Colombia\", \"Comoros\", \"Costa Rica\", \"Cote D'Ivoire\", \"Croatia\", \"Cuba\", \"Cyprus\", \"Czech Republic\", \"Dem Rep Of Congo\", \"Denmark\", \"Djibouti\", \"Dominica\", \"Dominican Republic\", \"Ecuador\", \"Egypt\", \"El Salvador\", \"Equatorial Guinea\", \"Eritrea\", \"Estonia\", \"Ethiopia\", \"Faroe Islands\", \"Fiji\", \"Finland\", \"France\", \"French Polynesia\", \"Gabon\", \"Gambia\", \"Georgia\", \"Germany\", \"Ghana\", \"Greece\", \"Greenland\", \"Grenada\", \"Guatemala\", \"Guinea\", \"Guinea-Bissau\", \"Guyana\", \"Haiti\", \"Honduras\", \"Hong Kong\", \"Hungary\", \"Iceland\", \"India\", \"Indonesia\", \"Iran\", \"Iraq\", \"Ireland\", \"Israel\", \"Italy\", \"Jamaica\", \"Japan\", \"Jordan\", \"Kazakhstan\", \"Kenya\", \"Kiribati\", \"Kuwait\", \"Kyrgyz Republic\", \"Latvia\", \"Lebanon\", \"Lesotho\", \"Liberia\", \"Libya\", \"Liechtenstein\", \"Lithuania\", \"Luxembourg\", \"Macedonia\", \"Madagascar\", \"Malawi\", \"Malaysia\", \"Maldives\", \"Mali\", \"Malta\", \"Marshall Islands\", \"Mauritania\", \"Mauritius\", \"Mexico\", \"Micronesia\", \"Moldova\", \"Mongolia\", \"Montenegro\", \"Morocco\", \"Mozambique\", \"Myanmar\", \"Namibia\", \"Nepal\", \"Netherlands\", \"New Caledonia\", \"New Zealand\", \"Nicaragua\", \"Niger\", \"Nigeria\", \"North Korea\", \"Norway\", \"Oman\", \"Pakistan\", \"Palau\", \"Panama\", \"Papua New Guinea\", \"Paraguay\", \"Peru\", \"Philippines\", \"Poland\", \"Portugal\", \"Qatar\", \"Rep Of Congo\", \"Romania\", \"Russian Federation\", \"Rwanda\", \"Samoa\", \"Sao Tome And Principe\", \"Saudi Arabia\", \"Senegal\", \"Serbia\", \"Seychelles\", \"Sierra Leone\", \"Singapore\", \"Slovak Republic\", \"Slovenia\", \"Solomon Islands\", \"Somalia\", \"South Africa\", \"South Korea\", \"Spain\", \"Sri Lanka\", \"St. Kitts And Nevis\", \"St. Lucia\", \"St. Vincent And The Grenadines\", \"Sudan\", \"Suriname\", \"Swaziland\", \"Sweden\", \"Switzerland\", \"Syria\", \"Tajikistan\", \"Tanzania\", \"Thailand\", \"Timor-Leste\", \"Togo\", \"Tonga\", \"Trinidad And Tobago\", \"Tunisia\", \"Turkey\", \"Turkmenistan\", \"Turks And Caicos Islands\", \"Uganda\", \"Ukraine\", \"United Arab Emirates\", \"United Kingdom\", \"United States\", \"Uruguay\", \"Uzbekistan\", \"Vanuatu\", \"Venezuela\", \"Vietnam\", \"West Bank And Gaza\", \"Yemen\", \"Zambia\", \"Zimbabwe\"], \"y\": [0.28405839525, 1.5589902850000001, 3.3149010507499996, 6.109688341, 1.38898996025, 5.8424209255, 4.5191147695, 1.6083068255000001, 24.4329883525, 17.14150675, 7.9421434025, 3.6631641812500004, 4.9144437645, 19.0096459475, 0.357242997, 5.678827056499999, 6.5434369404999995, 9.549095677499999, 1.59024848575, 0.51654866125, 6.611898576, 0.6498187864999999, 1.5047971182500002, 5.5785206495, 2.4003710855000002, 2.0404398565, 23.6881338675, 6.29748035975, 0.1132137545, 0.02109368575, 0.66846538925, 0.294271865, 0.30239695525, 15.0450322925, 10.509529025, 0.057790929000000005, 0.043934665500000004, 4.2872611605, 5.9930214765, 1.55198283375, 0.19212707875, 1.73597494675, 0.31487376675, 4.91653172, 2.97685027275, 7.2718482955, 10.647436814999999, 0.048411555499999995, 8.06247552425, 0.5909138327500001, 1.8177858495, 2.166777162, 2.26677479575, 2.52100862175, 1.07717882475, 7.1060590125, 0.10550484149999999, 12.988469175000002, 0.078277325, 12.38022819, 1.3007588, 10.57629175475, 5.4919193475000005, 3.26475359725, 1.42314719875, 0.261400667, 1.71977107725, 9.1068158215, 0.38504822275, 8.184885556, 11.511000922500001, 2.4565909255, 0.79886193625, 0.2109046295, 0.146313833, 2.2023759632499997, 0.22742108175000003, 1.1093182545, 5.427796236, 5.067106666250001, 6.297582869999999, 1.5911696112500002, 1.94115550875, 7.65638667825, 3.6215217802499997, 8.777336728500002, 8.98565933025, 6.98458716, 3.30652817225, 9.110150662, 3.6238251315, 14.731470315, 0.30446188575, 0.5407035339999999, 29.524765692499997, 1.144722178, 3.70567544375, 4.6259468864999995, 1.080763218, 0.17906383074999999, 8.98032785, 1.625174578, 4.3452778835000005, 21.4488862225, 4.372414546249999, 0.10105406424999999, 0.07941495675, 7.728885943750001, 2.9013078960000005, 0.07870584225, 6.09988420725, 1.94275300425, 0.59948035825, 3.0630770605, 3.9030840335, 1.29726067825, 1.3495270212500001, 4.77812083475, 3.931111854, 1.7057324830000002, 0.1149598535, 0.18829264299999998, 1.4647339237499999, 0.1428040985, 10.4472192025, 13.988881665, 7.49449056925, 0.8109174425000001, 0.0753136405, 0.5369786624999999, 3.0633475829999997, 10.54553473975, 16.93327393, 0.959097851, 10.5081496725, 2.3994912572500002, 0.7305931575, 0.7790577915000001, 1.741341651, 0.8507691402499999, 8.190269327500001, 4.950570175499999, 45.0240059, 0.4461822355, 4.196190672, 11.972753135, 0.05833015475, 1.11689421175, 0.5577929925, 17.594903872499998, 0.53416590275, 6.61258844175, 7.7426699425, 0.128383688, 4.17030300075, 6.604784321, 7.7785540404999995, 0.37524342325, 0.063087661, 9.316586486750001, 11.006670775, 6.247243987, 0.656350627, 4.98471548575, 2.2587014237500003, 2.13939185875, 0.33841777274999996, 4.48570515375, 0.89390852475, 5.288725067250001, 5.0579065524999995, 3.02046614725, 0.38126439075, 0.148237058, 4.29687236625, 0.17387205325, 0.2862780585, 1.14148145975, 36.875660247499994, 2.4289349952500006, 4.114653769, 11.3025025575, 6.0495082052499995, 0.10660566, 6.31789109625, 21.172672747500002, 7.741039550249999, 17.546655342500003, 2.2702701535, 3.9886769995, 0.50078954875, 6.5895687945, 1.7167489655, 0.560486745, 1.0065459785, 0.188319483, 0.6268868067500001]}],\n",
              "                        {\"height\": 500, \"template\": {\"data\": {\"bar\": [{\"error_x\": {\"color\": \"#2a3f5f\"}, \"error_y\": {\"color\": \"#2a3f5f\"}, \"marker\": {\"line\": {\"color\": \"#E5ECF6\", \"width\": 0.5}}, \"type\": \"bar\"}], \"barpolar\": [{\"marker\": {\"line\": {\"color\": \"#E5ECF6\", \"width\": 0.5}}, \"type\": \"barpolar\"}], \"carpet\": [{\"aaxis\": {\"endlinecolor\": \"#2a3f5f\", \"gridcolor\": \"white\", \"linecolor\": \"white\", \"minorgridcolor\": \"white\", \"startlinecolor\": \"#2a3f5f\"}, \"baxis\": {\"endlinecolor\": \"#2a3f5f\", \"gridcolor\": \"white\", \"linecolor\": \"white\", \"minorgridcolor\": \"white\", \"startlinecolor\": \"#2a3f5f\"}, \"type\": \"carpet\"}], \"choropleth\": [{\"colorbar\": {\"outlinewidth\": 0, \"ticks\": \"\"}, \"type\": \"choropleth\"}], \"contour\": [{\"colorbar\": {\"outlinewidth\": 0, \"ticks\": \"\"}, \"colorscale\": [[0.0, \"#0d0887\"], [0.1111111111111111, \"#46039f\"], [0.2222222222222222, \"#7201a8\"], [0.3333333333333333, \"#9c179e\"], [0.4444444444444444, \"#bd3786\"], [0.5555555555555556, \"#d8576b\"], [0.6666666666666666, \"#ed7953\"], [0.7777777777777778, \"#fb9f3a\"], [0.8888888888888888, \"#fdca26\"], [1.0, \"#f0f921\"]], \"type\": \"contour\"}], \"contourcarpet\": [{\"colorbar\": {\"outlinewidth\": 0, \"ticks\": \"\"}, \"type\": \"contourcarpet\"}], \"heatmap\": [{\"colorbar\": {\"outlinewidth\": 0, \"ticks\": \"\"}, \"colorscale\": [[0.0, \"#0d0887\"], [0.1111111111111111, \"#46039f\"], [0.2222222222222222, \"#7201a8\"], [0.3333333333333333, \"#9c179e\"], [0.4444444444444444, \"#bd3786\"], [0.5555555555555556, \"#d8576b\"], [0.6666666666666666, \"#ed7953\"], [0.7777777777777778, \"#fb9f3a\"], [0.8888888888888888, \"#fdca26\"], [1.0, \"#f0f921\"]], \"type\": \"heatmap\"}], \"heatmapgl\": [{\"colorbar\": {\"outlinewidth\": 0, \"ticks\": \"\"}, \"colorscale\": [[0.0, \"#0d0887\"], [0.1111111111111111, \"#46039f\"], [0.2222222222222222, \"#7201a8\"], [0.3333333333333333, \"#9c179e\"], [0.4444444444444444, \"#bd3786\"], [0.5555555555555556, \"#d8576b\"], [0.6666666666666666, \"#ed7953\"], [0.7777777777777778, \"#fb9f3a\"], [0.8888888888888888, \"#fdca26\"], [1.0, \"#f0f921\"]], \"type\": \"heatmapgl\"}], \"histogram\": [{\"marker\": {\"colorbar\": {\"outlinewidth\": 0, \"ticks\": \"\"}}, \"type\": \"histogram\"}], \"histogram2d\": [{\"colorbar\": {\"outlinewidth\": 0, \"ticks\": \"\"}, \"colorscale\": [[0.0, \"#0d0887\"], [0.1111111111111111, \"#46039f\"], [0.2222222222222222, \"#7201a8\"], [0.3333333333333333, \"#9c179e\"], [0.4444444444444444, \"#bd3786\"], [0.5555555555555556, \"#d8576b\"], [0.6666666666666666, \"#ed7953\"], [0.7777777777777778, \"#fb9f3a\"], [0.8888888888888888, \"#fdca26\"], [1.0, \"#f0f921\"]], \"type\": \"histogram2d\"}], \"histogram2dcontour\": [{\"colorbar\": {\"outlinewidth\": 0, \"ticks\": \"\"}, \"colorscale\": [[0.0, \"#0d0887\"], [0.1111111111111111, \"#46039f\"], [0.2222222222222222, \"#7201a8\"], [0.3333333333333333, \"#9c179e\"], [0.4444444444444444, \"#bd3786\"], [0.5555555555555556, \"#d8576b\"], [0.6666666666666666, \"#ed7953\"], [0.7777777777777778, \"#fb9f3a\"], [0.8888888888888888, \"#fdca26\"], [1.0, \"#f0f921\"]], \"type\": \"histogram2dcontour\"}], \"mesh3d\": [{\"colorbar\": {\"outlinewidth\": 0, \"ticks\": \"\"}, \"type\": \"mesh3d\"}], \"parcoords\": [{\"line\": {\"colorbar\": {\"outlinewidth\": 0, \"ticks\": \"\"}}, \"type\": \"parcoords\"}], \"pie\": [{\"automargin\": true, \"type\": \"pie\"}], \"scatter\": [{\"marker\": {\"colorbar\": {\"outlinewidth\": 0, \"ticks\": \"\"}}, \"type\": \"scatter\"}], \"scatter3d\": [{\"line\": {\"colorbar\": {\"outlinewidth\": 0, \"ticks\": \"\"}}, \"marker\": {\"colorbar\": {\"outlinewidth\": 0, \"ticks\": \"\"}}, \"type\": \"scatter3d\"}], \"scattercarpet\": [{\"marker\": {\"colorbar\": {\"outlinewidth\": 0, \"ticks\": \"\"}}, \"type\": \"scattercarpet\"}], \"scattergeo\": [{\"marker\": {\"colorbar\": {\"outlinewidth\": 0, \"ticks\": \"\"}}, \"type\": \"scattergeo\"}], \"scattergl\": [{\"marker\": {\"colorbar\": {\"outlinewidth\": 0, \"ticks\": \"\"}}, \"type\": \"scattergl\"}], \"scattermapbox\": [{\"marker\": {\"colorbar\": {\"outlinewidth\": 0, \"ticks\": \"\"}}, \"type\": \"scattermapbox\"}], \"scatterpolar\": [{\"marker\": {\"colorbar\": {\"outlinewidth\": 0, \"ticks\": \"\"}}, \"type\": \"scatterpolar\"}], \"scatterpolargl\": [{\"marker\": {\"colorbar\": {\"outlinewidth\": 0, \"ticks\": \"\"}}, \"type\": \"scatterpolargl\"}], \"scatterternary\": [{\"marker\": {\"colorbar\": {\"outlinewidth\": 0, \"ticks\": \"\"}}, \"type\": \"scatterternary\"}], \"surface\": [{\"colorbar\": {\"outlinewidth\": 0, \"ticks\": \"\"}, \"colorscale\": [[0.0, \"#0d0887\"], [0.1111111111111111, \"#46039f\"], [0.2222222222222222, \"#7201a8\"], [0.3333333333333333, \"#9c179e\"], [0.4444444444444444, \"#bd3786\"], [0.5555555555555556, \"#d8576b\"], [0.6666666666666666, \"#ed7953\"], [0.7777777777777778, \"#fb9f3a\"], [0.8888888888888888, \"#fdca26\"], [1.0, \"#f0f921\"]], \"type\": \"surface\"}], \"table\": [{\"cells\": {\"fill\": {\"color\": \"#EBF0F8\"}, \"line\": {\"color\": \"white\"}}, \"header\": {\"fill\": {\"color\": \"#C8D4E3\"}, \"line\": {\"color\": \"white\"}}, \"type\": \"table\"}]}, \"layout\": {\"annotationdefaults\": {\"arrowcolor\": \"#2a3f5f\", \"arrowhead\": 0, \"arrowwidth\": 1}, \"coloraxis\": {\"colorbar\": {\"outlinewidth\": 0, \"ticks\": \"\"}}, \"colorscale\": {\"diverging\": [[0, \"#8e0152\"], [0.1, \"#c51b7d\"], [0.2, \"#de77ae\"], [0.3, \"#f1b6da\"], [0.4, \"#fde0ef\"], [0.5, \"#f7f7f7\"], [0.6, \"#e6f5d0\"], [0.7, \"#b8e186\"], [0.8, \"#7fbc41\"], [0.9, \"#4d9221\"], [1, \"#276419\"]], \"sequential\": [[0.0, \"#0d0887\"], [0.1111111111111111, \"#46039f\"], [0.2222222222222222, \"#7201a8\"], [0.3333333333333333, \"#9c179e\"], [0.4444444444444444, \"#bd3786\"], [0.5555555555555556, \"#d8576b\"], [0.6666666666666666, \"#ed7953\"], [0.7777777777777778, \"#fb9f3a\"], [0.8888888888888888, \"#fdca26\"], [1.0, \"#f0f921\"]], \"sequentialminus\": [[0.0, \"#0d0887\"], [0.1111111111111111, \"#46039f\"], [0.2222222222222222, \"#7201a8\"], [0.3333333333333333, \"#9c179e\"], [0.4444444444444444, \"#bd3786\"], [0.5555555555555556, \"#d8576b\"], [0.6666666666666666, \"#ed7953\"], [0.7777777777777778, \"#fb9f3a\"], [0.8888888888888888, \"#fdca26\"], [1.0, \"#f0f921\"]]}, \"colorway\": [\"#636efa\", \"#EF553B\", \"#00cc96\", \"#ab63fa\", \"#FFA15A\", \"#19d3f3\", \"#FF6692\", \"#B6E880\", \"#FF97FF\", \"#FECB52\"], \"font\": {\"color\": \"#2a3f5f\"}, \"geo\": {\"bgcolor\": \"white\", \"lakecolor\": \"white\", \"landcolor\": \"#E5ECF6\", \"showlakes\": true, \"showland\": true, \"subunitcolor\": \"white\"}, \"hoverlabel\": {\"align\": \"left\"}, \"hovermode\": \"closest\", \"mapbox\": {\"style\": \"light\"}, \"paper_bgcolor\": \"white\", \"plot_bgcolor\": \"#E5ECF6\", \"polar\": {\"angularaxis\": {\"gridcolor\": \"white\", \"linecolor\": \"white\", \"ticks\": \"\"}, \"bgcolor\": \"#E5ECF6\", \"radialaxis\": {\"gridcolor\": \"white\", \"linecolor\": \"white\", \"ticks\": \"\"}}, \"scene\": {\"xaxis\": {\"backgroundcolor\": \"#E5ECF6\", \"gridcolor\": \"white\", \"gridwidth\": 2, \"linecolor\": \"white\", \"showbackground\": true, \"ticks\": \"\", \"zerolinecolor\": \"white\"}, \"yaxis\": {\"backgroundcolor\": \"#E5ECF6\", \"gridcolor\": \"white\", \"gridwidth\": 2, \"linecolor\": \"white\", \"showbackground\": true, \"ticks\": \"\", \"zerolinecolor\": \"white\"}, \"zaxis\": {\"backgroundcolor\": \"#E5ECF6\", \"gridcolor\": \"white\", \"gridwidth\": 2, \"linecolor\": \"white\", \"showbackground\": true, \"ticks\": \"\", \"zerolinecolor\": \"white\"}}, \"shapedefaults\": {\"line\": {\"color\": \"#2a3f5f\"}}, \"ternary\": {\"aaxis\": {\"gridcolor\": \"white\", \"linecolor\": \"white\", \"ticks\": \"\"}, \"baxis\": {\"gridcolor\": \"white\", \"linecolor\": \"white\", \"ticks\": \"\"}, \"bgcolor\": \"#E5ECF6\", \"caxis\": {\"gridcolor\": \"white\", \"linecolor\": \"white\", \"ticks\": \"\"}}, \"title\": {\"x\": 0.05}, \"xaxis\": {\"automargin\": true, \"gridcolor\": \"white\", \"linecolor\": \"white\", \"ticks\": \"\", \"title\": {\"standoff\": 15}, \"zerolinecolor\": \"white\", \"zerolinewidth\": 2}, \"yaxis\": {\"automargin\": true, \"gridcolor\": \"white\", \"linecolor\": \"white\", \"ticks\": \"\", \"title\": {\"standoff\": 15}, \"zerolinecolor\": \"white\", \"zerolinewidth\": 2}}}, \"title\": {\"text\": \"Average Emission by Country\"}, \"width\": 1000, \"xaxis\": {\"showticklabels\": false}, \"yaxis\": {\"dtick\": 5.0, \"title\": {\"text\": \"Average Emission\"}}},\n",
              "                        {\"responsive\": true}\n",
              "                    ).then(function(){\n",
              "                            \n",
              "var gd = document.getElementById('111564ae-ba93-463f-a1c8-9c53dbabda82');\n",
              "var x = new MutationObserver(function (mutations, observer) {{\n",
              "        var display = window.getComputedStyle(gd).display;\n",
              "        if (!display || display === 'none') {{\n",
              "            console.log([gd, 'removed!']);\n",
              "            Plotly.purge(gd);\n",
              "            observer.disconnect();\n",
              "        }}\n",
              "}});\n",
              "\n",
              "// Listen for the removal of the full notebook cells\n",
              "var notebookContainer = gd.closest('#notebook-container');\n",
              "if (notebookContainer) {{\n",
              "    x.observe(notebookContainer, {childList: true});\n",
              "}}\n",
              "\n",
              "// Listen for the clearing of the current output cell\n",
              "var outputEl = gd.closest('.output');\n",
              "if (outputEl) {{\n",
              "    x.observe(outputEl, {childList: true});\n",
              "}}\n",
              "\n",
              "                        })\n",
              "                };\n",
              "                \n",
              "            </script>\n",
              "        </div>\n",
              "</body>\n",
              "</html>"
            ]
          },
          "metadata": {
            "tags": []
          }
        }
      ]
    },
    {
      "cell_type": "code",
      "metadata": {
        "colab": {
          "base_uri": "https://localhost:8080/",
          "height": 235
        },
        "id": "extreme-failing",
        "outputId": "bab6bbe2-9251-471a-a318-b5bdd246ab70"
      },
      "source": [
        "mean_emission_continent = pd.DataFrame(df.groupby(['Continent'])['Emission'].mean()).reset_index()\n",
        "mean_emission_continent"
      ],
      "id": "extreme-failing",
      "execution_count": 8,
      "outputs": [
        {
          "output_type": "execute_result",
          "data": {
            "text/html": [
              "<div>\n",
              "<style scoped>\n",
              "    .dataframe tbody tr th:only-of-type {\n",
              "        vertical-align: middle;\n",
              "    }\n",
              "\n",
              "    .dataframe tbody tr th {\n",
              "        vertical-align: top;\n",
              "    }\n",
              "\n",
              "    .dataframe thead th {\n",
              "        text-align: right;\n",
              "    }\n",
              "</style>\n",
              "<table border=\"1\" class=\"dataframe\">\n",
              "  <thead>\n",
              "    <tr style=\"text-align: right;\">\n",
              "      <th></th>\n",
              "      <th>Continent</th>\n",
              "      <th>Emission</th>\n",
              "    </tr>\n",
              "  </thead>\n",
              "  <tbody>\n",
              "    <tr>\n",
              "      <th>0</th>\n",
              "      <td>Africa</td>\n",
              "      <td>1.215859</td>\n",
              "    </tr>\n",
              "    <tr>\n",
              "      <th>1</th>\n",
              "      <td>Asia</td>\n",
              "      <td>7.154809</td>\n",
              "    </tr>\n",
              "    <tr>\n",
              "      <th>2</th>\n",
              "      <td>Europe</td>\n",
              "      <td>6.759568</td>\n",
              "    </tr>\n",
              "    <tr>\n",
              "      <th>3</th>\n",
              "      <td>North America</td>\n",
              "      <td>5.790549</td>\n",
              "    </tr>\n",
              "    <tr>\n",
              "      <th>4</th>\n",
              "      <td>Oceania</td>\n",
              "      <td>4.381733</td>\n",
              "    </tr>\n",
              "    <tr>\n",
              "      <th>5</th>\n",
              "      <td>South America</td>\n",
              "      <td>4.513206</td>\n",
              "    </tr>\n",
              "  </tbody>\n",
              "</table>\n",
              "</div>"
            ],
            "text/plain": [
              "       Continent  Emission\n",
              "0         Africa  1.215859\n",
              "1           Asia  7.154809\n",
              "2         Europe  6.759568\n",
              "3  North America  5.790549\n",
              "4        Oceania  4.381733\n",
              "5  South America  4.513206"
            ]
          },
          "metadata": {
            "tags": []
          },
          "execution_count": 8
        }
      ]
    },
    {
      "cell_type": "code",
      "metadata": {
        "id": "suspected-point"
      },
      "source": [
        "emission_2008 = df[df['Year'] == 2008]\n",
        "emission_2009 = df[df['Year'] == 2009]\n",
        "emission_2010 = df[df['Year'] == 2010]\n",
        "emission_2011 = df[df['Year'] == 2011]"
      ],
      "id": "suspected-point",
      "execution_count": 9,
      "outputs": []
    },
    {
      "cell_type": "code",
      "metadata": {
        "colab": {
          "base_uri": "https://localhost:8080/",
          "height": 717
        },
        "id": "broke-giant",
        "outputId": "7f5323bb-aa75-4233-e730-e89e876be8d3"
      },
      "source": [
        "trace1 = go.Scatter(x=emission_2008.Country, y=emission_2008.Emission, \n",
        "                   mode='lines+markers', name='2008',\n",
        "                   text=emission_2008.Country)\n",
        "trace2 = go.Scatter(x=emission_2009.Country, y=emission_2009.Emission, \n",
        "                   mode='lines+markers', name='2009',\n",
        "                   text=emission_2009.Country)\n",
        "trace3 = go.Scatter(x=emission_2010.Country, y=emission_2010.Emission, \n",
        "                   mode='lines+markers', name='2010',\n",
        "                   text=emission_2010.Country)\n",
        "trace4 = go.Scatter(x=emission_2011.Country, y=emission_2011.Emission, \n",
        "                   mode='lines+markers', name='2011',\n",
        "                   text=emission_2011.Country)\n",
        "data = [trace1, trace2, trace3, trace4]\n",
        "layout = dict(title='Average Emission by Country over 4 years', \n",
        "              yaxis=dict(title='Average Emission', dtick=5.0),\n",
        "              xaxis=dict(showticklabels=False),\n",
        "              height=700, width=1000)\n",
        "fig = go.Figure(data=data, layout=layout)\n",
        "iplot(fig)"
      ],
      "id": "broke-giant",
      "execution_count": 10,
      "outputs": [
        {
          "output_type": "display_data",
          "data": {
            "text/html": [
              "<html>\n",
              "<head><meta charset=\"utf-8\" /></head>\n",
              "<body>\n",
              "    <div>\n",
              "            <script src=\"https://cdnjs.cloudflare.com/ajax/libs/mathjax/2.7.5/MathJax.js?config=TeX-AMS-MML_SVG\"></script><script type=\"text/javascript\">if (window.MathJax) {MathJax.Hub.Config({SVG: {font: \"STIX-Web\"}});}</script>\n",
              "                <script type=\"text/javascript\">window.PlotlyConfig = {MathJaxConfig: 'local'};</script>\n",
              "        <script src=\"https://cdn.plot.ly/plotly-latest.min.js\"></script>    \n",
              "            <div id=\"a176af5b-8d20-4859-9218-052c53f8e1af\" class=\"plotly-graph-div\" style=\"height:700px; width:1000px;\"></div>\n",
              "            <script type=\"text/javascript\">\n",
              "                \n",
              "                    window.PLOTLYENV=window.PLOTLYENV || {};\n",
              "                    \n",
              "                if (document.getElementById(\"a176af5b-8d20-4859-9218-052c53f8e1af\")) {\n",
              "                    Plotly.newPlot(\n",
              "                        'a176af5b-8d20-4859-9218-052c53f8e1af',\n",
              "                        [{\"mode\": \"lines+markers\", \"name\": \"2008\", \"text\": [\"Aruba\", \"Andorra\", \"Afghanistan\", \"Angola\", \"Albania\", \"United Arab Emirates\", \"Argentina\", \"Armenia\", \"Antigua And Barbuda\", \"Australia\", \"Austria\", \"Azerbaijan\", \"Burundi\", \"Belgium\", \"Benin\", \"Burkina Faso\", \"Bangladesh\", \"Bulgaria\", \"Bahrain\", \"Bahamas\", \"Bosnia And Herzegovina\", \"Belarus\", \"Belize\", \"Bermuda\", \"Bolivia\", \"Brazil\", \"Barbados\", \"Brunei\", \"Bhutan\", \"Botswana\", \"Central African Republic\", \"Canada\", \"Switzerland\", \"Chile\", \"China\", \"Cote D'Ivoire\", \"Cameroon\", \"Rep Of Congo\", \"Colombia\", \"Comoros\", \"Cabo Verde\", \"Costa Rica\", \"Cuba\", \"Cayman Islands\", \"Cyprus\", \"Czech Republic\", \"Germany\", \"Djibouti\", \"Dominica\", \"Denmark\", \"Dominican Republic\", \"Algeria\", \"Ecuador\", \"Egypt\", \"Eritrea\", \"Spain\", \"Estonia\", \"Ethiopia\", \"Finland\", \"Fiji\", \"France\", \"Faroe Islands\", \"Micronesia\", \"Gabon\", \"United Kingdom\", \"Georgia\", \"Ghana\", \"Guinea\", \"Gambia\", \"Guinea-Bissau\", \"Equatorial Guinea\", \"Greece\", \"Grenada\", \"Greenland\", \"Guatemala\", \"Guyana\", \"Hong Kong\", \"Honduras\", \"Croatia\", \"Haiti\", \"Hungary\", \"Indonesia\", \"India\", \"Ireland\", \"Iran\", \"Iraq\", \"Iceland\", \"Israel\", \"Italy\", \"Jamaica\", \"Jordan\", \"Japan\", \"Kazakhstan\", \"Kenya\", \"Kyrgyz Republic\", \"Cambodia\", \"Kiribati\", \"St. Kitts And Nevis\", \"South Korea\", \"Kuwait\", \"Lebanon\", \"Liberia\", \"Libya\", \"St. Lucia\", \"Liechtenstein\", \"Sri Lanka\", \"Lesotho\", \"Lithuania\", \"Luxembourg\", \"Latvia\", \"Morocco\", \"Moldova\", \"Madagascar\", \"Maldives\", \"Mexico\", \"Marshall Islands\", \"Macedonia\", \"Mali\", \"Malta\", \"Myanmar\", \"Montenegro\", \"Mongolia\", \"Mozambique\", \"Mauritania\", \"Mauritius\", \"Malawi\", \"Malaysia\", \"Namibia\", \"New Caledonia\", \"Niger\", \"Nigeria\", \"Nicaragua\", \"Netherlands\", \"Norway\", \"Nepal\", \"New Zealand\", \"Oman\", \"Pakistan\", \"Panama\", \"Peru\", \"Philippines\", \"Palau\", \"Papua New Guinea\", \"Poland\", \"North Korea\", \"Portugal\", \"Paraguay\", \"French Polynesia\", \"Qatar\", \"Romania\", \"Russian Federation\", \"Rwanda\", \"Saudi Arabia\", \"Sudan\", \"Senegal\", \"Singapore\", \"Solomon Islands\", \"Sierra Leone\", \"El Salvador\", \"Somalia\", \"Serbia\", \"Sao Tome And Principe\", \"Suriname\", \"Slovak Republic\", \"Slovenia\", \"Sweden\", \"Swaziland\", \"Seychelles\", \"Syria\", \"Turks And Caicos Islands\", \"Chad\", \"Togo\", \"Thailand\", \"Tajikistan\", \"Turkmenistan\", \"Timor-Leste\", \"Tonga\", \"Trinidad And Tobago\", \"Tunisia\", \"Turkey\", \"Tanzania\", \"Uganda\", \"Ukraine\", \"Uruguay\", \"United States\", \"Uzbekistan\", \"St. Vincent And The Grenadines\", \"Venezuela\", \"Vietnam\", \"Vanuatu\", \"West Bank And Gaza\", \"Samoa\", \"Yemen\", \"South Africa\", \"Dem Rep Of Congo\", \"Zambia\", \"Zimbabwe\"], \"type\": \"scatter\", \"x\": [\"Aruba\", \"Andorra\", \"Afghanistan\", \"Angola\", \"Albania\", \"United Arab Emirates\", \"Argentina\", \"Armenia\", \"Antigua And Barbuda\", \"Australia\", \"Austria\", \"Azerbaijan\", \"Burundi\", \"Belgium\", \"Benin\", \"Burkina Faso\", \"Bangladesh\", \"Bulgaria\", \"Bahrain\", \"Bahamas\", \"Bosnia And Herzegovina\", \"Belarus\", \"Belize\", \"Bermuda\", \"Bolivia\", \"Brazil\", \"Barbados\", \"Brunei\", \"Bhutan\", \"Botswana\", \"Central African Republic\", \"Canada\", \"Switzerland\", \"Chile\", \"China\", \"Cote D'Ivoire\", \"Cameroon\", \"Rep Of Congo\", \"Colombia\", \"Comoros\", \"Cabo Verde\", \"Costa Rica\", \"Cuba\", \"Cayman Islands\", \"Cyprus\", \"Czech Republic\", \"Germany\", \"Djibouti\", \"Dominica\", \"Denmark\", \"Dominican Republic\", \"Algeria\", \"Ecuador\", \"Egypt\", \"Eritrea\", \"Spain\", \"Estonia\", \"Ethiopia\", \"Finland\", \"Fiji\", \"France\", \"Faroe Islands\", \"Micronesia\", \"Gabon\", \"United Kingdom\", \"Georgia\", \"Ghana\", \"Guinea\", \"Gambia\", \"Guinea-Bissau\", \"Equatorial Guinea\", \"Greece\", \"Grenada\", \"Greenland\", \"Guatemala\", \"Guyana\", \"Hong Kong\", \"Honduras\", \"Croatia\", \"Haiti\", \"Hungary\", \"Indonesia\", \"India\", \"Ireland\", \"Iran\", \"Iraq\", \"Iceland\", \"Israel\", \"Italy\", \"Jamaica\", \"Jordan\", \"Japan\", \"Kazakhstan\", \"Kenya\", \"Kyrgyz Republic\", \"Cambodia\", \"Kiribati\", \"St. Kitts And Nevis\", \"South Korea\", \"Kuwait\", \"Lebanon\", \"Liberia\", \"Libya\", \"St. Lucia\", \"Liechtenstein\", \"Sri Lanka\", \"Lesotho\", \"Lithuania\", \"Luxembourg\", \"Latvia\", \"Morocco\", \"Moldova\", \"Madagascar\", \"Maldives\", \"Mexico\", \"Marshall Islands\", \"Macedonia\", \"Mali\", \"Malta\", \"Myanmar\", \"Montenegro\", \"Mongolia\", \"Mozambique\", \"Mauritania\", \"Mauritius\", \"Malawi\", \"Malaysia\", \"Namibia\", \"New Caledonia\", \"Niger\", \"Nigeria\", \"Nicaragua\", \"Netherlands\", \"Norway\", \"Nepal\", \"New Zealand\", \"Oman\", \"Pakistan\", \"Panama\", \"Peru\", \"Philippines\", \"Palau\", \"Papua New Guinea\", \"Poland\", \"North Korea\", \"Portugal\", \"Paraguay\", \"French Polynesia\", \"Qatar\", \"Romania\", \"Russian Federation\", \"Rwanda\", \"Saudi Arabia\", \"Sudan\", \"Senegal\", \"Singapore\", \"Solomon Islands\", \"Sierra Leone\", \"El Salvador\", \"Somalia\", \"Serbia\", \"Sao Tome And Principe\", \"Suriname\", \"Slovak Republic\", \"Slovenia\", \"Sweden\", \"Swaziland\", \"Seychelles\", \"Syria\", \"Turks And Caicos Islands\", \"Chad\", \"Togo\", \"Thailand\", \"Tajikistan\", \"Turkmenistan\", \"Timor-Leste\", \"Tonga\", \"Trinidad And Tobago\", \"Tunisia\", \"Turkey\", \"Tanzania\", \"Uganda\", \"Ukraine\", \"Uruguay\", \"United States\", \"Uzbekistan\", \"St. Vincent And The Grenadines\", \"Venezuela\", \"Vietnam\", \"Vanuatu\", \"West Bank And Gaza\", \"Samoa\", \"Yemen\", \"South Africa\", \"Dem Rep Of Congo\", \"Zambia\", \"Zimbabwe\"], \"y\": [24.75013321, 6.2961245560000005, 0.158961558, 1.369424769, 1.5801132830000002, 23.03360047, 4.744178401, 1.868611029, 5.628318687999999, 17.70407968, 8.262046031, 4.051383481, 0.021615102, 9.699598963, 0.5001833729999999, 0.115427271, 0.33443966199999997, 6.778939404, 21.51999548, 2.99808943, 5.231546645, 6.592748741, 1.473195826, 5.955019687, 1.412189336, 1.9904289419999999, 5.8711140760000005, 26.33827137, 0.606778515, 2.530551369, 0.054828457000000004, 16.36616459, 5.281605848, 4.316439805, 5.311151855, 0.356768972, 0.283310454, 0.34155941, 1.4511473069999998, 0.181858212, 0.591177784, 1.8800645040000001, 2.6964384010000004, 11.22444969, 7.9297713110000005, 11.24012897, 9.525658763, 0.615968351, 1.81071091, 8.547356106, 2.222311005, 3.205182841, 2.064521305, 2.4918530309999998, 0.092069391, 7.16545181, 13.08183443, 0.076668381, 10.65165217, 1.278570124, 5.774521922000001, 12.97012071, 1.1583103609999998, 1.39589453, 8.437773199999999, 1.592369727, 0.395319087, 0.19166076199999998, 0.258833628, 0.145619048, 6.562117562, 8.829327935, 2.5050224180000003, 11.71815083, 0.8110366379999999, 2.083255358, 5.5438749320000005, 1.194640242, 5.269158157, 0.250131013, 5.463501182000001, 1.752149102, 1.497886363, 9.527000515, 7.533279752, 3.194050322, 6.677481144, 9.340594762, 7.60176497, 4.476814921, 3.689815762, 9.4229613, 14.65957764, 0.267801815, 1.069343449, 0.285282402, 0.558783791, 4.880433719, 10.36983266, 30.58126375, 4.202060939, 0.156752837, 9.136624366, 2.292817072, 1.95047731, 0.602955794, 1.056111113, 4.598897641000001, 22.38547222, 3.629405756, 1.6873755680000002, 1.337336013, 0.099740761, 2.78570442, 4.126988108, 1.895961395, 4.574681817, 0.075281844, 6.252313871, 0.176918537, 4.457679397, 3.81388549, 0.10174209699999999, 0.567036613, 3.0299914560000003, 0.082545714, 7.656532739, 1.6916325209999998, 13.53130952, 0.060771767000000004, 0.613327639, 0.7904876270000001, 10.52945151, 10.55446109, 0.11450154, 8.044536127999999, 14.479797199999998, 0.9753141240000001, 2.107748953, 1.441345465, 0.841040935, 10.33366293, 0.73337006, 8.273068216, 3.220672403, 5.24374293, 0.7198006790000001, 3.306029055, 48.60161977, 4.6581432110000005, 12.01913064, 0.055661387, 15.63931332, 0.318940846, 0.44496812399999996, 4.927577946, 0.378784688, 0.120200375, 1.090169563, 0.065850768, 7.058387624, 0.515547541, 4.84197988, 7.0105585679999995, 8.532016271, 5.326109585, 0.950321127, 7.9702723220000005, 3.360814123, 6.094874665, 0.045756274000000006, 0.285947797, 3.984059667, 0.409462437, 11.55757176, 0.18501693100000002, 1.17696662, 35.45529782, 2.403507634, 4.055396583, 0.147981815, 0.10191882599999999, 6.724046202, 2.471053756, 18.48923375, 4.434466025, 2.11625521, 6.6048922999999995, 1.497496085, 0.406838707, 0.570947494, 1.0394897509999999, 0.9899045809999999, 9.506481163, 0.048411373, 0.164691753, 0.569255428]}, {\"mode\": \"lines+markers\", \"name\": \"2009\", \"text\": [\"Aruba\", \"Andorra\", \"Afghanistan\", \"Angola\", \"Albania\", \"United Arab Emirates\", \"Argentina\", \"Armenia\", \"Antigua And Barbuda\", \"Australia\", \"Austria\", \"Azerbaijan\", \"Burundi\", \"Belgium\", \"Benin\", \"Burkina Faso\", \"Bangladesh\", \"Bulgaria\", \"Bahrain\", \"Bahamas\", \"Bosnia And Herzegovina\", \"Belarus\", \"Belize\", \"Bermuda\", \"Bolivia\", \"Brazil\", \"Barbados\", \"Brunei\", \"Bhutan\", \"Botswana\", \"Central African Republic\", \"Canada\", \"Switzerland\", \"Chile\", \"China\", \"Cote D'Ivoire\", \"Cameroon\", \"Rep Of Congo\", \"Colombia\", \"Comoros\", \"Cabo Verde\", \"Costa Rica\", \"Cuba\", \"Cayman Islands\", \"Cyprus\", \"Czech Republic\", \"Germany\", \"Djibouti\", \"Dominica\", \"Denmark\", \"Dominican Republic\", \"Algeria\", \"Ecuador\", \"Egypt\", \"Eritrea\", \"Spain\", \"Estonia\", \"Ethiopia\", \"Finland\", \"Fiji\", \"France\", \"Faroe Islands\", \"Micronesia\", \"Gabon\", \"United Kingdom\", \"Georgia\", \"Ghana\", \"Guinea\", \"Gambia\", \"Guinea-Bissau\", \"Equatorial Guinea\", \"Greece\", \"Grenada\", \"Greenland\", \"Guatemala\", \"Guyana\", \"Hong Kong\", \"Honduras\", \"Croatia\", \"Haiti\", \"Hungary\", \"Indonesia\", \"India\", \"Ireland\", \"Iran\", \"Iraq\", \"Iceland\", \"Israel\", \"Italy\", \"Jamaica\", \"Jordan\", \"Japan\", \"Kazakhstan\", \"Kenya\", \"Kyrgyz Republic\", \"Cambodia\", \"Kiribati\", \"St. Kitts And Nevis\", \"South Korea\", \"Kuwait\", \"Lebanon\", \"Liberia\", \"Libya\", \"St. Lucia\", \"Liechtenstein\", \"Sri Lanka\", \"Lesotho\", \"Lithuania\", \"Luxembourg\", \"Latvia\", \"Morocco\", \"Moldova\", \"Madagascar\", \"Maldives\", \"Mexico\", \"Marshall Islands\", \"Macedonia\", \"Mali\", \"Malta\", \"Myanmar\", \"Montenegro\", \"Mongolia\", \"Mozambique\", \"Mauritania\", \"Mauritius\", \"Malawi\", \"Malaysia\", \"Namibia\", \"New Caledonia\", \"Niger\", \"Nigeria\", \"Nicaragua\", \"Netherlands\", \"Norway\", \"Nepal\", \"New Zealand\", \"Oman\", \"Pakistan\", \"Panama\", \"Peru\", \"Philippines\", \"Palau\", \"Papua New Guinea\", \"Poland\", \"North Korea\", \"Portugal\", \"Paraguay\", \"French Polynesia\", \"Qatar\", \"Romania\", \"Russian Federation\", \"Rwanda\", \"Saudi Arabia\", \"Sudan\", \"Senegal\", \"Singapore\", \"Solomon Islands\", \"Sierra Leone\", \"El Salvador\", \"Somalia\", \"Serbia\", \"Sao Tome And Principe\", \"Suriname\", \"Slovak Republic\", \"Slovenia\", \"Sweden\", \"Swaziland\", \"Seychelles\", \"Syria\", \"Turks And Caicos Islands\", \"Chad\", \"Togo\", \"Thailand\", \"Tajikistan\", \"Turkmenistan\", \"Timor-Leste\", \"Tonga\", \"Trinidad And Tobago\", \"Tunisia\", \"Turkey\", \"Tanzania\", \"Uganda\", \"Ukraine\", \"Uruguay\", \"United States\", \"Uzbekistan\", \"St. Vincent And The Grenadines\", \"Venezuela\", \"Vietnam\", \"Vanuatu\", \"West Bank And Gaza\", \"Samoa\", \"Yemen\", \"South Africa\", \"Dem Rep Of Congo\", \"Zambia\", \"Zimbabwe\"], \"type\": \"scatter\", \"x\": [\"Aruba\", \"Andorra\", \"Afghanistan\", \"Angola\", \"Albania\", \"United Arab Emirates\", \"Argentina\", \"Armenia\", \"Antigua And Barbuda\", \"Australia\", \"Austria\", \"Azerbaijan\", \"Burundi\", \"Belgium\", \"Benin\", \"Burkina Faso\", \"Bangladesh\", \"Bulgaria\", \"Bahrain\", \"Bahamas\", \"Bosnia And Herzegovina\", \"Belarus\", \"Belize\", \"Bermuda\", \"Bolivia\", \"Brazil\", \"Barbados\", \"Brunei\", \"Bhutan\", \"Botswana\", \"Central African Republic\", \"Canada\", \"Switzerland\", \"Chile\", \"China\", \"Cote D'Ivoire\", \"Cameroon\", \"Rep Of Congo\", \"Colombia\", \"Comoros\", \"Cabo Verde\", \"Costa Rica\", \"Cuba\", \"Cayman Islands\", \"Cyprus\", \"Czech Republic\", \"Germany\", \"Djibouti\", \"Dominica\", \"Denmark\", \"Dominican Republic\", \"Algeria\", \"Ecuador\", \"Egypt\", \"Eritrea\", \"Spain\", \"Estonia\", \"Ethiopia\", \"Finland\", \"Fiji\", \"France\", \"Faroe Islands\", \"Micronesia\", \"Gabon\", \"United Kingdom\", \"Georgia\", \"Ghana\", \"Guinea\", \"Gambia\", \"Guinea-Bissau\", \"Equatorial Guinea\", \"Greece\", \"Grenada\", \"Greenland\", \"Guatemala\", \"Guyana\", \"Hong Kong\", \"Honduras\", \"Croatia\", \"Haiti\", \"Hungary\", \"Indonesia\", \"India\", \"Ireland\", \"Iran\", \"Iraq\", \"Iceland\", \"Israel\", \"Italy\", \"Jamaica\", \"Jordan\", \"Japan\", \"Kazakhstan\", \"Kenya\", \"Kyrgyz Republic\", \"Cambodia\", \"Kiribati\", \"St. Kitts And Nevis\", \"South Korea\", \"Kuwait\", \"Lebanon\", \"Liberia\", \"Libya\", \"St. Lucia\", \"Liechtenstein\", \"Sri Lanka\", \"Lesotho\", \"Lithuania\", \"Luxembourg\", \"Latvia\", \"Morocco\", \"Moldova\", \"Madagascar\", \"Maldives\", \"Mexico\", \"Marshall Islands\", \"Macedonia\", \"Mali\", \"Malta\", \"Myanmar\", \"Montenegro\", \"Mongolia\", \"Mozambique\", \"Mauritania\", \"Mauritius\", \"Malawi\", \"Malaysia\", \"Namibia\", \"New Caledonia\", \"Niger\", \"Nigeria\", \"Nicaragua\", \"Netherlands\", \"Norway\", \"Nepal\", \"New Zealand\", \"Oman\", \"Pakistan\", \"Panama\", \"Peru\", \"Philippines\", \"Palau\", \"Papua New Guinea\", \"Poland\", \"North Korea\", \"Portugal\", \"Paraguay\", \"French Polynesia\", \"Qatar\", \"Romania\", \"Russian Federation\", \"Rwanda\", \"Saudi Arabia\", \"Sudan\", \"Senegal\", \"Singapore\", \"Solomon Islands\", \"Sierra Leone\", \"El Salvador\", \"Somalia\", \"Serbia\", \"Sao Tome And Principe\", \"Suriname\", \"Slovak Republic\", \"Slovenia\", \"Sweden\", \"Swaziland\", \"Seychelles\", \"Syria\", \"Turks And Caicos Islands\", \"Chad\", \"Togo\", \"Thailand\", \"Tajikistan\", \"Turkmenistan\", \"Timor-Leste\", \"Tonga\", \"Trinidad And Tobago\", \"Tunisia\", \"Turkey\", \"Tanzania\", \"Uganda\", \"Ukraine\", \"Uruguay\", \"United States\", \"Uzbekistan\", \"St. Vincent And The Grenadines\", \"Venezuela\", \"Vietnam\", \"Vanuatu\", \"West Bank And Gaza\", \"Samoa\", \"Yemen\", \"South Africa\", \"Dem Rep Of Congo\", \"Zambia\", \"Zimbabwe\"], \"y\": [24.87670585, 6.0491728479999995, 0.24907353, 1.430873373, 1.5331780940000002, 21.10229562, 4.427960113, 1.469960972, 5.906292005, 17.63183305, 7.608851293, 3.5656682180000003, 0.020867636999999998, 9.634775755, 0.514277812, 0.10977408699999999, 0.352155282, 5.729715977000001, 18.13623374, 4.630520322, 5.37188996, 6.341938992, 1.495185156, 7.095328782999999, 1.459841011, 1.866522375, 5.833678078999999, 22.14902862, 0.549145981, 2.192294586, 0.053809109, 15.08909766, 5.3722911820000006, 3.969434147, 5.778143184, 0.297496879, 0.332458227, 0.431598927, 1.4847642509999999, 0.17747581899999998, 0.625391176, 1.693682921, 2.646355786, 10.33528599, 7.438338502000001, 10.30516177, 8.803954839, 0.563399208, 1.807803366, 8.05955954, 2.103476066, 3.4284716389999996, 2.355257087, 2.462249164, 0.111761081, 6.216973378, 11.04896311, 0.076906232, 9.958628519, 0.994392232, 5.511405389, 11.8429021, 1.622550764, 1.423082894, 7.598999602999999, 1.576312217, 0.325052954, 0.196768408, 0.266259849, 0.14697100300000002, 6.533815076000001, 8.544324727000001, 2.425962147, 10.221738900000002, 0.864736542, 2.085662452, 5.305811582, 1.058414368, 4.866616935, 0.22963054800000002, 4.867185924, 1.90009103, 1.619048654, 8.891436541000001, 7.59209277, 3.47996689, 6.447492771, 8.612962755, 6.795651486000001, 3.204231319, 3.70109721, 8.598621997999999, 13.30972781, 0.31450114, 1.180486133, 0.292181175, 0.401099775, 5.034263395, 10.346506100000001, 29.72170379, 5.001002214, 0.138178275, 10.037076800000001, 2.1977385330000003, 1.527746917, 0.644280244, 1.06118278, 3.925637608, 20.87712517, 3.443266443, 1.654806038, 1.276290637, 0.09249932599999999, 2.9641583330000003, 3.8571495989999995, 1.962424266, 4.224605133, 0.078108539, 5.796405618, 0.20223217100000002, 2.953556075, 4.140116094, 0.108702094, 0.608387039, 2.963163435, 0.073703111, 7.373235987999999, 1.4788234480000002, 11.57082986, 0.073470122, 0.46253578700000003, 0.8037302820000001, 10.24561928, 10.81860557, 0.136102525, 7.511955097, 13.92679701, 0.9625487859999999, 2.415888235, 1.771065546, 0.8160548120000001, 10.27423319, 0.7609226090000001, 7.81735027, 3.08670211, 5.158593379, 0.737248172, 3.288268805, 44.83640145, 3.997649195, 11.02611624, 0.057430655, 17.69022548, 0.34343068200000004, 0.46487361299999996, 4.778242444, 0.377551397, 0.11558412900000001, 1.070009174, 0.063880736, 6.3008344570000006, 0.548308572, 4.829500002, 6.3190732370000005, 7.547335376, 4.7043687080000005, 0.890557455, 8.485119934, 3.012318451, 5.940523027, 0.042689415, 0.270613774, 4.198511915, 0.38277455299999996, 10.11066086, 0.174891045, 1.276514272, 36.56944789, 2.3741573430000003, 3.898959122, 0.139972868, 0.105319919, 5.64701422, 2.401221496, 17.192379100000004, 3.9120530189999996, 2.1145119219999997, 6.525292812999999, 1.636370776, 0.508462532, 0.564577775, 1.072106118, 1.026251462, 9.545494788, 0.045604097, 0.184057876, 0.6005211570000001]}, {\"mode\": \"lines+markers\", \"name\": \"2010\", \"text\": [\"Aruba\", \"Andorra\", \"Afghanistan\", \"Angola\", \"Albania\", \"United Arab Emirates\", \"Argentina\", \"Armenia\", \"Antigua And Barbuda\", \"Australia\", \"Austria\", \"Azerbaijan\", \"Burundi\", \"Belgium\", \"Benin\", \"Burkina Faso\", \"Bangladesh\", \"Bulgaria\", \"Bahrain\", \"Bahamas\", \"Bosnia And Herzegovina\", \"Belarus\", \"Belize\", \"Bermuda\", \"Bolivia\", \"Brazil\", \"Barbados\", \"Brunei\", \"Bhutan\", \"Botswana\", \"Central African Republic\", \"Canada\", \"Switzerland\", \"Chile\", \"China\", \"Cote D'Ivoire\", \"Cameroon\", \"Rep Of Congo\", \"Colombia\", \"Comoros\", \"Cabo Verde\", \"Costa Rica\", \"Cuba\", \"Cayman Islands\", \"Cyprus\", \"Czech Republic\", \"Germany\", \"Djibouti\", \"Dominica\", \"Denmark\", \"Dominican Republic\", \"Algeria\", \"Ecuador\", \"Egypt\", \"Eritrea\", \"Spain\", \"Estonia\", \"Ethiopia\", \"Finland\", \"Fiji\", \"France\", \"Faroe Islands\", \"Micronesia\", \"Gabon\", \"United Kingdom\", \"Georgia\", \"Ghana\", \"Guinea\", \"Gambia\", \"Guinea-Bissau\", \"Equatorial Guinea\", \"Greece\", \"Grenada\", \"Greenland\", \"Guatemala\", \"Guyana\", \"Hong Kong\", \"Honduras\", \"Croatia\", \"Haiti\", \"Hungary\", \"Indonesia\", \"India\", \"Ireland\", \"Iran\", \"Iraq\", \"Iceland\", \"Israel\", \"Italy\", \"Jamaica\", \"Jordan\", \"Japan\", \"Kazakhstan\", \"Kenya\", \"Kyrgyz Republic\", \"Cambodia\", \"Kiribati\", \"St. Kitts And Nevis\", \"South Korea\", \"Kuwait\", \"Lebanon\", \"Liberia\", \"Libya\", \"St. Lucia\", \"Liechtenstein\", \"Sri Lanka\", \"Lesotho\", \"Lithuania\", \"Luxembourg\", \"Latvia\", \"Morocco\", \"Moldova\", \"Madagascar\", \"Maldives\", \"Mexico\", \"Marshall Islands\", \"Macedonia\", \"Mali\", \"Malta\", \"Myanmar\", \"Montenegro\", \"Mongolia\", \"Mozambique\", \"Mauritania\", \"Mauritius\", \"Malawi\", \"Malaysia\", \"Namibia\", \"New Caledonia\", \"Niger\", \"Nigeria\", \"Nicaragua\", \"Netherlands\", \"Norway\", \"Nepal\", \"New Zealand\", \"Oman\", \"Pakistan\", \"Panama\", \"Peru\", \"Philippines\", \"Palau\", \"Papua New Guinea\", \"Poland\", \"North Korea\", \"Portugal\", \"Paraguay\", \"French Polynesia\", \"Qatar\", \"Romania\", \"Russian Federation\", \"Rwanda\", \"Saudi Arabia\", \"Sudan\", \"Senegal\", \"Singapore\", \"Solomon Islands\", \"Sierra Leone\", \"El Salvador\", \"Somalia\", \"Serbia\", \"Sao Tome And Principe\", \"Suriname\", \"Slovak Republic\", \"Slovenia\", \"Sweden\", \"Swaziland\", \"Seychelles\", \"Syria\", \"Turks And Caicos Islands\", \"Chad\", \"Togo\", \"Thailand\", \"Tajikistan\", \"Turkmenistan\", \"Timor-Leste\", \"Tonga\", \"Trinidad And Tobago\", \"Tunisia\", \"Turkey\", \"Tanzania\", \"Uganda\", \"Ukraine\", \"Uruguay\", \"United States\", \"Uzbekistan\", \"St. Vincent And The Grenadines\", \"Venezuela\", \"Vietnam\", \"Vanuatu\", \"West Bank And Gaza\", \"Samoa\", \"Yemen\", \"South Africa\", \"Dem Rep Of Congo\", \"Zambia\", \"Zimbabwe\"], \"type\": \"scatter\", \"x\": [\"Aruba\", \"Andorra\", \"Afghanistan\", \"Angola\", \"Albania\", \"United Arab Emirates\", \"Argentina\", \"Armenia\", \"Antigua And Barbuda\", \"Australia\", \"Austria\", \"Azerbaijan\", \"Burundi\", \"Belgium\", \"Benin\", \"Burkina Faso\", \"Bangladesh\", \"Bulgaria\", \"Bahrain\", \"Bahamas\", \"Bosnia And Herzegovina\", \"Belarus\", \"Belize\", \"Bermuda\", \"Bolivia\", \"Brazil\", \"Barbados\", \"Brunei\", \"Bhutan\", \"Botswana\", \"Central African Republic\", \"Canada\", \"Switzerland\", \"Chile\", \"China\", \"Cote D'Ivoire\", \"Cameroon\", \"Rep Of Congo\", \"Colombia\", \"Comoros\", \"Cabo Verde\", \"Costa Rica\", \"Cuba\", \"Cayman Islands\", \"Cyprus\", \"Czech Republic\", \"Germany\", \"Djibouti\", \"Dominica\", \"Denmark\", \"Dominican Republic\", \"Algeria\", \"Ecuador\", \"Egypt\", \"Eritrea\", \"Spain\", \"Estonia\", \"Ethiopia\", \"Finland\", \"Fiji\", \"France\", \"Faroe Islands\", \"Micronesia\", \"Gabon\", \"United Kingdom\", \"Georgia\", \"Ghana\", \"Guinea\", \"Gambia\", \"Guinea-Bissau\", \"Equatorial Guinea\", \"Greece\", \"Grenada\", \"Greenland\", \"Guatemala\", \"Guyana\", \"Hong Kong\", \"Honduras\", \"Croatia\", \"Haiti\", \"Hungary\", \"Indonesia\", \"India\", \"Ireland\", \"Iran\", \"Iraq\", \"Iceland\", \"Israel\", \"Italy\", \"Jamaica\", \"Jordan\", \"Japan\", \"Kazakhstan\", \"Kenya\", \"Kyrgyz Republic\", \"Cambodia\", \"Kiribati\", \"St. Kitts And Nevis\", \"South Korea\", \"Kuwait\", \"Lebanon\", \"Liberia\", \"Libya\", \"St. Lucia\", \"Liechtenstein\", \"Sri Lanka\", \"Lesotho\", \"Lithuania\", \"Luxembourg\", \"Latvia\", \"Morocco\", \"Moldova\", \"Madagascar\", \"Maldives\", \"Mexico\", \"Marshall Islands\", \"Macedonia\", \"Mali\", \"Malta\", \"Myanmar\", \"Montenegro\", \"Mongolia\", \"Mozambique\", \"Mauritania\", \"Mauritius\", \"Malawi\", \"Malaysia\", \"Namibia\", \"New Caledonia\", \"Niger\", \"Nigeria\", \"Nicaragua\", \"Netherlands\", \"Norway\", \"Nepal\", \"New Zealand\", \"Oman\", \"Pakistan\", \"Panama\", \"Peru\", \"Philippines\", \"Palau\", \"Papua New Guinea\", \"Poland\", \"North Korea\", \"Portugal\", \"Paraguay\", \"French Polynesia\", \"Qatar\", \"Romania\", \"Russian Federation\", \"Rwanda\", \"Saudi Arabia\", \"Sudan\", \"Senegal\", \"Singapore\", \"Solomon Islands\", \"Sierra Leone\", \"El Salvador\", \"Somalia\", \"Serbia\", \"Sao Tome And Principe\", \"Suriname\", \"Slovak Republic\", \"Slovenia\", \"Sweden\", \"Swaziland\", \"Seychelles\", \"Syria\", \"Turks And Caicos Islands\", \"Chad\", \"Togo\", \"Thailand\", \"Tajikistan\", \"Turkmenistan\", \"Timor-Leste\", \"Tonga\", \"Trinidad And Tobago\", \"Tunisia\", \"Turkey\", \"Tanzania\", \"Uganda\", \"Ukraine\", \"Uruguay\", \"United States\", \"Uzbekistan\", \"St. Vincent And The Grenadines\", \"Venezuela\", \"Vietnam\", \"Vanuatu\", \"West Bank And Gaza\", \"Samoa\", \"Yemen\", \"South Africa\", \"Dem Rep Of Congo\", \"Zambia\", \"Zimbabwe\"], \"y\": [24.18270225, 6.12477049, 0.302936388, 1.401654169, 1.515632053, 20.12095728, 4.342272052, 1.4229983780000002, 6.011268671, 16.71090435, 8.127692863, 3.3882258789999997, 0.020542078000000002, 10.01260969, 0.5417712339999999, 0.1076731, 0.370359878, 5.966883547999999, 18.43502476, 6.829321287000001, 5.513993843, 6.556549631, 1.7217086590000001, 7.320035624, 1.547659087, 2.113414545, 5.430338452999999, 21.873222100000003, 0.6771450309999999, 2.555293381, 0.059398335999999996, 14.58905354, 4.952499256, 4.24672531, 6.172488876, 0.292351513, 0.325727347, 0.473472226, 1.711390678, 0.18894081100000001, 0.598231164, 1.665177867, 3.392291813, 10.17344935, 6.983907546, 10.61336839, 9.179816837999999, 0.622346841, 1.906487557, 8.394657733999999, 2.158413689, 3.3099118310000004, 2.293303404, 2.494817067, 0.109470529, 5.815786526, 13.77319664, 0.07559157, 11.53084023, 1.505259596, 5.496706655, 12.9866782, 1.167845665, 1.4554456219999998, 7.841653312, 1.6635066230000002, 0.41544105200000003, 0.225765923, 0.279410774, 0.145854598, 6.4210618760000004, 7.797370479, 2.487241705, 11.66377295, 0.7716195090000001, 2.282864015, 5.166229891, 1.080473355, 4.728821777, 0.21196071800000002, 5.074749628, 1.80860092, 1.584869945, 8.810150532, 7.698029097999999, 3.6104347789999998, 6.168528586, 9.036666273, 6.83837457, 2.672410756, 3.50324049, 9.127185047000001, 15.14647827, 0.307975417, 1.129467501, 0.291550731, 0.607308472, 4.973200642, 11.46958747, 29.69343348, 4.632411885, 0.20289919899999997, 10.54269589, 2.273826502, 1.617377881, 0.64824563, 1.123489371, 4.319017771, 21.6351358, 3.963228139, 1.742832779, 1.3856596419999998, 0.098983365, 2.927604905, 3.7520908160000004, 1.958419165, 4.1711610939999995, 0.081476607, 6.316495701, 0.173734652, 4.167664361, 4.243335224, 0.118205418, 0.595272317, 3.132082534, 0.08217951700000001, 7.986951475, 1.4493192369999999, 15.680092000000002, 0.083054495, 0.534553664, 0.8059099059999999, 10.94931628, 11.61619323, 0.16113787400000001, 7.297420185, 19.122607000000002, 0.957357369, 2.449051597, 1.969722449, 0.8781354709999999, 10.56927211, 0.681184727, 8.334872118, 2.9588337069999997, 4.690094769, 0.817267073, 3.296763845, 42.63907601, 3.918410158, 12.19843743, 0.05735438, 18.97762597, 0.341750839, 0.638487724, 2.655230176, 0.376333439, 0.12570608, 1.0445379879999999, 0.06391226, 6.2920166889999996, 0.579406601, 4.621427372, 6.721959562, 7.530604812999999, 5.606000495, 0.8697672040000001, 7.679581152000001, 2.971741072, 6.152486045, 0.043462549, 0.269107041, 4.470426149, 0.37387294299999996, 11.35811103, 0.171932157, 1.128882988, 38.33784104, 2.535619365, 4.121154855, 0.15005864900000002, 0.108297319, 6.638152001, 1.9126046769999998, 17.48479218, 3.693267688, 2.146876944, 6.811756484, 1.76169543, 0.496591183, 0.5340148339999999, 1.103870902, 1.090060254, 8.957153524, 0.049328064000000005, 0.192078658, 0.646072745]}, {\"mode\": \"lines+markers\", \"name\": \"2011\", \"text\": [\"Aruba\", \"Andorra\", \"Afghanistan\", \"Angola\", \"Albania\", \"United Arab Emirates\", \"Argentina\", \"Armenia\", \"Antigua And Barbuda\", \"Australia\", \"Austria\", \"Azerbaijan\", \"Burundi\", \"Belgium\", \"Benin\", \"Burkina Faso\", \"Bangladesh\", \"Bulgaria\", \"Bahrain\", \"Bahamas\", \"Bosnia And Herzegovina\", \"Belarus\", \"Belize\", \"Bermuda\", \"Bolivia\", \"Brazil\", \"Barbados\", \"Brunei\", \"Bhutan\", \"Botswana\", \"Central African Republic\", \"Canada\", \"Switzerland\", \"Chile\", \"China\", \"Cote D'Ivoire\", \"Cameroon\", \"Rep Of Congo\", \"Colombia\", \"Comoros\", \"Cabo Verde\", \"Costa Rica\", \"Cuba\", \"Cayman Islands\", \"Cyprus\", \"Czech Republic\", \"Germany\", \"Djibouti\", \"Dominica\", \"Denmark\", \"Dominican Republic\", \"Algeria\", \"Ecuador\", \"Egypt\", \"Eritrea\", \"Spain\", \"Estonia\", \"Ethiopia\", \"Finland\", \"Fiji\", \"France\", \"Faroe Islands\", \"Micronesia\", \"Gabon\", \"United Kingdom\", \"Georgia\", \"Ghana\", \"Guinea\", \"Gambia\", \"Guinea-Bissau\", \"Equatorial Guinea\", \"Greece\", \"Grenada\", \"Greenland\", \"Guatemala\", \"Guyana\", \"Hong Kong\", \"Honduras\", \"Croatia\", \"Haiti\", \"Hungary\", \"Indonesia\", \"India\", \"Ireland\", \"Iran\", \"Iraq\", \"Iceland\", \"Israel\", \"Italy\", \"Jamaica\", \"Jordan\", \"Japan\", \"Kazakhstan\", \"Kenya\", \"Kyrgyz Republic\", \"Cambodia\", \"Kiribati\", \"St. Kitts And Nevis\", \"South Korea\", \"Kuwait\", \"Lebanon\", \"Liberia\", \"Libya\", \"St. Lucia\", \"Liechtenstein\", \"Sri Lanka\", \"Lesotho\", \"Lithuania\", \"Luxembourg\", \"Latvia\", \"Morocco\", \"Moldova\", \"Madagascar\", \"Maldives\", \"Mexico\", \"Marshall Islands\", \"Macedonia\", \"Mali\", \"Malta\", \"Myanmar\", \"Montenegro\", \"Mongolia\", \"Mozambique\", \"Mauritania\", \"Mauritius\", \"Malawi\", \"Malaysia\", \"Namibia\", \"New Caledonia\", \"Niger\", \"Nigeria\", \"Nicaragua\", \"Netherlands\", \"Norway\", \"Nepal\", \"New Zealand\", \"Oman\", \"Pakistan\", \"Panama\", \"Peru\", \"Philippines\", \"Palau\", \"Papua New Guinea\", \"Poland\", \"North Korea\", \"Portugal\", \"Paraguay\", \"French Polynesia\", \"Qatar\", \"Romania\", \"Russian Federation\", \"Rwanda\", \"Saudi Arabia\", \"Sudan\", \"Senegal\", \"Singapore\", \"Solomon Islands\", \"Sierra Leone\", \"El Salvador\", \"Somalia\", \"Serbia\", \"Sao Tome And Principe\", \"Suriname\", \"Slovak Republic\", \"Slovenia\", \"Sweden\", \"Swaziland\", \"Seychelles\", \"Syria\", \"Turks And Caicos Islands\", \"Chad\", \"Togo\", \"Thailand\", \"Tajikistan\", \"Turkmenistan\", \"Timor-Leste\", \"Tonga\", \"Trinidad And Tobago\", \"Tunisia\", \"Turkey\", \"Tanzania\", \"Uganda\", \"Ukraine\", \"Uruguay\", \"United States\", \"Uzbekistan\", \"St. Vincent And The Grenadines\", \"Venezuela\", \"Vietnam\", \"Vanuatu\", \"West Bank And Gaza\", \"Samoa\", \"Yemen\", \"South Africa\", \"Dem Rep Of Congo\", \"Zambia\", \"Zimbabwe\"], \"type\": \"scatter\", \"x\": [\"Aruba\", \"Andorra\", \"Afghanistan\", \"Angola\", \"Albania\", \"United Arab Emirates\", \"Argentina\", \"Armenia\", \"Antigua And Barbuda\", \"Australia\", \"Austria\", \"Azerbaijan\", \"Burundi\", \"Belgium\", \"Benin\", \"Burkina Faso\", \"Bangladesh\", \"Bulgaria\", \"Bahrain\", \"Bahamas\", \"Bosnia And Herzegovina\", \"Belarus\", \"Belize\", \"Bermuda\", \"Bolivia\", \"Brazil\", \"Barbados\", \"Brunei\", \"Bhutan\", \"Botswana\", \"Central African Republic\", \"Canada\", \"Switzerland\", \"Chile\", \"China\", \"Cote D'Ivoire\", \"Cameroon\", \"Rep Of Congo\", \"Colombia\", \"Comoros\", \"Cabo Verde\", \"Costa Rica\", \"Cuba\", \"Cayman Islands\", \"Cyprus\", \"Czech Republic\", \"Germany\", \"Djibouti\", \"Dominica\", \"Denmark\", \"Dominican Republic\", \"Algeria\", \"Ecuador\", \"Egypt\", \"Eritrea\", \"Spain\", \"Estonia\", \"Ethiopia\", \"Finland\", \"Fiji\", \"France\", \"Faroe Islands\", \"Micronesia\", \"Gabon\", \"United Kingdom\", \"Georgia\", \"Ghana\", \"Guinea\", \"Gambia\", \"Guinea-Bissau\", \"Equatorial Guinea\", \"Greece\", \"Grenada\", \"Greenland\", \"Guatemala\", \"Guyana\", \"Hong Kong\", \"Honduras\", \"Croatia\", \"Haiti\", \"Hungary\", \"Indonesia\", \"India\", \"Ireland\", \"Iran\", \"Iraq\", \"Iceland\", \"Israel\", \"Italy\", \"Jamaica\", \"Jordan\", \"Japan\", \"Kazakhstan\", \"Kenya\", \"Kyrgyz Republic\", \"Cambodia\", \"Kiribati\", \"St. Kitts And Nevis\", \"South Korea\", \"Kuwait\", \"Lebanon\", \"Liberia\", \"Libya\", \"St. Lucia\", \"Liechtenstein\", \"Sri Lanka\", \"Lesotho\", \"Lithuania\", \"Luxembourg\", \"Latvia\", \"Morocco\", \"Moldova\", \"Madagascar\", \"Maldives\", \"Mexico\", \"Marshall Islands\", \"Macedonia\", \"Mali\", \"Malta\", \"Myanmar\", \"Montenegro\", \"Mongolia\", \"Mozambique\", \"Mauritania\", \"Mauritius\", \"Malawi\", \"Malaysia\", \"Namibia\", \"New Caledonia\", \"Niger\", \"Nigeria\", \"Nicaragua\", \"Netherlands\", \"Norway\", \"Nepal\", \"New Zealand\", \"Oman\", \"Pakistan\", \"Panama\", \"Peru\", \"Philippines\", \"Palau\", \"Papua New Guinea\", \"Poland\", \"North Korea\", \"Portugal\", \"Paraguay\", \"French Polynesia\", \"Qatar\", \"Romania\", \"Russian Federation\", \"Rwanda\", \"Saudi Arabia\", \"Sudan\", \"Senegal\", \"Singapore\", \"Solomon Islands\", \"Sierra Leone\", \"El Salvador\", \"Somalia\", \"Serbia\", \"Sao Tome And Principe\", \"Suriname\", \"Slovak Republic\", \"Slovenia\", \"Sweden\", \"Swaziland\", \"Seychelles\", \"Syria\", \"Turks And Caicos Islands\", \"Chad\", \"Togo\", \"Thailand\", \"Tajikistan\", \"Turkmenistan\", \"Timor-Leste\", \"Tonga\", \"Trinidad And Tobago\", \"Tunisia\", \"Turkey\", \"Tanzania\", \"Uganda\", \"Ukraine\", \"Uruguay\", \"United States\", \"Uzbekistan\", \"St. Vincent And The Grenadines\", \"Venezuela\", \"Vietnam\", \"Vanuatu\", \"West Bank And Gaza\", \"Samoa\", \"Yemen\", \"South Africa\", \"Dem Rep Of Congo\", \"Zambia\", \"Zimbabwe\"], \"y\": [23.922412100000003, 5.96868547, 0.425262105, 1.35400753, 1.60703771, 20.43383762, 4.562048512, 1.671656923, 5.8238043379999995, 16.51920992, 7.769983422999999, 3.647379147, 0.021349926, 8.849398302, 0.509962226, 0.11998056, 0.372017166, 6.71438251, 17.94732981, 5.1998440189999995, 6.19665215, 6.682510398, 1.6709043019999998, 6.07721021, 1.5994990390000001, 2.191393564, 5.580177618, 24.39201338, 0.7662056190000001, 2.323345006, 0.063127814, 14.13581338, 4.625229924, 4.61644538, 6.710301991000001, 0.312877703, 0.268091793, 0.538098379, 1.560629099, 0.220233473, 0.8590614329999999, 1.704974495, 3.172315091, 10.30493107, 6.735375822999999, 10.43108813, 8.917832846, 0.561940931, 1.746141565, 7.248328717000001, 2.182907888, 3.3160378919999998, 2.354017387, 2.635115225, 0.108718365, 5.790764234, 14.04988252, 0.083943117, 10.1640461, 1.4248132480000002, 5.185043424, 11.72121175, 1.240335923, 1.4181657490000001, 7.085732086, 2.046895742, 0.40437979799999996, 0.229423425, 0.24109841699999998, 0.146810683, 8.907241536, 7.568519082999999, 2.4081374319999997, 12.44034101, 0.7480550559999999, 2.357722028, 5.695268539, 1.103745053, 4.8015300110000005, 0.21796204800000002, 4.862989931, 2.3037809830000002, 1.662873483, 7.880759326000001, 7.802145092999999, 4.20163513, 5.8968289789999995, 8.952413531, 6.702557614, 2.872655693, 3.6011470639999996, 9.291834303, 15.81009754, 0.327569171, 1.1995916290000002, 0.308073152, 0.595622098, 5.050964187, 11.84075687, 28.10266175, 4.6683125080000005, 0.218425012, 6.204914344, 2.2704235880000003, 1.4050962040000001, 0.72992084, 1.082269608, 4.537558514, 20.8978117, 3.786801437, 1.7379155469999998, 1.3988217930000002, 0.112992805, 2.9277639260000003, 3.876107611, 1.9542071909999998, 4.519210141, 0.07995637900000001, 6.034321639, 0.200285212, 4.145547583, 6.915146531, 0.131189805, 0.627225464, 3.127070817, 0.079231485, 7.898823573, 1.239160489, 15.17329528, 0.08395817800000001, 0.53749756, 0.843541955, 10.06448974, 9.192879069, 0.159474455, 7.124050867, 20.20389451, 0.941171125, 2.625276244, 1.783233144, 0.8678453429999999, 10.85543046, 0.746895234, 8.335786706, 2.9871821119999997, 4.709849623999999, 0.841915242, 3.167952684, 44.01892637, 4.210560124, 12.64732823, 0.062874197, 18.07245072, 0.349548724, 0.58833415, 4.320161436999999, 0.36830416899999996, 0.152044168, 1.103998574, 0.05870688, 6.799114997, 0.587909256, 3.6499133610000003, 6.367545917, 7.504259702000001, 5.518421481, 0.864988313, 6.835706362000001, 2.736990943, 6.010149084, 0.04383042400000001, 0.319443622, 4.5344917339999995, 0.35894763, 12.18366658, 0.16364808, 0.9835619590000001, 37.14005424, 2.4024556390000003, 4.383104516, 0.1549349, 0.110886576, 6.262351962, 2.296200685, 17.02021634, 3.9149212660000003, 2.179923359, 6.416333581, 1.971433571, 0.5912657729999999, 0.572406877, 1.252110076, 0.9199676170000001, 9.257216472, 0.050302688, 0.212449645, 0.6916978970000001]}],\n",
              "                        {\"height\": 700, \"template\": {\"data\": {\"bar\": [{\"error_x\": {\"color\": \"#2a3f5f\"}, \"error_y\": {\"color\": \"#2a3f5f\"}, \"marker\": {\"line\": {\"color\": \"#E5ECF6\", \"width\": 0.5}}, \"type\": \"bar\"}], \"barpolar\": [{\"marker\": {\"line\": {\"color\": \"#E5ECF6\", \"width\": 0.5}}, \"type\": \"barpolar\"}], \"carpet\": [{\"aaxis\": {\"endlinecolor\": \"#2a3f5f\", \"gridcolor\": \"white\", \"linecolor\": \"white\", \"minorgridcolor\": \"white\", \"startlinecolor\": \"#2a3f5f\"}, \"baxis\": {\"endlinecolor\": \"#2a3f5f\", \"gridcolor\": \"white\", \"linecolor\": \"white\", \"minorgridcolor\": \"white\", \"startlinecolor\": \"#2a3f5f\"}, \"type\": \"carpet\"}], \"choropleth\": [{\"colorbar\": {\"outlinewidth\": 0, \"ticks\": \"\"}, \"type\": \"choropleth\"}], \"contour\": [{\"colorbar\": {\"outlinewidth\": 0, \"ticks\": \"\"}, \"colorscale\": [[0.0, \"#0d0887\"], [0.1111111111111111, \"#46039f\"], [0.2222222222222222, \"#7201a8\"], [0.3333333333333333, \"#9c179e\"], [0.4444444444444444, \"#bd3786\"], [0.5555555555555556, \"#d8576b\"], [0.6666666666666666, \"#ed7953\"], [0.7777777777777778, \"#fb9f3a\"], [0.8888888888888888, \"#fdca26\"], [1.0, \"#f0f921\"]], \"type\": \"contour\"}], \"contourcarpet\": [{\"colorbar\": {\"outlinewidth\": 0, \"ticks\": \"\"}, \"type\": \"contourcarpet\"}], \"heatmap\": [{\"colorbar\": {\"outlinewidth\": 0, \"ticks\": \"\"}, \"colorscale\": [[0.0, \"#0d0887\"], [0.1111111111111111, \"#46039f\"], [0.2222222222222222, \"#7201a8\"], [0.3333333333333333, \"#9c179e\"], [0.4444444444444444, \"#bd3786\"], [0.5555555555555556, \"#d8576b\"], [0.6666666666666666, \"#ed7953\"], [0.7777777777777778, \"#fb9f3a\"], [0.8888888888888888, \"#fdca26\"], [1.0, \"#f0f921\"]], \"type\": \"heatmap\"}], \"heatmapgl\": [{\"colorbar\": {\"outlinewidth\": 0, \"ticks\": \"\"}, \"colorscale\": [[0.0, \"#0d0887\"], [0.1111111111111111, \"#46039f\"], [0.2222222222222222, \"#7201a8\"], [0.3333333333333333, \"#9c179e\"], [0.4444444444444444, \"#bd3786\"], [0.5555555555555556, \"#d8576b\"], [0.6666666666666666, \"#ed7953\"], [0.7777777777777778, \"#fb9f3a\"], [0.8888888888888888, \"#fdca26\"], [1.0, \"#f0f921\"]], \"type\": \"heatmapgl\"}], \"histogram\": [{\"marker\": {\"colorbar\": {\"outlinewidth\": 0, \"ticks\": \"\"}}, \"type\": \"histogram\"}], \"histogram2d\": [{\"colorbar\": {\"outlinewidth\": 0, \"ticks\": \"\"}, \"colorscale\": [[0.0, \"#0d0887\"], [0.1111111111111111, \"#46039f\"], [0.2222222222222222, \"#7201a8\"], [0.3333333333333333, \"#9c179e\"], [0.4444444444444444, \"#bd3786\"], [0.5555555555555556, \"#d8576b\"], [0.6666666666666666, \"#ed7953\"], [0.7777777777777778, \"#fb9f3a\"], [0.8888888888888888, \"#fdca26\"], [1.0, \"#f0f921\"]], \"type\": \"histogram2d\"}], \"histogram2dcontour\": [{\"colorbar\": {\"outlinewidth\": 0, \"ticks\": \"\"}, \"colorscale\": [[0.0, \"#0d0887\"], [0.1111111111111111, \"#46039f\"], [0.2222222222222222, \"#7201a8\"], [0.3333333333333333, \"#9c179e\"], [0.4444444444444444, \"#bd3786\"], [0.5555555555555556, \"#d8576b\"], [0.6666666666666666, \"#ed7953\"], [0.7777777777777778, \"#fb9f3a\"], [0.8888888888888888, \"#fdca26\"], [1.0, \"#f0f921\"]], \"type\": \"histogram2dcontour\"}], \"mesh3d\": [{\"colorbar\": {\"outlinewidth\": 0, \"ticks\": \"\"}, \"type\": \"mesh3d\"}], \"parcoords\": [{\"line\": {\"colorbar\": {\"outlinewidth\": 0, \"ticks\": \"\"}}, \"type\": \"parcoords\"}], \"pie\": [{\"automargin\": true, \"type\": \"pie\"}], \"scatter\": [{\"marker\": {\"colorbar\": {\"outlinewidth\": 0, \"ticks\": \"\"}}, \"type\": \"scatter\"}], \"scatter3d\": [{\"line\": {\"colorbar\": {\"outlinewidth\": 0, \"ticks\": \"\"}}, \"marker\": {\"colorbar\": {\"outlinewidth\": 0, \"ticks\": \"\"}}, \"type\": \"scatter3d\"}], \"scattercarpet\": [{\"marker\": {\"colorbar\": {\"outlinewidth\": 0, \"ticks\": \"\"}}, \"type\": \"scattercarpet\"}], \"scattergeo\": [{\"marker\": {\"colorbar\": {\"outlinewidth\": 0, \"ticks\": \"\"}}, \"type\": \"scattergeo\"}], \"scattergl\": [{\"marker\": {\"colorbar\": {\"outlinewidth\": 0, \"ticks\": \"\"}}, \"type\": \"scattergl\"}], \"scattermapbox\": [{\"marker\": {\"colorbar\": {\"outlinewidth\": 0, \"ticks\": \"\"}}, \"type\": \"scattermapbox\"}], \"scatterpolar\": [{\"marker\": {\"colorbar\": {\"outlinewidth\": 0, \"ticks\": \"\"}}, \"type\": \"scatterpolar\"}], \"scatterpolargl\": [{\"marker\": {\"colorbar\": {\"outlinewidth\": 0, \"ticks\": \"\"}}, \"type\": \"scatterpolargl\"}], \"scatterternary\": [{\"marker\": {\"colorbar\": {\"outlinewidth\": 0, \"ticks\": \"\"}}, \"type\": \"scatterternary\"}], \"surface\": [{\"colorbar\": {\"outlinewidth\": 0, \"ticks\": \"\"}, \"colorscale\": [[0.0, \"#0d0887\"], [0.1111111111111111, \"#46039f\"], [0.2222222222222222, \"#7201a8\"], [0.3333333333333333, \"#9c179e\"], [0.4444444444444444, \"#bd3786\"], [0.5555555555555556, \"#d8576b\"], [0.6666666666666666, \"#ed7953\"], [0.7777777777777778, \"#fb9f3a\"], [0.8888888888888888, \"#fdca26\"], [1.0, \"#f0f921\"]], \"type\": \"surface\"}], \"table\": [{\"cells\": {\"fill\": {\"color\": \"#EBF0F8\"}, \"line\": {\"color\": \"white\"}}, \"header\": {\"fill\": {\"color\": \"#C8D4E3\"}, \"line\": {\"color\": \"white\"}}, \"type\": \"table\"}]}, \"layout\": {\"annotationdefaults\": {\"arrowcolor\": \"#2a3f5f\", \"arrowhead\": 0, \"arrowwidth\": 1}, \"coloraxis\": {\"colorbar\": {\"outlinewidth\": 0, \"ticks\": \"\"}}, \"colorscale\": {\"diverging\": [[0, \"#8e0152\"], [0.1, \"#c51b7d\"], [0.2, \"#de77ae\"], [0.3, \"#f1b6da\"], [0.4, \"#fde0ef\"], [0.5, \"#f7f7f7\"], [0.6, \"#e6f5d0\"], [0.7, \"#b8e186\"], [0.8, \"#7fbc41\"], [0.9, \"#4d9221\"], [1, \"#276419\"]], \"sequential\": [[0.0, \"#0d0887\"], [0.1111111111111111, \"#46039f\"], [0.2222222222222222, \"#7201a8\"], [0.3333333333333333, \"#9c179e\"], [0.4444444444444444, \"#bd3786\"], [0.5555555555555556, \"#d8576b\"], [0.6666666666666666, \"#ed7953\"], [0.7777777777777778, \"#fb9f3a\"], [0.8888888888888888, \"#fdca26\"], [1.0, \"#f0f921\"]], \"sequentialminus\": [[0.0, \"#0d0887\"], [0.1111111111111111, \"#46039f\"], [0.2222222222222222, \"#7201a8\"], [0.3333333333333333, \"#9c179e\"], [0.4444444444444444, \"#bd3786\"], [0.5555555555555556, \"#d8576b\"], [0.6666666666666666, \"#ed7953\"], [0.7777777777777778, \"#fb9f3a\"], [0.8888888888888888, \"#fdca26\"], [1.0, \"#f0f921\"]]}, \"colorway\": [\"#636efa\", \"#EF553B\", \"#00cc96\", \"#ab63fa\", \"#FFA15A\", \"#19d3f3\", \"#FF6692\", \"#B6E880\", \"#FF97FF\", \"#FECB52\"], \"font\": {\"color\": \"#2a3f5f\"}, \"geo\": {\"bgcolor\": \"white\", \"lakecolor\": \"white\", \"landcolor\": \"#E5ECF6\", \"showlakes\": true, \"showland\": true, \"subunitcolor\": \"white\"}, \"hoverlabel\": {\"align\": \"left\"}, \"hovermode\": \"closest\", \"mapbox\": {\"style\": \"light\"}, \"paper_bgcolor\": \"white\", \"plot_bgcolor\": \"#E5ECF6\", \"polar\": {\"angularaxis\": {\"gridcolor\": \"white\", \"linecolor\": \"white\", \"ticks\": \"\"}, \"bgcolor\": \"#E5ECF6\", \"radialaxis\": {\"gridcolor\": \"white\", \"linecolor\": \"white\", \"ticks\": \"\"}}, \"scene\": {\"xaxis\": {\"backgroundcolor\": \"#E5ECF6\", \"gridcolor\": \"white\", \"gridwidth\": 2, \"linecolor\": \"white\", \"showbackground\": true, \"ticks\": \"\", \"zerolinecolor\": \"white\"}, \"yaxis\": {\"backgroundcolor\": \"#E5ECF6\", \"gridcolor\": \"white\", \"gridwidth\": 2, \"linecolor\": \"white\", \"showbackground\": true, \"ticks\": \"\", \"zerolinecolor\": \"white\"}, \"zaxis\": {\"backgroundcolor\": \"#E5ECF6\", \"gridcolor\": \"white\", \"gridwidth\": 2, \"linecolor\": \"white\", \"showbackground\": true, \"ticks\": \"\", \"zerolinecolor\": \"white\"}}, \"shapedefaults\": {\"line\": {\"color\": \"#2a3f5f\"}}, \"ternary\": {\"aaxis\": {\"gridcolor\": \"white\", \"linecolor\": \"white\", \"ticks\": \"\"}, \"baxis\": {\"gridcolor\": \"white\", \"linecolor\": \"white\", \"ticks\": \"\"}, \"bgcolor\": \"#E5ECF6\", \"caxis\": {\"gridcolor\": \"white\", \"linecolor\": \"white\", \"ticks\": \"\"}}, \"title\": {\"x\": 0.05}, \"xaxis\": {\"automargin\": true, \"gridcolor\": \"white\", \"linecolor\": \"white\", \"ticks\": \"\", \"title\": {\"standoff\": 15}, \"zerolinecolor\": \"white\", \"zerolinewidth\": 2}, \"yaxis\": {\"automargin\": true, \"gridcolor\": \"white\", \"linecolor\": \"white\", \"ticks\": \"\", \"title\": {\"standoff\": 15}, \"zerolinecolor\": \"white\", \"zerolinewidth\": 2}}}, \"title\": {\"text\": \"Average Emission by Country over 4 years\"}, \"width\": 1000, \"xaxis\": {\"showticklabels\": false}, \"yaxis\": {\"dtick\": 5.0, \"title\": {\"text\": \"Average Emission\"}}},\n",
              "                        {\"responsive\": true}\n",
              "                    ).then(function(){\n",
              "                            \n",
              "var gd = document.getElementById('a176af5b-8d20-4859-9218-052c53f8e1af');\n",
              "var x = new MutationObserver(function (mutations, observer) {{\n",
              "        var display = window.getComputedStyle(gd).display;\n",
              "        if (!display || display === 'none') {{\n",
              "            console.log([gd, 'removed!']);\n",
              "            Plotly.purge(gd);\n",
              "            observer.disconnect();\n",
              "        }}\n",
              "}});\n",
              "\n",
              "// Listen for the removal of the full notebook cells\n",
              "var notebookContainer = gd.closest('#notebook-container');\n",
              "if (notebookContainer) {{\n",
              "    x.observe(notebookContainer, {childList: true});\n",
              "}}\n",
              "\n",
              "// Listen for the clearing of the current output cell\n",
              "var outputEl = gd.closest('.output');\n",
              "if (outputEl) {{\n",
              "    x.observe(outputEl, {childList: true});\n",
              "}}\n",
              "\n",
              "                        })\n",
              "                };\n",
              "                \n",
              "            </script>\n",
              "        </div>\n",
              "</body>\n",
              "</html>"
            ]
          },
          "metadata": {
            "tags": []
          }
        }
      ]
    },
    {
      "cell_type": "code",
      "metadata": {
        "colab": {
          "base_uri": "https://localhost:8080/"
        },
        "id": "split-container",
        "outputId": "2fa1f261-3de7-43e9-ea21-3e97087d5738"
      },
      "source": [
        "high_emission_countries = emission_2008[emission_2008['Emission'] > 12]['Country'].values\n",
        "high_emission_countries"
      ],
      "id": "split-container",
      "execution_count": 11,
      "outputs": [
        {
          "output_type": "execute_result",
          "data": {
            "text/plain": [
              "array(['Aruba', 'United Arab Emirates', 'Australia', 'Bahrain', 'Brunei',\n",
              "       'Canada', 'Estonia', 'Faroe Islands', 'Kazakhstan', 'Kuwait',\n",
              "       'Luxembourg', 'New Caledonia', 'Oman', 'Qatar',\n",
              "       'Russian Federation', 'Saudi Arabia', 'Trinidad And Tobago',\n",
              "       'United States'], dtype=object)"
            ]
          },
          "metadata": {
            "tags": []
          },
          "execution_count": 11
        }
      ]
    },
    {
      "cell_type": "code",
      "metadata": {
        "colab": {
          "base_uri": "https://localhost:8080/",
          "height": 419
        },
        "id": "stretch-receptor",
        "outputId": "e801cbe7-227f-44e3-b4a3-e1baafbc8acf"
      },
      "source": [
        "high_emission_data = df[df['Country'].isin(high_emission_countries)]\n",
        "high_emission_data"
      ],
      "id": "stretch-receptor",
      "execution_count": 12,
      "outputs": [
        {
          "output_type": "execute_result",
          "data": {
            "text/html": [
              "<div>\n",
              "<style scoped>\n",
              "    .dataframe tbody tr th:only-of-type {\n",
              "        vertical-align: middle;\n",
              "    }\n",
              "\n",
              "    .dataframe tbody tr th {\n",
              "        vertical-align: top;\n",
              "    }\n",
              "\n",
              "    .dataframe thead th {\n",
              "        text-align: right;\n",
              "    }\n",
              "</style>\n",
              "<table border=\"1\" class=\"dataframe\">\n",
              "  <thead>\n",
              "    <tr style=\"text-align: right;\">\n",
              "      <th></th>\n",
              "      <th>Year</th>\n",
              "      <th>Country</th>\n",
              "      <th>Continent</th>\n",
              "      <th>Emission</th>\n",
              "    </tr>\n",
              "  </thead>\n",
              "  <tbody>\n",
              "    <tr>\n",
              "      <th>0</th>\n",
              "      <td>2008</td>\n",
              "      <td>Aruba</td>\n",
              "      <td>South America</td>\n",
              "      <td>24.750133</td>\n",
              "    </tr>\n",
              "    <tr>\n",
              "      <th>1</th>\n",
              "      <td>2009</td>\n",
              "      <td>Aruba</td>\n",
              "      <td>South America</td>\n",
              "      <td>24.876706</td>\n",
              "    </tr>\n",
              "    <tr>\n",
              "      <th>2</th>\n",
              "      <td>2010</td>\n",
              "      <td>Aruba</td>\n",
              "      <td>South America</td>\n",
              "      <td>24.182702</td>\n",
              "    </tr>\n",
              "    <tr>\n",
              "      <th>3</th>\n",
              "      <td>2011</td>\n",
              "      <td>Aruba</td>\n",
              "      <td>South America</td>\n",
              "      <td>23.922412</td>\n",
              "    </tr>\n",
              "    <tr>\n",
              "      <th>20</th>\n",
              "      <td>2008</td>\n",
              "      <td>United Arab Emirates</td>\n",
              "      <td>Asia</td>\n",
              "      <td>23.033600</td>\n",
              "    </tr>\n",
              "    <tr>\n",
              "      <th>...</th>\n",
              "      <td>...</td>\n",
              "      <td>...</td>\n",
              "      <td>...</td>\n",
              "      <td>...</td>\n",
              "    </tr>\n",
              "    <tr>\n",
              "      <th>711</th>\n",
              "      <td>2011</td>\n",
              "      <td>Trinidad And Tobago</td>\n",
              "      <td>North America</td>\n",
              "      <td>37.140054</td>\n",
              "    </tr>\n",
              "    <tr>\n",
              "      <th>736</th>\n",
              "      <td>2008</td>\n",
              "      <td>United States</td>\n",
              "      <td>North America</td>\n",
              "      <td>18.489234</td>\n",
              "    </tr>\n",
              "    <tr>\n",
              "      <th>737</th>\n",
              "      <td>2009</td>\n",
              "      <td>United States</td>\n",
              "      <td>North America</td>\n",
              "      <td>17.192379</td>\n",
              "    </tr>\n",
              "    <tr>\n",
              "      <th>738</th>\n",
              "      <td>2010</td>\n",
              "      <td>United States</td>\n",
              "      <td>North America</td>\n",
              "      <td>17.484792</td>\n",
              "    </tr>\n",
              "    <tr>\n",
              "      <th>739</th>\n",
              "      <td>2011</td>\n",
              "      <td>United States</td>\n",
              "      <td>North America</td>\n",
              "      <td>17.020216</td>\n",
              "    </tr>\n",
              "  </tbody>\n",
              "</table>\n",
              "<p>72 rows × 4 columns</p>\n",
              "</div>"
            ],
            "text/plain": [
              "     Year               Country      Continent   Emission\n",
              "0    2008                 Aruba  South America  24.750133\n",
              "1    2009                 Aruba  South America  24.876706\n",
              "2    2010                 Aruba  South America  24.182702\n",
              "3    2011                 Aruba  South America  23.922412\n",
              "20   2008  United Arab Emirates           Asia  23.033600\n",
              "..    ...                   ...            ...        ...\n",
              "711  2011   Trinidad And Tobago  North America  37.140054\n",
              "736  2008         United States  North America  18.489234\n",
              "737  2009         United States  North America  17.192379\n",
              "738  2010         United States  North America  17.484792\n",
              "739  2011         United States  North America  17.020216\n",
              "\n",
              "[72 rows x 4 columns]"
            ]
          },
          "metadata": {
            "tags": []
          },
          "execution_count": 12
        }
      ]
    },
    {
      "cell_type": "code",
      "metadata": {
        "colab": {
          "base_uri": "https://localhost:8080/",
          "height": 638
        },
        "id": "immune-australian",
        "outputId": "473fa7f8-f989-4f16-dd06-87abe6a0fcd7"
      },
      "source": [
        "top_countries = high_emission_data.pivot_table(values='Emission', index='Country', columns='Year')\n",
        "top_countries"
      ],
      "id": "immune-australian",
      "execution_count": 13,
      "outputs": [
        {
          "output_type": "execute_result",
          "data": {
            "text/html": [
              "<div>\n",
              "<style scoped>\n",
              "    .dataframe tbody tr th:only-of-type {\n",
              "        vertical-align: middle;\n",
              "    }\n",
              "\n",
              "    .dataframe tbody tr th {\n",
              "        vertical-align: top;\n",
              "    }\n",
              "\n",
              "    .dataframe thead th {\n",
              "        text-align: right;\n",
              "    }\n",
              "</style>\n",
              "<table border=\"1\" class=\"dataframe\">\n",
              "  <thead>\n",
              "    <tr style=\"text-align: right;\">\n",
              "      <th>Year</th>\n",
              "      <th>2008</th>\n",
              "      <th>2009</th>\n",
              "      <th>2010</th>\n",
              "      <th>2011</th>\n",
              "    </tr>\n",
              "    <tr>\n",
              "      <th>Country</th>\n",
              "      <th></th>\n",
              "      <th></th>\n",
              "      <th></th>\n",
              "      <th></th>\n",
              "    </tr>\n",
              "  </thead>\n",
              "  <tbody>\n",
              "    <tr>\n",
              "      <th>Aruba</th>\n",
              "      <td>24.750133</td>\n",
              "      <td>24.876706</td>\n",
              "      <td>24.182702</td>\n",
              "      <td>23.922412</td>\n",
              "    </tr>\n",
              "    <tr>\n",
              "      <th>Australia</th>\n",
              "      <td>17.704080</td>\n",
              "      <td>17.631833</td>\n",
              "      <td>16.710904</td>\n",
              "      <td>16.519210</td>\n",
              "    </tr>\n",
              "    <tr>\n",
              "      <th>Bahrain</th>\n",
              "      <td>21.519995</td>\n",
              "      <td>18.136234</td>\n",
              "      <td>18.435025</td>\n",
              "      <td>17.947330</td>\n",
              "    </tr>\n",
              "    <tr>\n",
              "      <th>Brunei</th>\n",
              "      <td>26.338271</td>\n",
              "      <td>22.149029</td>\n",
              "      <td>21.873222</td>\n",
              "      <td>24.392013</td>\n",
              "    </tr>\n",
              "    <tr>\n",
              "      <th>Canada</th>\n",
              "      <td>16.366165</td>\n",
              "      <td>15.089098</td>\n",
              "      <td>14.589054</td>\n",
              "      <td>14.135813</td>\n",
              "    </tr>\n",
              "    <tr>\n",
              "      <th>Estonia</th>\n",
              "      <td>13.081834</td>\n",
              "      <td>11.048963</td>\n",
              "      <td>13.773197</td>\n",
              "      <td>14.049883</td>\n",
              "    </tr>\n",
              "    <tr>\n",
              "      <th>Faroe Islands</th>\n",
              "      <td>12.970121</td>\n",
              "      <td>11.842902</td>\n",
              "      <td>12.986678</td>\n",
              "      <td>11.721212</td>\n",
              "    </tr>\n",
              "    <tr>\n",
              "      <th>Kazakhstan</th>\n",
              "      <td>14.659578</td>\n",
              "      <td>13.309728</td>\n",
              "      <td>15.146478</td>\n",
              "      <td>15.810098</td>\n",
              "    </tr>\n",
              "    <tr>\n",
              "      <th>Kuwait</th>\n",
              "      <td>30.581264</td>\n",
              "      <td>29.721704</td>\n",
              "      <td>29.693433</td>\n",
              "      <td>28.102662</td>\n",
              "    </tr>\n",
              "    <tr>\n",
              "      <th>Luxembourg</th>\n",
              "      <td>22.385472</td>\n",
              "      <td>20.877125</td>\n",
              "      <td>21.635136</td>\n",
              "      <td>20.897812</td>\n",
              "    </tr>\n",
              "    <tr>\n",
              "      <th>New Caledonia</th>\n",
              "      <td>13.531310</td>\n",
              "      <td>11.570830</td>\n",
              "      <td>15.680092</td>\n",
              "      <td>15.173295</td>\n",
              "    </tr>\n",
              "    <tr>\n",
              "      <th>Oman</th>\n",
              "      <td>14.479797</td>\n",
              "      <td>13.926797</td>\n",
              "      <td>19.122607</td>\n",
              "      <td>20.203895</td>\n",
              "    </tr>\n",
              "    <tr>\n",
              "      <th>Qatar</th>\n",
              "      <td>48.601620</td>\n",
              "      <td>44.836401</td>\n",
              "      <td>42.639076</td>\n",
              "      <td>44.018926</td>\n",
              "    </tr>\n",
              "    <tr>\n",
              "      <th>Russian Federation</th>\n",
              "      <td>12.019131</td>\n",
              "      <td>11.026116</td>\n",
              "      <td>12.198437</td>\n",
              "      <td>12.647328</td>\n",
              "    </tr>\n",
              "    <tr>\n",
              "      <th>Saudi Arabia</th>\n",
              "      <td>15.639313</td>\n",
              "      <td>17.690225</td>\n",
              "      <td>18.977626</td>\n",
              "      <td>18.072451</td>\n",
              "    </tr>\n",
              "    <tr>\n",
              "      <th>Trinidad And Tobago</th>\n",
              "      <td>35.455298</td>\n",
              "      <td>36.569448</td>\n",
              "      <td>38.337841</td>\n",
              "      <td>37.140054</td>\n",
              "    </tr>\n",
              "    <tr>\n",
              "      <th>United Arab Emirates</th>\n",
              "      <td>23.033600</td>\n",
              "      <td>21.102296</td>\n",
              "      <td>20.120957</td>\n",
              "      <td>20.433838</td>\n",
              "    </tr>\n",
              "    <tr>\n",
              "      <th>United States</th>\n",
              "      <td>18.489234</td>\n",
              "      <td>17.192379</td>\n",
              "      <td>17.484792</td>\n",
              "      <td>17.020216</td>\n",
              "    </tr>\n",
              "  </tbody>\n",
              "</table>\n",
              "</div>"
            ],
            "text/plain": [
              "Year                       2008       2009       2010       2011\n",
              "Country                                                         \n",
              "Aruba                 24.750133  24.876706  24.182702  23.922412\n",
              "Australia             17.704080  17.631833  16.710904  16.519210\n",
              "Bahrain               21.519995  18.136234  18.435025  17.947330\n",
              "Brunei                26.338271  22.149029  21.873222  24.392013\n",
              "Canada                16.366165  15.089098  14.589054  14.135813\n",
              "Estonia               13.081834  11.048963  13.773197  14.049883\n",
              "Faroe Islands         12.970121  11.842902  12.986678  11.721212\n",
              "Kazakhstan            14.659578  13.309728  15.146478  15.810098\n",
              "Kuwait                30.581264  29.721704  29.693433  28.102662\n",
              "Luxembourg            22.385472  20.877125  21.635136  20.897812\n",
              "New Caledonia         13.531310  11.570830  15.680092  15.173295\n",
              "Oman                  14.479797  13.926797  19.122607  20.203895\n",
              "Qatar                 48.601620  44.836401  42.639076  44.018926\n",
              "Russian Federation    12.019131  11.026116  12.198437  12.647328\n",
              "Saudi Arabia          15.639313  17.690225  18.977626  18.072451\n",
              "Trinidad And Tobago   35.455298  36.569448  38.337841  37.140054\n",
              "United Arab Emirates  23.033600  21.102296  20.120957  20.433838\n",
              "United States         18.489234  17.192379  17.484792  17.020216"
            ]
          },
          "metadata": {
            "tags": []
          },
          "execution_count": 13
        }
      ]
    },
    {
      "cell_type": "code",
      "metadata": {
        "colab": {
          "base_uri": "https://localhost:8080/"
        },
        "id": "professional-firewall",
        "outputId": "9d0dda6a-180c-49f0-b4af-0f85b386f3fd"
      },
      "source": [
        "colors = py.colors.qualitative.Set2\n",
        "colors"
      ],
      "id": "professional-firewall",
      "execution_count": 14,
      "outputs": [
        {
          "output_type": "execute_result",
          "data": {
            "text/plain": [
              "['rgb(102,194,165)',\n",
              " 'rgb(252,141,98)',\n",
              " 'rgb(141,160,203)',\n",
              " 'rgb(231,138,195)',\n",
              " 'rgb(166,216,84)',\n",
              " 'rgb(255,217,47)',\n",
              " 'rgb(229,196,148)',\n",
              " 'rgb(179,179,179)']"
            ]
          },
          "metadata": {
            "tags": []
          },
          "execution_count": 14
        }
      ]
    },
    {
      "cell_type": "code",
      "metadata": {
        "colab": {
          "base_uri": "https://localhost:8080/"
        },
        "id": "precious-pizza",
        "outputId": "1caebd7b-9a6d-401c-97f5-c4cfde6954fb"
      },
      "source": [
        "colors2 = py.colors.qualitative.Dark2\n",
        "colors2"
      ],
      "id": "precious-pizza",
      "execution_count": 15,
      "outputs": [
        {
          "output_type": "execute_result",
          "data": {
            "text/plain": [
              "['rgb(27,158,119)',\n",
              " 'rgb(217,95,2)',\n",
              " 'rgb(117,112,179)',\n",
              " 'rgb(231,41,138)',\n",
              " 'rgb(102,166,30)',\n",
              " 'rgb(230,171,2)',\n",
              " 'rgb(166,118,29)',\n",
              " 'rgb(102,102,102)']"
            ]
          },
          "metadata": {
            "tags": []
          },
          "execution_count": 15
        }
      ]
    },
    {
      "cell_type": "code",
      "metadata": {
        "colab": {
          "base_uri": "https://localhost:8080/",
          "height": 717
        },
        "id": "hungry-treaty",
        "outputId": "74af104c-e9d4-4a31-ee10-dfc2b711015d"
      },
      "source": [
        "trace1 = go.Bar(x=top_countries.index, y=top_countries[2008], \n",
        "                name='2008', marker=dict(color=colors2[0], opacity=0.8,\n",
        "                                         line=dict(color='rgb(0,0,0)', width=1.5)))\n",
        "trace2 = go.Bar(x=top_countries.index, y=top_countries[2009],\n",
        "                name='2009', marker=dict(color=colors2[1], opacity=0.8,\n",
        "                                         line=dict(color='rgb(0,0,0)', width=1.5)))\n",
        "\n",
        "data = [trace1, trace2]\n",
        "layout = dict(title='Average Emission by Country in 2008 and 2009', \n",
        "              yaxis=dict(title='Average Emission', dtick=5.0),\n",
        "              barmode='group',\n",
        "              height=700, width=1000)\n",
        "fig = go.Figure(data=data, layout=layout)\n",
        "iplot(fig)"
      ],
      "id": "hungry-treaty",
      "execution_count": 16,
      "outputs": [
        {
          "output_type": "display_data",
          "data": {
            "text/html": [
              "<html>\n",
              "<head><meta charset=\"utf-8\" /></head>\n",
              "<body>\n",
              "    <div>\n",
              "            <script src=\"https://cdnjs.cloudflare.com/ajax/libs/mathjax/2.7.5/MathJax.js?config=TeX-AMS-MML_SVG\"></script><script type=\"text/javascript\">if (window.MathJax) {MathJax.Hub.Config({SVG: {font: \"STIX-Web\"}});}</script>\n",
              "                <script type=\"text/javascript\">window.PlotlyConfig = {MathJaxConfig: 'local'};</script>\n",
              "        <script src=\"https://cdn.plot.ly/plotly-latest.min.js\"></script>    \n",
              "            <div id=\"5c2c9aea-abef-40bc-85f2-7b35300de070\" class=\"plotly-graph-div\" style=\"height:700px; width:1000px;\"></div>\n",
              "            <script type=\"text/javascript\">\n",
              "                \n",
              "                    window.PLOTLYENV=window.PLOTLYENV || {};\n",
              "                    \n",
              "                if (document.getElementById(\"5c2c9aea-abef-40bc-85f2-7b35300de070\")) {\n",
              "                    Plotly.newPlot(\n",
              "                        '5c2c9aea-abef-40bc-85f2-7b35300de070',\n",
              "                        [{\"marker\": {\"color\": \"rgb(27,158,119)\", \"line\": {\"color\": \"rgb(0,0,0)\", \"width\": 1.5}, \"opacity\": 0.8}, \"name\": \"2008\", \"type\": \"bar\", \"x\": [\"Aruba\", \"Australia\", \"Bahrain\", \"Brunei\", \"Canada\", \"Estonia\", \"Faroe Islands\", \"Kazakhstan\", \"Kuwait\", \"Luxembourg\", \"New Caledonia\", \"Oman\", \"Qatar\", \"Russian Federation\", \"Saudi Arabia\", \"Trinidad And Tobago\", \"United Arab Emirates\", \"United States\"], \"y\": [24.75013321, 17.70407968, 21.51999548, 26.33827137, 16.36616459, 13.08183443, 12.97012071, 14.65957764, 30.58126375, 22.38547222, 13.53130952, 14.479797199999998, 48.60161977, 12.01913064, 15.63931332, 35.45529782, 23.03360047, 18.48923375]}, {\"marker\": {\"color\": \"rgb(217,95,2)\", \"line\": {\"color\": \"rgb(0,0,0)\", \"width\": 1.5}, \"opacity\": 0.8}, \"name\": \"2009\", \"type\": \"bar\", \"x\": [\"Aruba\", \"Australia\", \"Bahrain\", \"Brunei\", \"Canada\", \"Estonia\", \"Faroe Islands\", \"Kazakhstan\", \"Kuwait\", \"Luxembourg\", \"New Caledonia\", \"Oman\", \"Qatar\", \"Russian Federation\", \"Saudi Arabia\", \"Trinidad And Tobago\", \"United Arab Emirates\", \"United States\"], \"y\": [24.87670585, 17.63183305, 18.13623374, 22.14902862, 15.08909766, 11.04896311, 11.8429021, 13.30972781, 29.72170379, 20.87712517, 11.57082986, 13.92679701, 44.83640145, 11.02611624, 17.69022548, 36.56944789, 21.10229562, 17.192379100000004]}],\n",
              "                        {\"barmode\": \"group\", \"height\": 700, \"template\": {\"data\": {\"bar\": [{\"error_x\": {\"color\": \"#2a3f5f\"}, \"error_y\": {\"color\": \"#2a3f5f\"}, \"marker\": {\"line\": {\"color\": \"#E5ECF6\", \"width\": 0.5}}, \"type\": \"bar\"}], \"barpolar\": [{\"marker\": {\"line\": {\"color\": \"#E5ECF6\", \"width\": 0.5}}, \"type\": \"barpolar\"}], \"carpet\": [{\"aaxis\": {\"endlinecolor\": \"#2a3f5f\", \"gridcolor\": \"white\", \"linecolor\": \"white\", \"minorgridcolor\": \"white\", \"startlinecolor\": \"#2a3f5f\"}, \"baxis\": {\"endlinecolor\": \"#2a3f5f\", \"gridcolor\": \"white\", \"linecolor\": \"white\", \"minorgridcolor\": \"white\", \"startlinecolor\": \"#2a3f5f\"}, \"type\": \"carpet\"}], \"choropleth\": [{\"colorbar\": {\"outlinewidth\": 0, \"ticks\": \"\"}, \"type\": \"choropleth\"}], \"contour\": [{\"colorbar\": {\"outlinewidth\": 0, \"ticks\": \"\"}, \"colorscale\": [[0.0, \"#0d0887\"], [0.1111111111111111, \"#46039f\"], [0.2222222222222222, \"#7201a8\"], [0.3333333333333333, \"#9c179e\"], [0.4444444444444444, \"#bd3786\"], [0.5555555555555556, \"#d8576b\"], [0.6666666666666666, \"#ed7953\"], [0.7777777777777778, \"#fb9f3a\"], [0.8888888888888888, \"#fdca26\"], [1.0, \"#f0f921\"]], \"type\": \"contour\"}], \"contourcarpet\": [{\"colorbar\": {\"outlinewidth\": 0, \"ticks\": \"\"}, \"type\": \"contourcarpet\"}], \"heatmap\": [{\"colorbar\": {\"outlinewidth\": 0, \"ticks\": \"\"}, \"colorscale\": [[0.0, \"#0d0887\"], [0.1111111111111111, \"#46039f\"], [0.2222222222222222, \"#7201a8\"], [0.3333333333333333, \"#9c179e\"], [0.4444444444444444, \"#bd3786\"], [0.5555555555555556, \"#d8576b\"], [0.6666666666666666, \"#ed7953\"], [0.7777777777777778, \"#fb9f3a\"], [0.8888888888888888, \"#fdca26\"], [1.0, \"#f0f921\"]], \"type\": \"heatmap\"}], \"heatmapgl\": [{\"colorbar\": {\"outlinewidth\": 0, \"ticks\": \"\"}, \"colorscale\": [[0.0, \"#0d0887\"], [0.1111111111111111, \"#46039f\"], [0.2222222222222222, \"#7201a8\"], [0.3333333333333333, \"#9c179e\"], [0.4444444444444444, \"#bd3786\"], [0.5555555555555556, \"#d8576b\"], [0.6666666666666666, \"#ed7953\"], [0.7777777777777778, \"#fb9f3a\"], [0.8888888888888888, \"#fdca26\"], [1.0, \"#f0f921\"]], \"type\": \"heatmapgl\"}], \"histogram\": [{\"marker\": {\"colorbar\": {\"outlinewidth\": 0, \"ticks\": \"\"}}, \"type\": \"histogram\"}], \"histogram2d\": [{\"colorbar\": {\"outlinewidth\": 0, \"ticks\": \"\"}, \"colorscale\": [[0.0, \"#0d0887\"], [0.1111111111111111, \"#46039f\"], [0.2222222222222222, \"#7201a8\"], [0.3333333333333333, \"#9c179e\"], [0.4444444444444444, \"#bd3786\"], [0.5555555555555556, \"#d8576b\"], [0.6666666666666666, \"#ed7953\"], [0.7777777777777778, \"#fb9f3a\"], [0.8888888888888888, \"#fdca26\"], [1.0, \"#f0f921\"]], \"type\": \"histogram2d\"}], \"histogram2dcontour\": [{\"colorbar\": {\"outlinewidth\": 0, \"ticks\": \"\"}, \"colorscale\": [[0.0, \"#0d0887\"], [0.1111111111111111, \"#46039f\"], [0.2222222222222222, \"#7201a8\"], [0.3333333333333333, \"#9c179e\"], [0.4444444444444444, \"#bd3786\"], [0.5555555555555556, \"#d8576b\"], [0.6666666666666666, \"#ed7953\"], [0.7777777777777778, \"#fb9f3a\"], [0.8888888888888888, \"#fdca26\"], [1.0, \"#f0f921\"]], \"type\": \"histogram2dcontour\"}], \"mesh3d\": [{\"colorbar\": {\"outlinewidth\": 0, \"ticks\": \"\"}, \"type\": \"mesh3d\"}], \"parcoords\": [{\"line\": {\"colorbar\": {\"outlinewidth\": 0, \"ticks\": \"\"}}, \"type\": \"parcoords\"}], \"pie\": [{\"automargin\": true, \"type\": \"pie\"}], \"scatter\": [{\"marker\": {\"colorbar\": {\"outlinewidth\": 0, \"ticks\": \"\"}}, \"type\": \"scatter\"}], \"scatter3d\": [{\"line\": {\"colorbar\": {\"outlinewidth\": 0, \"ticks\": \"\"}}, \"marker\": {\"colorbar\": {\"outlinewidth\": 0, \"ticks\": \"\"}}, \"type\": \"scatter3d\"}], \"scattercarpet\": [{\"marker\": {\"colorbar\": {\"outlinewidth\": 0, \"ticks\": \"\"}}, \"type\": \"scattercarpet\"}], \"scattergeo\": [{\"marker\": {\"colorbar\": {\"outlinewidth\": 0, \"ticks\": \"\"}}, \"type\": \"scattergeo\"}], \"scattergl\": [{\"marker\": {\"colorbar\": {\"outlinewidth\": 0, \"ticks\": \"\"}}, \"type\": \"scattergl\"}], \"scattermapbox\": [{\"marker\": {\"colorbar\": {\"outlinewidth\": 0, \"ticks\": \"\"}}, \"type\": \"scattermapbox\"}], \"scatterpolar\": [{\"marker\": {\"colorbar\": {\"outlinewidth\": 0, \"ticks\": \"\"}}, \"type\": \"scatterpolar\"}], \"scatterpolargl\": [{\"marker\": {\"colorbar\": {\"outlinewidth\": 0, \"ticks\": \"\"}}, \"type\": \"scatterpolargl\"}], \"scatterternary\": [{\"marker\": {\"colorbar\": {\"outlinewidth\": 0, \"ticks\": \"\"}}, \"type\": \"scatterternary\"}], \"surface\": [{\"colorbar\": {\"outlinewidth\": 0, \"ticks\": \"\"}, \"colorscale\": [[0.0, \"#0d0887\"], [0.1111111111111111, \"#46039f\"], [0.2222222222222222, \"#7201a8\"], [0.3333333333333333, \"#9c179e\"], [0.4444444444444444, \"#bd3786\"], [0.5555555555555556, \"#d8576b\"], [0.6666666666666666, \"#ed7953\"], [0.7777777777777778, \"#fb9f3a\"], [0.8888888888888888, \"#fdca26\"], [1.0, \"#f0f921\"]], \"type\": \"surface\"}], \"table\": [{\"cells\": {\"fill\": {\"color\": \"#EBF0F8\"}, \"line\": {\"color\": \"white\"}}, \"header\": {\"fill\": {\"color\": \"#C8D4E3\"}, \"line\": {\"color\": \"white\"}}, \"type\": \"table\"}]}, \"layout\": {\"annotationdefaults\": {\"arrowcolor\": \"#2a3f5f\", \"arrowhead\": 0, \"arrowwidth\": 1}, \"coloraxis\": {\"colorbar\": {\"outlinewidth\": 0, \"ticks\": \"\"}}, \"colorscale\": {\"diverging\": [[0, \"#8e0152\"], [0.1, \"#c51b7d\"], [0.2, \"#de77ae\"], [0.3, \"#f1b6da\"], [0.4, \"#fde0ef\"], [0.5, \"#f7f7f7\"], [0.6, \"#e6f5d0\"], [0.7, \"#b8e186\"], [0.8, \"#7fbc41\"], [0.9, \"#4d9221\"], [1, \"#276419\"]], \"sequential\": [[0.0, \"#0d0887\"], [0.1111111111111111, \"#46039f\"], [0.2222222222222222, \"#7201a8\"], [0.3333333333333333, \"#9c179e\"], [0.4444444444444444, \"#bd3786\"], [0.5555555555555556, \"#d8576b\"], [0.6666666666666666, \"#ed7953\"], [0.7777777777777778, \"#fb9f3a\"], [0.8888888888888888, \"#fdca26\"], [1.0, \"#f0f921\"]], \"sequentialminus\": [[0.0, \"#0d0887\"], [0.1111111111111111, \"#46039f\"], [0.2222222222222222, \"#7201a8\"], [0.3333333333333333, \"#9c179e\"], [0.4444444444444444, \"#bd3786\"], [0.5555555555555556, \"#d8576b\"], [0.6666666666666666, \"#ed7953\"], [0.7777777777777778, \"#fb9f3a\"], [0.8888888888888888, \"#fdca26\"], [1.0, \"#f0f921\"]]}, \"colorway\": [\"#636efa\", \"#EF553B\", \"#00cc96\", \"#ab63fa\", \"#FFA15A\", \"#19d3f3\", \"#FF6692\", \"#B6E880\", \"#FF97FF\", \"#FECB52\"], \"font\": {\"color\": \"#2a3f5f\"}, \"geo\": {\"bgcolor\": \"white\", \"lakecolor\": \"white\", \"landcolor\": \"#E5ECF6\", \"showlakes\": true, \"showland\": true, \"subunitcolor\": \"white\"}, \"hoverlabel\": {\"align\": \"left\"}, \"hovermode\": \"closest\", \"mapbox\": {\"style\": \"light\"}, \"paper_bgcolor\": \"white\", \"plot_bgcolor\": \"#E5ECF6\", \"polar\": {\"angularaxis\": {\"gridcolor\": \"white\", \"linecolor\": \"white\", \"ticks\": \"\"}, \"bgcolor\": \"#E5ECF6\", \"radialaxis\": {\"gridcolor\": \"white\", \"linecolor\": \"white\", \"ticks\": \"\"}}, \"scene\": {\"xaxis\": {\"backgroundcolor\": \"#E5ECF6\", \"gridcolor\": \"white\", \"gridwidth\": 2, \"linecolor\": \"white\", \"showbackground\": true, \"ticks\": \"\", \"zerolinecolor\": \"white\"}, \"yaxis\": {\"backgroundcolor\": \"#E5ECF6\", \"gridcolor\": \"white\", \"gridwidth\": 2, \"linecolor\": \"white\", \"showbackground\": true, \"ticks\": \"\", \"zerolinecolor\": \"white\"}, \"zaxis\": {\"backgroundcolor\": \"#E5ECF6\", \"gridcolor\": \"white\", \"gridwidth\": 2, \"linecolor\": \"white\", \"showbackground\": true, \"ticks\": \"\", \"zerolinecolor\": \"white\"}}, \"shapedefaults\": {\"line\": {\"color\": \"#2a3f5f\"}}, \"ternary\": {\"aaxis\": {\"gridcolor\": \"white\", \"linecolor\": \"white\", \"ticks\": \"\"}, \"baxis\": {\"gridcolor\": \"white\", \"linecolor\": \"white\", \"ticks\": \"\"}, \"bgcolor\": \"#E5ECF6\", \"caxis\": {\"gridcolor\": \"white\", \"linecolor\": \"white\", \"ticks\": \"\"}}, \"title\": {\"x\": 0.05}, \"xaxis\": {\"automargin\": true, \"gridcolor\": \"white\", \"linecolor\": \"white\", \"ticks\": \"\", \"title\": {\"standoff\": 15}, \"zerolinecolor\": \"white\", \"zerolinewidth\": 2}, \"yaxis\": {\"automargin\": true, \"gridcolor\": \"white\", \"linecolor\": \"white\", \"ticks\": \"\", \"title\": {\"standoff\": 15}, \"zerolinecolor\": \"white\", \"zerolinewidth\": 2}}}, \"title\": {\"text\": \"Average Emission by Country in 2008 and 2009\"}, \"width\": 1000, \"yaxis\": {\"dtick\": 5.0, \"title\": {\"text\": \"Average Emission\"}}},\n",
              "                        {\"responsive\": true}\n",
              "                    ).then(function(){\n",
              "                            \n",
              "var gd = document.getElementById('5c2c9aea-abef-40bc-85f2-7b35300de070');\n",
              "var x = new MutationObserver(function (mutations, observer) {{\n",
              "        var display = window.getComputedStyle(gd).display;\n",
              "        if (!display || display === 'none') {{\n",
              "            console.log([gd, 'removed!']);\n",
              "            Plotly.purge(gd);\n",
              "            observer.disconnect();\n",
              "        }}\n",
              "}});\n",
              "\n",
              "// Listen for the removal of the full notebook cells\n",
              "var notebookContainer = gd.closest('#notebook-container');\n",
              "if (notebookContainer) {{\n",
              "    x.observe(notebookContainer, {childList: true});\n",
              "}}\n",
              "\n",
              "// Listen for the clearing of the current output cell\n",
              "var outputEl = gd.closest('.output');\n",
              "if (outputEl) {{\n",
              "    x.observe(outputEl, {childList: true});\n",
              "}}\n",
              "\n",
              "                        })\n",
              "                };\n",
              "                \n",
              "            </script>\n",
              "        </div>\n",
              "</body>\n",
              "</html>"
            ]
          },
          "metadata": {
            "tags": []
          }
        }
      ]
    },
    {
      "cell_type": "code",
      "metadata": {
        "colab": {
          "base_uri": "https://localhost:8080/",
          "height": 717
        },
        "id": "respective-humanity",
        "outputId": "30135d1e-1041-4f94-c35a-47440c6f1572"
      },
      "source": [
        "trace1 = go.Bar(x=top_countries.index, y=top_countries[2008], width=0.6,\n",
        "                name='2008', marker=dict(color=colors2[4], opacity=0.8,\n",
        "                                         line=dict(color='rgb(0,0,0)', width=1.5)))\n",
        "trace2 = go.Bar(x=top_countries.index, y=top_countries[2009],width=0.6,\n",
        "                name='2009', marker=dict(color=colors2[5], opacity=0.8,\n",
        "                                         line=dict(color='rgb(0,0,0)', width=1.5)))\n",
        "trace3 = go.Bar(x=top_countries.index, y=top_countries[2010], width=0.6,\n",
        "                name='2010', marker=dict(color=colors2[2], opacity=0.8,\n",
        "                                         line=dict(color='rgb(0,0,0)', width=1.5)))\n",
        "trace4 = go.Bar(x=top_countries.index, y=top_countries[2011], width=0.6,\n",
        "                name='2011', marker=dict(color=colors2[3], opacity=0.8,\n",
        "                                         line=dict(color='rgb(0,0,0)', width=1.5)))\n",
        "data = [trace1, trace2, trace3, trace4]\n",
        "layout = dict(title='Average Emission by Country from 2008 to 2011', \n",
        "              yaxis=dict(title='Average Emission', dtick=20.0),\n",
        "              barmode='relative',\n",
        "              paper_bgcolor=\"rgba(255,255,255,1)\",\n",
        "              plot_bgcolor='rgba(255,255,255,1)',\n",
        "              height=700, width=1000)\n",
        "fig = go.Figure(data=data, layout=layout)\n",
        "iplot(fig)"
      ],
      "id": "respective-humanity",
      "execution_count": 22,
      "outputs": [
        {
          "output_type": "display_data",
          "data": {
            "text/html": [
              "<html>\n",
              "<head><meta charset=\"utf-8\" /></head>\n",
              "<body>\n",
              "    <div>\n",
              "            <script src=\"https://cdnjs.cloudflare.com/ajax/libs/mathjax/2.7.5/MathJax.js?config=TeX-AMS-MML_SVG\"></script><script type=\"text/javascript\">if (window.MathJax) {MathJax.Hub.Config({SVG: {font: \"STIX-Web\"}});}</script>\n",
              "                <script type=\"text/javascript\">window.PlotlyConfig = {MathJaxConfig: 'local'};</script>\n",
              "        <script src=\"https://cdn.plot.ly/plotly-latest.min.js\"></script>    \n",
              "            <div id=\"494b878c-7ae4-4e22-abac-9a86aff27c52\" class=\"plotly-graph-div\" style=\"height:700px; width:1000px;\"></div>\n",
              "            <script type=\"text/javascript\">\n",
              "                \n",
              "                    window.PLOTLYENV=window.PLOTLYENV || {};\n",
              "                    \n",
              "                if (document.getElementById(\"494b878c-7ae4-4e22-abac-9a86aff27c52\")) {\n",
              "                    Plotly.newPlot(\n",
              "                        '494b878c-7ae4-4e22-abac-9a86aff27c52',\n",
              "                        [{\"marker\": {\"color\": \"rgb(102,166,30)\", \"line\": {\"color\": \"rgb(0,0,0)\", \"width\": 1.5}, \"opacity\": 0.8}, \"name\": \"2008\", \"type\": \"bar\", \"width\": 0.6, \"x\": [\"Aruba\", \"Australia\", \"Bahrain\", \"Brunei\", \"Canada\", \"Estonia\", \"Faroe Islands\", \"Kazakhstan\", \"Kuwait\", \"Luxembourg\", \"New Caledonia\", \"Oman\", \"Qatar\", \"Russian Federation\", \"Saudi Arabia\", \"Trinidad And Tobago\", \"United Arab Emirates\", \"United States\"], \"y\": [24.75013321, 17.70407968, 21.51999548, 26.33827137, 16.36616459, 13.08183443, 12.97012071, 14.65957764, 30.58126375, 22.38547222, 13.53130952, 14.479797199999998, 48.60161977, 12.01913064, 15.63931332, 35.45529782, 23.03360047, 18.48923375]}, {\"marker\": {\"color\": \"rgb(230,171,2)\", \"line\": {\"color\": \"rgb(0,0,0)\", \"width\": 1.5}, \"opacity\": 0.8}, \"name\": \"2009\", \"type\": \"bar\", \"width\": 0.6, \"x\": [\"Aruba\", \"Australia\", \"Bahrain\", \"Brunei\", \"Canada\", \"Estonia\", \"Faroe Islands\", \"Kazakhstan\", \"Kuwait\", \"Luxembourg\", \"New Caledonia\", \"Oman\", \"Qatar\", \"Russian Federation\", \"Saudi Arabia\", \"Trinidad And Tobago\", \"United Arab Emirates\", \"United States\"], \"y\": [24.87670585, 17.63183305, 18.13623374, 22.14902862, 15.08909766, 11.04896311, 11.8429021, 13.30972781, 29.72170379, 20.87712517, 11.57082986, 13.92679701, 44.83640145, 11.02611624, 17.69022548, 36.56944789, 21.10229562, 17.192379100000004]}, {\"marker\": {\"color\": \"rgb(117,112,179)\", \"line\": {\"color\": \"rgb(0,0,0)\", \"width\": 1.5}, \"opacity\": 0.8}, \"name\": \"2010\", \"type\": \"bar\", \"width\": 0.6, \"x\": [\"Aruba\", \"Australia\", \"Bahrain\", \"Brunei\", \"Canada\", \"Estonia\", \"Faroe Islands\", \"Kazakhstan\", \"Kuwait\", \"Luxembourg\", \"New Caledonia\", \"Oman\", \"Qatar\", \"Russian Federation\", \"Saudi Arabia\", \"Trinidad And Tobago\", \"United Arab Emirates\", \"United States\"], \"y\": [24.18270225, 16.71090435, 18.43502476, 21.873222100000003, 14.58905354, 13.77319664, 12.9866782, 15.14647827, 29.69343348, 21.6351358, 15.680092000000002, 19.122607000000002, 42.63907601, 12.19843743, 18.97762597, 38.33784104, 20.12095728, 17.48479218]}, {\"marker\": {\"color\": \"rgb(231,41,138)\", \"line\": {\"color\": \"rgb(0,0,0)\", \"width\": 1.5}, \"opacity\": 0.8}, \"name\": \"2011\", \"type\": \"bar\", \"width\": 0.6, \"x\": [\"Aruba\", \"Australia\", \"Bahrain\", \"Brunei\", \"Canada\", \"Estonia\", \"Faroe Islands\", \"Kazakhstan\", \"Kuwait\", \"Luxembourg\", \"New Caledonia\", \"Oman\", \"Qatar\", \"Russian Federation\", \"Saudi Arabia\", \"Trinidad And Tobago\", \"United Arab Emirates\", \"United States\"], \"y\": [23.922412100000003, 16.51920992, 17.94732981, 24.39201338, 14.13581338, 14.04988252, 11.72121175, 15.81009754, 28.10266175, 20.8978117, 15.17329528, 20.20389451, 44.01892637, 12.64732823, 18.07245072, 37.14005424, 20.43383762, 17.02021634]}],\n",
              "                        {\"barmode\": \"relative\", \"height\": 700, \"paper_bgcolor\": \"rgba(255,255,255,1)\", \"plot_bgcolor\": \"rgba(255,255,255,1)\", \"template\": {\"data\": {\"bar\": [{\"error_x\": {\"color\": \"#2a3f5f\"}, \"error_y\": {\"color\": \"#2a3f5f\"}, \"marker\": {\"line\": {\"color\": \"#E5ECF6\", \"width\": 0.5}}, \"type\": \"bar\"}], \"barpolar\": [{\"marker\": {\"line\": {\"color\": \"#E5ECF6\", \"width\": 0.5}}, \"type\": \"barpolar\"}], \"carpet\": [{\"aaxis\": {\"endlinecolor\": \"#2a3f5f\", \"gridcolor\": \"white\", \"linecolor\": \"white\", \"minorgridcolor\": \"white\", \"startlinecolor\": \"#2a3f5f\"}, \"baxis\": {\"endlinecolor\": \"#2a3f5f\", \"gridcolor\": \"white\", \"linecolor\": \"white\", \"minorgridcolor\": \"white\", \"startlinecolor\": \"#2a3f5f\"}, \"type\": \"carpet\"}], \"choropleth\": [{\"colorbar\": {\"outlinewidth\": 0, \"ticks\": \"\"}, \"type\": \"choropleth\"}], \"contour\": [{\"colorbar\": {\"outlinewidth\": 0, \"ticks\": \"\"}, \"colorscale\": [[0.0, \"#0d0887\"], [0.1111111111111111, \"#46039f\"], [0.2222222222222222, \"#7201a8\"], [0.3333333333333333, \"#9c179e\"], [0.4444444444444444, \"#bd3786\"], [0.5555555555555556, \"#d8576b\"], [0.6666666666666666, \"#ed7953\"], [0.7777777777777778, \"#fb9f3a\"], [0.8888888888888888, \"#fdca26\"], [1.0, \"#f0f921\"]], \"type\": \"contour\"}], \"contourcarpet\": [{\"colorbar\": {\"outlinewidth\": 0, \"ticks\": \"\"}, \"type\": \"contourcarpet\"}], \"heatmap\": [{\"colorbar\": {\"outlinewidth\": 0, \"ticks\": \"\"}, \"colorscale\": [[0.0, \"#0d0887\"], [0.1111111111111111, \"#46039f\"], [0.2222222222222222, \"#7201a8\"], [0.3333333333333333, \"#9c179e\"], [0.4444444444444444, \"#bd3786\"], [0.5555555555555556, \"#d8576b\"], [0.6666666666666666, \"#ed7953\"], [0.7777777777777778, \"#fb9f3a\"], [0.8888888888888888, \"#fdca26\"], [1.0, \"#f0f921\"]], \"type\": \"heatmap\"}], \"heatmapgl\": [{\"colorbar\": {\"outlinewidth\": 0, \"ticks\": \"\"}, \"colorscale\": [[0.0, \"#0d0887\"], [0.1111111111111111, \"#46039f\"], [0.2222222222222222, \"#7201a8\"], [0.3333333333333333, \"#9c179e\"], [0.4444444444444444, \"#bd3786\"], [0.5555555555555556, \"#d8576b\"], [0.6666666666666666, \"#ed7953\"], [0.7777777777777778, \"#fb9f3a\"], [0.8888888888888888, \"#fdca26\"], [1.0, \"#f0f921\"]], \"type\": \"heatmapgl\"}], \"histogram\": [{\"marker\": {\"colorbar\": {\"outlinewidth\": 0, \"ticks\": \"\"}}, \"type\": \"histogram\"}], \"histogram2d\": [{\"colorbar\": {\"outlinewidth\": 0, \"ticks\": \"\"}, \"colorscale\": [[0.0, \"#0d0887\"], [0.1111111111111111, \"#46039f\"], [0.2222222222222222, \"#7201a8\"], [0.3333333333333333, \"#9c179e\"], [0.4444444444444444, \"#bd3786\"], [0.5555555555555556, \"#d8576b\"], [0.6666666666666666, \"#ed7953\"], [0.7777777777777778, \"#fb9f3a\"], [0.8888888888888888, \"#fdca26\"], [1.0, \"#f0f921\"]], \"type\": \"histogram2d\"}], \"histogram2dcontour\": [{\"colorbar\": {\"outlinewidth\": 0, \"ticks\": \"\"}, \"colorscale\": [[0.0, \"#0d0887\"], [0.1111111111111111, \"#46039f\"], [0.2222222222222222, \"#7201a8\"], [0.3333333333333333, \"#9c179e\"], [0.4444444444444444, \"#bd3786\"], [0.5555555555555556, \"#d8576b\"], [0.6666666666666666, \"#ed7953\"], [0.7777777777777778, \"#fb9f3a\"], [0.8888888888888888, \"#fdca26\"], [1.0, \"#f0f921\"]], \"type\": \"histogram2dcontour\"}], \"mesh3d\": [{\"colorbar\": {\"outlinewidth\": 0, \"ticks\": \"\"}, \"type\": \"mesh3d\"}], \"parcoords\": [{\"line\": {\"colorbar\": {\"outlinewidth\": 0, \"ticks\": \"\"}}, \"type\": \"parcoords\"}], \"pie\": [{\"automargin\": true, \"type\": \"pie\"}], \"scatter\": [{\"marker\": {\"colorbar\": {\"outlinewidth\": 0, \"ticks\": \"\"}}, \"type\": \"scatter\"}], \"scatter3d\": [{\"line\": {\"colorbar\": {\"outlinewidth\": 0, \"ticks\": \"\"}}, \"marker\": {\"colorbar\": {\"outlinewidth\": 0, \"ticks\": \"\"}}, \"type\": \"scatter3d\"}], \"scattercarpet\": [{\"marker\": {\"colorbar\": {\"outlinewidth\": 0, \"ticks\": \"\"}}, \"type\": \"scattercarpet\"}], \"scattergeo\": [{\"marker\": {\"colorbar\": {\"outlinewidth\": 0, \"ticks\": \"\"}}, \"type\": \"scattergeo\"}], \"scattergl\": [{\"marker\": {\"colorbar\": {\"outlinewidth\": 0, \"ticks\": \"\"}}, \"type\": \"scattergl\"}], \"scattermapbox\": [{\"marker\": {\"colorbar\": {\"outlinewidth\": 0, \"ticks\": \"\"}}, \"type\": \"scattermapbox\"}], \"scatterpolar\": [{\"marker\": {\"colorbar\": {\"outlinewidth\": 0, \"ticks\": \"\"}}, \"type\": \"scatterpolar\"}], \"scatterpolargl\": [{\"marker\": {\"colorbar\": {\"outlinewidth\": 0, \"ticks\": \"\"}}, \"type\": \"scatterpolargl\"}], \"scatterternary\": [{\"marker\": {\"colorbar\": {\"outlinewidth\": 0, \"ticks\": \"\"}}, \"type\": \"scatterternary\"}], \"surface\": [{\"colorbar\": {\"outlinewidth\": 0, \"ticks\": \"\"}, \"colorscale\": [[0.0, \"#0d0887\"], [0.1111111111111111, \"#46039f\"], [0.2222222222222222, \"#7201a8\"], [0.3333333333333333, \"#9c179e\"], [0.4444444444444444, \"#bd3786\"], [0.5555555555555556, \"#d8576b\"], [0.6666666666666666, \"#ed7953\"], [0.7777777777777778, \"#fb9f3a\"], [0.8888888888888888, \"#fdca26\"], [1.0, \"#f0f921\"]], \"type\": \"surface\"}], \"table\": [{\"cells\": {\"fill\": {\"color\": \"#EBF0F8\"}, \"line\": {\"color\": \"white\"}}, \"header\": {\"fill\": {\"color\": \"#C8D4E3\"}, \"line\": {\"color\": \"white\"}}, \"type\": \"table\"}]}, \"layout\": {\"annotationdefaults\": {\"arrowcolor\": \"#2a3f5f\", \"arrowhead\": 0, \"arrowwidth\": 1}, \"coloraxis\": {\"colorbar\": {\"outlinewidth\": 0, \"ticks\": \"\"}}, \"colorscale\": {\"diverging\": [[0, \"#8e0152\"], [0.1, \"#c51b7d\"], [0.2, \"#de77ae\"], [0.3, \"#f1b6da\"], [0.4, \"#fde0ef\"], [0.5, \"#f7f7f7\"], [0.6, \"#e6f5d0\"], [0.7, \"#b8e186\"], [0.8, \"#7fbc41\"], [0.9, \"#4d9221\"], [1, \"#276419\"]], \"sequential\": [[0.0, \"#0d0887\"], [0.1111111111111111, \"#46039f\"], [0.2222222222222222, \"#7201a8\"], [0.3333333333333333, \"#9c179e\"], [0.4444444444444444, \"#bd3786\"], [0.5555555555555556, \"#d8576b\"], [0.6666666666666666, \"#ed7953\"], [0.7777777777777778, \"#fb9f3a\"], [0.8888888888888888, \"#fdca26\"], [1.0, \"#f0f921\"]], \"sequentialminus\": [[0.0, \"#0d0887\"], [0.1111111111111111, \"#46039f\"], [0.2222222222222222, \"#7201a8\"], [0.3333333333333333, \"#9c179e\"], [0.4444444444444444, \"#bd3786\"], [0.5555555555555556, \"#d8576b\"], [0.6666666666666666, \"#ed7953\"], [0.7777777777777778, \"#fb9f3a\"], [0.8888888888888888, \"#fdca26\"], [1.0, \"#f0f921\"]]}, \"colorway\": [\"#636efa\", \"#EF553B\", \"#00cc96\", \"#ab63fa\", \"#FFA15A\", \"#19d3f3\", \"#FF6692\", \"#B6E880\", \"#FF97FF\", \"#FECB52\"], \"font\": {\"color\": \"#2a3f5f\"}, \"geo\": {\"bgcolor\": \"white\", \"lakecolor\": \"white\", \"landcolor\": \"#E5ECF6\", \"showlakes\": true, \"showland\": true, \"subunitcolor\": \"white\"}, \"hoverlabel\": {\"align\": \"left\"}, \"hovermode\": \"closest\", \"mapbox\": {\"style\": \"light\"}, \"paper_bgcolor\": \"white\", \"plot_bgcolor\": \"#E5ECF6\", \"polar\": {\"angularaxis\": {\"gridcolor\": \"white\", \"linecolor\": \"white\", \"ticks\": \"\"}, \"bgcolor\": \"#E5ECF6\", \"radialaxis\": {\"gridcolor\": \"white\", \"linecolor\": \"white\", \"ticks\": \"\"}}, \"scene\": {\"xaxis\": {\"backgroundcolor\": \"#E5ECF6\", \"gridcolor\": \"white\", \"gridwidth\": 2, \"linecolor\": \"white\", \"showbackground\": true, \"ticks\": \"\", \"zerolinecolor\": \"white\"}, \"yaxis\": {\"backgroundcolor\": \"#E5ECF6\", \"gridcolor\": \"white\", \"gridwidth\": 2, \"linecolor\": \"white\", \"showbackground\": true, \"ticks\": \"\", \"zerolinecolor\": \"white\"}, \"zaxis\": {\"backgroundcolor\": \"#E5ECF6\", \"gridcolor\": \"white\", \"gridwidth\": 2, \"linecolor\": \"white\", \"showbackground\": true, \"ticks\": \"\", \"zerolinecolor\": \"white\"}}, \"shapedefaults\": {\"line\": {\"color\": \"#2a3f5f\"}}, \"ternary\": {\"aaxis\": {\"gridcolor\": \"white\", \"linecolor\": \"white\", \"ticks\": \"\"}, \"baxis\": {\"gridcolor\": \"white\", \"linecolor\": \"white\", \"ticks\": \"\"}, \"bgcolor\": \"#E5ECF6\", \"caxis\": {\"gridcolor\": \"white\", \"linecolor\": \"white\", \"ticks\": \"\"}}, \"title\": {\"x\": 0.05}, \"xaxis\": {\"automargin\": true, \"gridcolor\": \"white\", \"linecolor\": \"white\", \"ticks\": \"\", \"title\": {\"standoff\": 15}, \"zerolinecolor\": \"white\", \"zerolinewidth\": 2}, \"yaxis\": {\"automargin\": true, \"gridcolor\": \"white\", \"linecolor\": \"white\", \"ticks\": \"\", \"title\": {\"standoff\": 15}, \"zerolinecolor\": \"white\", \"zerolinewidth\": 2}}}, \"title\": {\"text\": \"Average Emission by Country from 2008 to 2011\"}, \"width\": 1000, \"yaxis\": {\"dtick\": 20.0, \"title\": {\"text\": \"Average Emission\"}}},\n",
              "                        {\"responsive\": true}\n",
              "                    ).then(function(){\n",
              "                            \n",
              "var gd = document.getElementById('494b878c-7ae4-4e22-abac-9a86aff27c52');\n",
              "var x = new MutationObserver(function (mutations, observer) {{\n",
              "        var display = window.getComputedStyle(gd).display;\n",
              "        if (!display || display === 'none') {{\n",
              "            console.log([gd, 'removed!']);\n",
              "            Plotly.purge(gd);\n",
              "            observer.disconnect();\n",
              "        }}\n",
              "}});\n",
              "\n",
              "// Listen for the removal of the full notebook cells\n",
              "var notebookContainer = gd.closest('#notebook-container');\n",
              "if (notebookContainer) {{\n",
              "    x.observe(notebookContainer, {childList: true});\n",
              "}}\n",
              "\n",
              "// Listen for the clearing of the current output cell\n",
              "var outputEl = gd.closest('.output');\n",
              "if (outputEl) {{\n",
              "    x.observe(outputEl, {childList: true});\n",
              "}}\n",
              "\n",
              "                        })\n",
              "                };\n",
              "                \n",
              "            </script>\n",
              "        </div>\n",
              "</body>\n",
              "</html>"
            ]
          },
          "metadata": {
            "tags": []
          }
        }
      ]
    },
    {
      "cell_type": "code",
      "metadata": {
        "colab": {
          "base_uri": "https://localhost:8080/",
          "height": 638
        },
        "id": "effective-contributor",
        "outputId": "06b0bb09-22e5-4823-e9d9-020a33f500f2"
      },
      "source": [
        "top_countries['Frac_changed'] = (top_countries[2011] - top_countries[2008]) / top_countries[2008]\n",
        "top_countries['Change'] = (top_countries['Frac_changed'] > 0).astype(int)\n",
        "top_countries['Frac_changed'] = abs(top_countries['Frac_changed'])\n",
        "top_countries"
      ],
      "id": "effective-contributor",
      "execution_count": 18,
      "outputs": [
        {
          "output_type": "execute_result",
          "data": {
            "text/html": [
              "<div>\n",
              "<style scoped>\n",
              "    .dataframe tbody tr th:only-of-type {\n",
              "        vertical-align: middle;\n",
              "    }\n",
              "\n",
              "    .dataframe tbody tr th {\n",
              "        vertical-align: top;\n",
              "    }\n",
              "\n",
              "    .dataframe thead th {\n",
              "        text-align: right;\n",
              "    }\n",
              "</style>\n",
              "<table border=\"1\" class=\"dataframe\">\n",
              "  <thead>\n",
              "    <tr style=\"text-align: right;\">\n",
              "      <th>Year</th>\n",
              "      <th>2008</th>\n",
              "      <th>2009</th>\n",
              "      <th>2010</th>\n",
              "      <th>2011</th>\n",
              "      <th>Frac_changed</th>\n",
              "      <th>Change</th>\n",
              "    </tr>\n",
              "    <tr>\n",
              "      <th>Country</th>\n",
              "      <th></th>\n",
              "      <th></th>\n",
              "      <th></th>\n",
              "      <th></th>\n",
              "      <th></th>\n",
              "      <th></th>\n",
              "    </tr>\n",
              "  </thead>\n",
              "  <tbody>\n",
              "    <tr>\n",
              "      <th>Aruba</th>\n",
              "      <td>24.750133</td>\n",
              "      <td>24.876706</td>\n",
              "      <td>24.182702</td>\n",
              "      <td>23.922412</td>\n",
              "      <td>0.033443</td>\n",
              "      <td>0</td>\n",
              "    </tr>\n",
              "    <tr>\n",
              "      <th>Australia</th>\n",
              "      <td>17.704080</td>\n",
              "      <td>17.631833</td>\n",
              "      <td>16.710904</td>\n",
              "      <td>16.519210</td>\n",
              "      <td>0.066926</td>\n",
              "      <td>0</td>\n",
              "    </tr>\n",
              "    <tr>\n",
              "      <th>Bahrain</th>\n",
              "      <td>21.519995</td>\n",
              "      <td>18.136234</td>\n",
              "      <td>18.435025</td>\n",
              "      <td>17.947330</td>\n",
              "      <td>0.166016</td>\n",
              "      <td>0</td>\n",
              "    </tr>\n",
              "    <tr>\n",
              "      <th>Brunei</th>\n",
              "      <td>26.338271</td>\n",
              "      <td>22.149029</td>\n",
              "      <td>21.873222</td>\n",
              "      <td>24.392013</td>\n",
              "      <td>0.073895</td>\n",
              "      <td>0</td>\n",
              "    </tr>\n",
              "    <tr>\n",
              "      <th>Canada</th>\n",
              "      <td>16.366165</td>\n",
              "      <td>15.089098</td>\n",
              "      <td>14.589054</td>\n",
              "      <td>14.135813</td>\n",
              "      <td>0.136278</td>\n",
              "      <td>0</td>\n",
              "    </tr>\n",
              "    <tr>\n",
              "      <th>Estonia</th>\n",
              "      <td>13.081834</td>\n",
              "      <td>11.048963</td>\n",
              "      <td>13.773197</td>\n",
              "      <td>14.049883</td>\n",
              "      <td>0.073999</td>\n",
              "      <td>1</td>\n",
              "    </tr>\n",
              "    <tr>\n",
              "      <th>Faroe Islands</th>\n",
              "      <td>12.970121</td>\n",
              "      <td>11.842902</td>\n",
              "      <td>12.986678</td>\n",
              "      <td>11.721212</td>\n",
              "      <td>0.096291</td>\n",
              "      <td>0</td>\n",
              "    </tr>\n",
              "    <tr>\n",
              "      <th>Kazakhstan</th>\n",
              "      <td>14.659578</td>\n",
              "      <td>13.309728</td>\n",
              "      <td>15.146478</td>\n",
              "      <td>15.810098</td>\n",
              "      <td>0.078482</td>\n",
              "      <td>1</td>\n",
              "    </tr>\n",
              "    <tr>\n",
              "      <th>Kuwait</th>\n",
              "      <td>30.581264</td>\n",
              "      <td>29.721704</td>\n",
              "      <td>29.693433</td>\n",
              "      <td>28.102662</td>\n",
              "      <td>0.081050</td>\n",
              "      <td>0</td>\n",
              "    </tr>\n",
              "    <tr>\n",
              "      <th>Luxembourg</th>\n",
              "      <td>22.385472</td>\n",
              "      <td>20.877125</td>\n",
              "      <td>21.635136</td>\n",
              "      <td>20.897812</td>\n",
              "      <td>0.066457</td>\n",
              "      <td>0</td>\n",
              "    </tr>\n",
              "    <tr>\n",
              "      <th>New Caledonia</th>\n",
              "      <td>13.531310</td>\n",
              "      <td>11.570830</td>\n",
              "      <td>15.680092</td>\n",
              "      <td>15.173295</td>\n",
              "      <td>0.121347</td>\n",
              "      <td>1</td>\n",
              "    </tr>\n",
              "    <tr>\n",
              "      <th>Oman</th>\n",
              "      <td>14.479797</td>\n",
              "      <td>13.926797</td>\n",
              "      <td>19.122607</td>\n",
              "      <td>20.203895</td>\n",
              "      <td>0.395316</td>\n",
              "      <td>1</td>\n",
              "    </tr>\n",
              "    <tr>\n",
              "      <th>Qatar</th>\n",
              "      <td>48.601620</td>\n",
              "      <td>44.836401</td>\n",
              "      <td>42.639076</td>\n",
              "      <td>44.018926</td>\n",
              "      <td>0.094291</td>\n",
              "      <td>0</td>\n",
              "    </tr>\n",
              "    <tr>\n",
              "      <th>Russian Federation</th>\n",
              "      <td>12.019131</td>\n",
              "      <td>11.026116</td>\n",
              "      <td>12.198437</td>\n",
              "      <td>12.647328</td>\n",
              "      <td>0.052266</td>\n",
              "      <td>1</td>\n",
              "    </tr>\n",
              "    <tr>\n",
              "      <th>Saudi Arabia</th>\n",
              "      <td>15.639313</td>\n",
              "      <td>17.690225</td>\n",
              "      <td>18.977626</td>\n",
              "      <td>18.072451</td>\n",
              "      <td>0.155578</td>\n",
              "      <td>1</td>\n",
              "    </tr>\n",
              "    <tr>\n",
              "      <th>Trinidad And Tobago</th>\n",
              "      <td>35.455298</td>\n",
              "      <td>36.569448</td>\n",
              "      <td>38.337841</td>\n",
              "      <td>37.140054</td>\n",
              "      <td>0.047518</td>\n",
              "      <td>1</td>\n",
              "    </tr>\n",
              "    <tr>\n",
              "      <th>United Arab Emirates</th>\n",
              "      <td>23.033600</td>\n",
              "      <td>21.102296</td>\n",
              "      <td>20.120957</td>\n",
              "      <td>20.433838</td>\n",
              "      <td>0.112868</td>\n",
              "      <td>0</td>\n",
              "    </tr>\n",
              "    <tr>\n",
              "      <th>United States</th>\n",
              "      <td>18.489234</td>\n",
              "      <td>17.192379</td>\n",
              "      <td>17.484792</td>\n",
              "      <td>17.020216</td>\n",
              "      <td>0.079453</td>\n",
              "      <td>0</td>\n",
              "    </tr>\n",
              "  </tbody>\n",
              "</table>\n",
              "</div>"
            ],
            "text/plain": [
              "Year                       2008       2009  ...  Frac_changed  Change\n",
              "Country                                     ...                      \n",
              "Aruba                 24.750133  24.876706  ...      0.033443       0\n",
              "Australia             17.704080  17.631833  ...      0.066926       0\n",
              "Bahrain               21.519995  18.136234  ...      0.166016       0\n",
              "Brunei                26.338271  22.149029  ...      0.073895       0\n",
              "Canada                16.366165  15.089098  ...      0.136278       0\n",
              "Estonia               13.081834  11.048963  ...      0.073999       1\n",
              "Faroe Islands         12.970121  11.842902  ...      0.096291       0\n",
              "Kazakhstan            14.659578  13.309728  ...      0.078482       1\n",
              "Kuwait                30.581264  29.721704  ...      0.081050       0\n",
              "Luxembourg            22.385472  20.877125  ...      0.066457       0\n",
              "New Caledonia         13.531310  11.570830  ...      0.121347       1\n",
              "Oman                  14.479797  13.926797  ...      0.395316       1\n",
              "Qatar                 48.601620  44.836401  ...      0.094291       0\n",
              "Russian Federation    12.019131  11.026116  ...      0.052266       1\n",
              "Saudi Arabia          15.639313  17.690225  ...      0.155578       1\n",
              "Trinidad And Tobago   35.455298  36.569448  ...      0.047518       1\n",
              "United Arab Emirates  23.033600  21.102296  ...      0.112868       0\n",
              "United States         18.489234  17.192379  ...      0.079453       0\n",
              "\n",
              "[18 rows x 6 columns]"
            ]
          },
          "metadata": {
            "tags": []
          },
          "execution_count": 18
        }
      ]
    },
    {
      "cell_type": "code",
      "metadata": {
        "colab": {
          "base_uri": "https://localhost:8080/",
          "height": 517
        },
        "id": "automatic-accounting",
        "outputId": "42efa3f8-df48-444f-e07d-0ba77c27de49"
      },
      "source": [
        "trace = go.Scatter(x=top_countries.index, y=top_countries[2008], mode='markers',\n",
        "             marker=dict(color=top_countries['Change'].values, \n",
        "                         size=100*top_countries.Frac_changed.values, \n",
        "                         showscale=True),\n",
        "             text=top_countries.index)\n",
        "data = [trace]\n",
        "annotations = dict(showarrow=False, text='Yellow: Increase in Emission, Blue: Decrease in Emission', \n",
        "                   xref='paper',\n",
        "                   yref='paper',\n",
        "                   x=-0.01, y=1.1,)\n",
        "layout = dict(title='Fractional change in emission by Country w.r.t. 2008', \n",
        "              yaxis=dict(title='Emission in 2008', dtick=10.0),\n",
        "              xaxis=dict(showticklabels=False),\n",
        "              height=500, width=800, \n",
        "              annotations=[annotations])\n",
        "fig = go.Figure(data=data, layout=layout)\n",
        "iplot(fig)"
      ],
      "id": "automatic-accounting",
      "execution_count": 19,
      "outputs": [
        {
          "output_type": "display_data",
          "data": {
            "text/html": [
              "<html>\n",
              "<head><meta charset=\"utf-8\" /></head>\n",
              "<body>\n",
              "    <div>\n",
              "            <script src=\"https://cdnjs.cloudflare.com/ajax/libs/mathjax/2.7.5/MathJax.js?config=TeX-AMS-MML_SVG\"></script><script type=\"text/javascript\">if (window.MathJax) {MathJax.Hub.Config({SVG: {font: \"STIX-Web\"}});}</script>\n",
              "                <script type=\"text/javascript\">window.PlotlyConfig = {MathJaxConfig: 'local'};</script>\n",
              "        <script src=\"https://cdn.plot.ly/plotly-latest.min.js\"></script>    \n",
              "            <div id=\"d01a20a1-373e-4e6f-bbb4-d5e5c01e0013\" class=\"plotly-graph-div\" style=\"height:500px; width:800px;\"></div>\n",
              "            <script type=\"text/javascript\">\n",
              "                \n",
              "                    window.PLOTLYENV=window.PLOTLYENV || {};\n",
              "                    \n",
              "                if (document.getElementById(\"d01a20a1-373e-4e6f-bbb4-d5e5c01e0013\")) {\n",
              "                    Plotly.newPlot(\n",
              "                        'd01a20a1-373e-4e6f-bbb4-d5e5c01e0013',\n",
              "                        [{\"marker\": {\"color\": [0, 0, 0, 0, 0, 1, 0, 1, 0, 0, 1, 1, 0, 1, 1, 1, 0, 0], \"showscale\": true, \"size\": [3.344309717353634, 6.692636846514678, 16.601609760189408, 7.389467450839768, 13.627818526050886, 7.399941462185283, 9.62912364444756, 7.848247256869803, 8.10496917414017, 6.645651721704008, 12.134714364290138, 39.531612431698996, 9.429096029488147, 5.22664749070403, 15.557827573467911, 4.751776246678837, 11.286827925082966, 7.945258466971349]}, \"mode\": \"markers\", \"text\": [\"Aruba\", \"Australia\", \"Bahrain\", \"Brunei\", \"Canada\", \"Estonia\", \"Faroe Islands\", \"Kazakhstan\", \"Kuwait\", \"Luxembourg\", \"New Caledonia\", \"Oman\", \"Qatar\", \"Russian Federation\", \"Saudi Arabia\", \"Trinidad And Tobago\", \"United Arab Emirates\", \"United States\"], \"type\": \"scatter\", \"x\": [\"Aruba\", \"Australia\", \"Bahrain\", \"Brunei\", \"Canada\", \"Estonia\", \"Faroe Islands\", \"Kazakhstan\", \"Kuwait\", \"Luxembourg\", \"New Caledonia\", \"Oman\", \"Qatar\", \"Russian Federation\", \"Saudi Arabia\", \"Trinidad And Tobago\", \"United Arab Emirates\", \"United States\"], \"y\": [24.75013321, 17.70407968, 21.51999548, 26.33827137, 16.36616459, 13.08183443, 12.97012071, 14.65957764, 30.58126375, 22.38547222, 13.53130952, 14.479797199999998, 48.60161977, 12.01913064, 15.63931332, 35.45529782, 23.03360047, 18.48923375]}],\n",
              "                        {\"annotations\": [{\"showarrow\": false, \"text\": \"Yellow: Increase in Emission, Blue: Decrease in Emission\", \"x\": -0.01, \"xref\": \"paper\", \"y\": 1.1, \"yref\": \"paper\"}], \"height\": 500, \"template\": {\"data\": {\"bar\": [{\"error_x\": {\"color\": \"#2a3f5f\"}, \"error_y\": {\"color\": \"#2a3f5f\"}, \"marker\": {\"line\": {\"color\": \"#E5ECF6\", \"width\": 0.5}}, \"type\": \"bar\"}], \"barpolar\": [{\"marker\": {\"line\": {\"color\": \"#E5ECF6\", \"width\": 0.5}}, \"type\": \"barpolar\"}], \"carpet\": [{\"aaxis\": {\"endlinecolor\": \"#2a3f5f\", \"gridcolor\": \"white\", \"linecolor\": \"white\", \"minorgridcolor\": \"white\", \"startlinecolor\": \"#2a3f5f\"}, \"baxis\": {\"endlinecolor\": \"#2a3f5f\", \"gridcolor\": \"white\", \"linecolor\": \"white\", \"minorgridcolor\": \"white\", \"startlinecolor\": \"#2a3f5f\"}, \"type\": \"carpet\"}], \"choropleth\": [{\"colorbar\": {\"outlinewidth\": 0, \"ticks\": \"\"}, \"type\": \"choropleth\"}], \"contour\": [{\"colorbar\": {\"outlinewidth\": 0, \"ticks\": \"\"}, \"colorscale\": [[0.0, \"#0d0887\"], [0.1111111111111111, \"#46039f\"], [0.2222222222222222, \"#7201a8\"], [0.3333333333333333, \"#9c179e\"], [0.4444444444444444, \"#bd3786\"], [0.5555555555555556, \"#d8576b\"], [0.6666666666666666, \"#ed7953\"], [0.7777777777777778, \"#fb9f3a\"], [0.8888888888888888, \"#fdca26\"], [1.0, \"#f0f921\"]], \"type\": \"contour\"}], \"contourcarpet\": [{\"colorbar\": {\"outlinewidth\": 0, \"ticks\": \"\"}, \"type\": \"contourcarpet\"}], \"heatmap\": [{\"colorbar\": {\"outlinewidth\": 0, \"ticks\": \"\"}, \"colorscale\": [[0.0, \"#0d0887\"], [0.1111111111111111, \"#46039f\"], [0.2222222222222222, \"#7201a8\"], [0.3333333333333333, \"#9c179e\"], [0.4444444444444444, \"#bd3786\"], [0.5555555555555556, \"#d8576b\"], [0.6666666666666666, \"#ed7953\"], [0.7777777777777778, \"#fb9f3a\"], [0.8888888888888888, \"#fdca26\"], [1.0, \"#f0f921\"]], \"type\": \"heatmap\"}], \"heatmapgl\": [{\"colorbar\": {\"outlinewidth\": 0, \"ticks\": \"\"}, \"colorscale\": [[0.0, \"#0d0887\"], [0.1111111111111111, \"#46039f\"], [0.2222222222222222, \"#7201a8\"], [0.3333333333333333, \"#9c179e\"], [0.4444444444444444, \"#bd3786\"], [0.5555555555555556, \"#d8576b\"], [0.6666666666666666, \"#ed7953\"], [0.7777777777777778, \"#fb9f3a\"], [0.8888888888888888, \"#fdca26\"], [1.0, \"#f0f921\"]], \"type\": \"heatmapgl\"}], \"histogram\": [{\"marker\": {\"colorbar\": {\"outlinewidth\": 0, \"ticks\": \"\"}}, \"type\": \"histogram\"}], \"histogram2d\": [{\"colorbar\": {\"outlinewidth\": 0, \"ticks\": \"\"}, \"colorscale\": [[0.0, \"#0d0887\"], [0.1111111111111111, \"#46039f\"], [0.2222222222222222, \"#7201a8\"], [0.3333333333333333, \"#9c179e\"], [0.4444444444444444, \"#bd3786\"], [0.5555555555555556, \"#d8576b\"], [0.6666666666666666, \"#ed7953\"], [0.7777777777777778, \"#fb9f3a\"], [0.8888888888888888, \"#fdca26\"], [1.0, \"#f0f921\"]], \"type\": \"histogram2d\"}], \"histogram2dcontour\": [{\"colorbar\": {\"outlinewidth\": 0, \"ticks\": \"\"}, \"colorscale\": [[0.0, \"#0d0887\"], [0.1111111111111111, \"#46039f\"], [0.2222222222222222, \"#7201a8\"], [0.3333333333333333, \"#9c179e\"], [0.4444444444444444, \"#bd3786\"], [0.5555555555555556, \"#d8576b\"], [0.6666666666666666, \"#ed7953\"], [0.7777777777777778, \"#fb9f3a\"], [0.8888888888888888, \"#fdca26\"], [1.0, \"#f0f921\"]], \"type\": \"histogram2dcontour\"}], \"mesh3d\": [{\"colorbar\": {\"outlinewidth\": 0, \"ticks\": \"\"}, \"type\": \"mesh3d\"}], \"parcoords\": [{\"line\": {\"colorbar\": {\"outlinewidth\": 0, \"ticks\": \"\"}}, \"type\": \"parcoords\"}], \"pie\": [{\"automargin\": true, \"type\": \"pie\"}], \"scatter\": [{\"marker\": {\"colorbar\": {\"outlinewidth\": 0, \"ticks\": \"\"}}, \"type\": \"scatter\"}], \"scatter3d\": [{\"line\": {\"colorbar\": {\"outlinewidth\": 0, \"ticks\": \"\"}}, \"marker\": {\"colorbar\": {\"outlinewidth\": 0, \"ticks\": \"\"}}, \"type\": \"scatter3d\"}], \"scattercarpet\": [{\"marker\": {\"colorbar\": {\"outlinewidth\": 0, \"ticks\": \"\"}}, \"type\": \"scattercarpet\"}], \"scattergeo\": [{\"marker\": {\"colorbar\": {\"outlinewidth\": 0, \"ticks\": \"\"}}, \"type\": \"scattergeo\"}], \"scattergl\": [{\"marker\": {\"colorbar\": {\"outlinewidth\": 0, \"ticks\": \"\"}}, \"type\": \"scattergl\"}], \"scattermapbox\": [{\"marker\": {\"colorbar\": {\"outlinewidth\": 0, \"ticks\": \"\"}}, \"type\": \"scattermapbox\"}], \"scatterpolar\": [{\"marker\": {\"colorbar\": {\"outlinewidth\": 0, \"ticks\": \"\"}}, \"type\": \"scatterpolar\"}], \"scatterpolargl\": [{\"marker\": {\"colorbar\": {\"outlinewidth\": 0, \"ticks\": \"\"}}, \"type\": \"scatterpolargl\"}], \"scatterternary\": [{\"marker\": {\"colorbar\": {\"outlinewidth\": 0, \"ticks\": \"\"}}, \"type\": \"scatterternary\"}], \"surface\": [{\"colorbar\": {\"outlinewidth\": 0, \"ticks\": \"\"}, \"colorscale\": [[0.0, \"#0d0887\"], [0.1111111111111111, \"#46039f\"], [0.2222222222222222, \"#7201a8\"], [0.3333333333333333, \"#9c179e\"], [0.4444444444444444, \"#bd3786\"], [0.5555555555555556, \"#d8576b\"], [0.6666666666666666, \"#ed7953\"], [0.7777777777777778, \"#fb9f3a\"], [0.8888888888888888, \"#fdca26\"], [1.0, \"#f0f921\"]], \"type\": \"surface\"}], \"table\": [{\"cells\": {\"fill\": {\"color\": \"#EBF0F8\"}, \"line\": {\"color\": \"white\"}}, \"header\": {\"fill\": {\"color\": \"#C8D4E3\"}, \"line\": {\"color\": \"white\"}}, \"type\": \"table\"}]}, \"layout\": {\"annotationdefaults\": {\"arrowcolor\": \"#2a3f5f\", \"arrowhead\": 0, \"arrowwidth\": 1}, \"coloraxis\": {\"colorbar\": {\"outlinewidth\": 0, \"ticks\": \"\"}}, \"colorscale\": {\"diverging\": [[0, \"#8e0152\"], [0.1, \"#c51b7d\"], [0.2, \"#de77ae\"], [0.3, \"#f1b6da\"], [0.4, \"#fde0ef\"], [0.5, \"#f7f7f7\"], [0.6, \"#e6f5d0\"], [0.7, \"#b8e186\"], [0.8, \"#7fbc41\"], [0.9, \"#4d9221\"], [1, \"#276419\"]], \"sequential\": [[0.0, \"#0d0887\"], [0.1111111111111111, \"#46039f\"], [0.2222222222222222, \"#7201a8\"], [0.3333333333333333, \"#9c179e\"], [0.4444444444444444, \"#bd3786\"], [0.5555555555555556, \"#d8576b\"], [0.6666666666666666, \"#ed7953\"], [0.7777777777777778, \"#fb9f3a\"], [0.8888888888888888, \"#fdca26\"], [1.0, \"#f0f921\"]], \"sequentialminus\": [[0.0, \"#0d0887\"], [0.1111111111111111, \"#46039f\"], [0.2222222222222222, \"#7201a8\"], [0.3333333333333333, \"#9c179e\"], [0.4444444444444444, \"#bd3786\"], [0.5555555555555556, \"#d8576b\"], [0.6666666666666666, \"#ed7953\"], [0.7777777777777778, \"#fb9f3a\"], [0.8888888888888888, \"#fdca26\"], [1.0, \"#f0f921\"]]}, \"colorway\": [\"#636efa\", \"#EF553B\", \"#00cc96\", \"#ab63fa\", \"#FFA15A\", \"#19d3f3\", \"#FF6692\", \"#B6E880\", \"#FF97FF\", \"#FECB52\"], \"font\": {\"color\": \"#2a3f5f\"}, \"geo\": {\"bgcolor\": \"white\", \"lakecolor\": \"white\", \"landcolor\": \"#E5ECF6\", \"showlakes\": true, \"showland\": true, \"subunitcolor\": \"white\"}, \"hoverlabel\": {\"align\": \"left\"}, \"hovermode\": \"closest\", \"mapbox\": {\"style\": \"light\"}, \"paper_bgcolor\": \"white\", \"plot_bgcolor\": \"#E5ECF6\", \"polar\": {\"angularaxis\": {\"gridcolor\": \"white\", \"linecolor\": \"white\", \"ticks\": \"\"}, \"bgcolor\": \"#E5ECF6\", \"radialaxis\": {\"gridcolor\": \"white\", \"linecolor\": \"white\", \"ticks\": \"\"}}, \"scene\": {\"xaxis\": {\"backgroundcolor\": \"#E5ECF6\", \"gridcolor\": \"white\", \"gridwidth\": 2, \"linecolor\": \"white\", \"showbackground\": true, \"ticks\": \"\", \"zerolinecolor\": \"white\"}, \"yaxis\": {\"backgroundcolor\": \"#E5ECF6\", \"gridcolor\": \"white\", \"gridwidth\": 2, \"linecolor\": \"white\", \"showbackground\": true, \"ticks\": \"\", \"zerolinecolor\": \"white\"}, \"zaxis\": {\"backgroundcolor\": \"#E5ECF6\", \"gridcolor\": \"white\", \"gridwidth\": 2, \"linecolor\": \"white\", \"showbackground\": true, \"ticks\": \"\", \"zerolinecolor\": \"white\"}}, \"shapedefaults\": {\"line\": {\"color\": \"#2a3f5f\"}}, \"ternary\": {\"aaxis\": {\"gridcolor\": \"white\", \"linecolor\": \"white\", \"ticks\": \"\"}, \"baxis\": {\"gridcolor\": \"white\", \"linecolor\": \"white\", \"ticks\": \"\"}, \"bgcolor\": \"#E5ECF6\", \"caxis\": {\"gridcolor\": \"white\", \"linecolor\": \"white\", \"ticks\": \"\"}}, \"title\": {\"x\": 0.05}, \"xaxis\": {\"automargin\": true, \"gridcolor\": \"white\", \"linecolor\": \"white\", \"ticks\": \"\", \"title\": {\"standoff\": 15}, \"zerolinecolor\": \"white\", \"zerolinewidth\": 2}, \"yaxis\": {\"automargin\": true, \"gridcolor\": \"white\", \"linecolor\": \"white\", \"ticks\": \"\", \"title\": {\"standoff\": 15}, \"zerolinecolor\": \"white\", \"zerolinewidth\": 2}}}, \"title\": {\"text\": \"Fractional change in emission by Country w.r.t. 2008\"}, \"width\": 800, \"xaxis\": {\"showticklabels\": false}, \"yaxis\": {\"dtick\": 10.0, \"title\": {\"text\": \"Emission in 2008\"}}},\n",
              "                        {\"responsive\": true}\n",
              "                    ).then(function(){\n",
              "                            \n",
              "var gd = document.getElementById('d01a20a1-373e-4e6f-bbb4-d5e5c01e0013');\n",
              "var x = new MutationObserver(function (mutations, observer) {{\n",
              "        var display = window.getComputedStyle(gd).display;\n",
              "        if (!display || display === 'none') {{\n",
              "            console.log([gd, 'removed!']);\n",
              "            Plotly.purge(gd);\n",
              "            observer.disconnect();\n",
              "        }}\n",
              "}});\n",
              "\n",
              "// Listen for the removal of the full notebook cells\n",
              "var notebookContainer = gd.closest('#notebook-container');\n",
              "if (notebookContainer) {{\n",
              "    x.observe(notebookContainer, {childList: true});\n",
              "}}\n",
              "\n",
              "// Listen for the clearing of the current output cell\n",
              "var outputEl = gd.closest('.output');\n",
              "if (outputEl) {{\n",
              "    x.observe(outputEl, {childList: true});\n",
              "}}\n",
              "\n",
              "                        })\n",
              "                };\n",
              "                \n",
              "            </script>\n",
              "        </div>\n",
              "</body>\n",
              "</html>"
            ]
          },
          "metadata": {
            "tags": []
          }
        }
      ]
    },
    {
      "cell_type": "markdown",
      "metadata": {
        "id": "lucky-boating"
      },
      "source": [
        "## Using Plotly-Express"
      ],
      "id": "lucky-boating"
    },
    {
      "cell_type": "code",
      "metadata": {
        "colab": {
          "base_uri": "https://localhost:8080/",
          "height": 542
        },
        "id": "otherwise-disease",
        "outputId": "a7931338-d137-4502-bac4-82f6fd39c935"
      },
      "source": [
        "fig = px.scatter(mean_emission_year, x='Year', y='Emission') \n",
        "fig.update_traces(mode='lines+markers', marker=dict(size=16, \n",
        "                                                    line=dict(width=2, color='DarkSlateGrey')))\n",
        "fig.show()"
      ],
      "id": "otherwise-disease",
      "execution_count": 20,
      "outputs": [
        {
          "output_type": "display_data",
          "data": {
            "text/html": [
              "<html>\n",
              "<head><meta charset=\"utf-8\" /></head>\n",
              "<body>\n",
              "    <div>\n",
              "            <script src=\"https://cdnjs.cloudflare.com/ajax/libs/mathjax/2.7.5/MathJax.js?config=TeX-AMS-MML_SVG\"></script><script type=\"text/javascript\">if (window.MathJax) {MathJax.Hub.Config({SVG: {font: \"STIX-Web\"}});}</script>\n",
              "                <script type=\"text/javascript\">window.PlotlyConfig = {MathJaxConfig: 'local'};</script>\n",
              "        <script src=\"https://cdn.plot.ly/plotly-latest.min.js\"></script>    \n",
              "            <div id=\"0548af1f-13c2-4ae5-a1f8-a709c7e1deb9\" class=\"plotly-graph-div\" style=\"height:525px; width:100%;\"></div>\n",
              "            <script type=\"text/javascript\">\n",
              "                \n",
              "                    window.PLOTLYENV=window.PLOTLYENV || {};\n",
              "                    \n",
              "                if (document.getElementById(\"0548af1f-13c2-4ae5-a1f8-a709c7e1deb9\")) {\n",
              "                    Plotly.newPlot(\n",
              "                        '0548af1f-13c2-4ae5-a1f8-a709c7e1deb9',\n",
              "                        [{\"hoverlabel\": {\"namelength\": 0}, \"hovertemplate\": \"Year=%{x}<br>Emission=%{y}\", \"legendgroup\": \"\", \"marker\": {\"color\": \"#636efa\", \"line\": {\"color\": \"DarkSlateGrey\", \"width\": 2}, \"size\": 16, \"symbol\": \"circle\"}, \"mode\": \"lines+markers\", \"name\": \"\", \"showlegend\": false, \"type\": \"scatter\", \"x\": [2008, 2009, 2010, 2011], \"xaxis\": \"x\", \"y\": [5.012454280116751, 4.779364858639592, 4.9367485989390865, 4.904900274527923], \"yaxis\": \"y\"}],\n",
              "                        {\"legend\": {\"tracegroupgap\": 0}, \"margin\": {\"t\": 60}, \"template\": {\"data\": {\"bar\": [{\"error_x\": {\"color\": \"#2a3f5f\"}, \"error_y\": {\"color\": \"#2a3f5f\"}, \"marker\": {\"line\": {\"color\": \"#E5ECF6\", \"width\": 0.5}}, \"type\": \"bar\"}], \"barpolar\": [{\"marker\": {\"line\": {\"color\": \"#E5ECF6\", \"width\": 0.5}}, \"type\": \"barpolar\"}], \"carpet\": [{\"aaxis\": {\"endlinecolor\": \"#2a3f5f\", \"gridcolor\": \"white\", \"linecolor\": \"white\", \"minorgridcolor\": \"white\", \"startlinecolor\": \"#2a3f5f\"}, \"baxis\": {\"endlinecolor\": \"#2a3f5f\", \"gridcolor\": \"white\", \"linecolor\": \"white\", \"minorgridcolor\": \"white\", \"startlinecolor\": \"#2a3f5f\"}, \"type\": \"carpet\"}], \"choropleth\": [{\"colorbar\": {\"outlinewidth\": 0, \"ticks\": \"\"}, \"type\": \"choropleth\"}], \"contour\": [{\"colorbar\": {\"outlinewidth\": 0, \"ticks\": \"\"}, \"colorscale\": [[0.0, \"#0d0887\"], [0.1111111111111111, \"#46039f\"], [0.2222222222222222, \"#7201a8\"], [0.3333333333333333, \"#9c179e\"], [0.4444444444444444, \"#bd3786\"], [0.5555555555555556, \"#d8576b\"], [0.6666666666666666, \"#ed7953\"], [0.7777777777777778, \"#fb9f3a\"], [0.8888888888888888, \"#fdca26\"], [1.0, \"#f0f921\"]], \"type\": \"contour\"}], \"contourcarpet\": [{\"colorbar\": {\"outlinewidth\": 0, \"ticks\": \"\"}, \"type\": \"contourcarpet\"}], \"heatmap\": [{\"colorbar\": {\"outlinewidth\": 0, \"ticks\": \"\"}, \"colorscale\": [[0.0, \"#0d0887\"], [0.1111111111111111, \"#46039f\"], [0.2222222222222222, \"#7201a8\"], [0.3333333333333333, \"#9c179e\"], [0.4444444444444444, \"#bd3786\"], [0.5555555555555556, \"#d8576b\"], [0.6666666666666666, \"#ed7953\"], [0.7777777777777778, \"#fb9f3a\"], [0.8888888888888888, \"#fdca26\"], [1.0, \"#f0f921\"]], \"type\": \"heatmap\"}], \"heatmapgl\": [{\"colorbar\": {\"outlinewidth\": 0, \"ticks\": \"\"}, \"colorscale\": [[0.0, \"#0d0887\"], [0.1111111111111111, \"#46039f\"], [0.2222222222222222, \"#7201a8\"], [0.3333333333333333, \"#9c179e\"], [0.4444444444444444, \"#bd3786\"], [0.5555555555555556, \"#d8576b\"], [0.6666666666666666, \"#ed7953\"], [0.7777777777777778, \"#fb9f3a\"], [0.8888888888888888, \"#fdca26\"], [1.0, \"#f0f921\"]], \"type\": \"heatmapgl\"}], \"histogram\": [{\"marker\": {\"colorbar\": {\"outlinewidth\": 0, \"ticks\": \"\"}}, \"type\": \"histogram\"}], \"histogram2d\": [{\"colorbar\": {\"outlinewidth\": 0, \"ticks\": \"\"}, \"colorscale\": [[0.0, \"#0d0887\"], [0.1111111111111111, \"#46039f\"], [0.2222222222222222, \"#7201a8\"], [0.3333333333333333, \"#9c179e\"], [0.4444444444444444, \"#bd3786\"], [0.5555555555555556, \"#d8576b\"], [0.6666666666666666, \"#ed7953\"], [0.7777777777777778, \"#fb9f3a\"], [0.8888888888888888, \"#fdca26\"], [1.0, \"#f0f921\"]], \"type\": \"histogram2d\"}], \"histogram2dcontour\": [{\"colorbar\": {\"outlinewidth\": 0, \"ticks\": \"\"}, \"colorscale\": [[0.0, \"#0d0887\"], [0.1111111111111111, \"#46039f\"], [0.2222222222222222, \"#7201a8\"], [0.3333333333333333, \"#9c179e\"], [0.4444444444444444, \"#bd3786\"], [0.5555555555555556, \"#d8576b\"], [0.6666666666666666, \"#ed7953\"], [0.7777777777777778, \"#fb9f3a\"], [0.8888888888888888, \"#fdca26\"], [1.0, \"#f0f921\"]], \"type\": \"histogram2dcontour\"}], \"mesh3d\": [{\"colorbar\": {\"outlinewidth\": 0, \"ticks\": \"\"}, \"type\": \"mesh3d\"}], \"parcoords\": [{\"line\": {\"colorbar\": {\"outlinewidth\": 0, \"ticks\": \"\"}}, \"type\": \"parcoords\"}], \"pie\": [{\"automargin\": true, \"type\": \"pie\"}], \"scatter\": [{\"marker\": {\"colorbar\": {\"outlinewidth\": 0, \"ticks\": \"\"}}, \"type\": \"scatter\"}], \"scatter3d\": [{\"line\": {\"colorbar\": {\"outlinewidth\": 0, \"ticks\": \"\"}}, \"marker\": {\"colorbar\": {\"outlinewidth\": 0, \"ticks\": \"\"}}, \"type\": \"scatter3d\"}], \"scattercarpet\": [{\"marker\": {\"colorbar\": {\"outlinewidth\": 0, \"ticks\": \"\"}}, \"type\": \"scattercarpet\"}], \"scattergeo\": [{\"marker\": {\"colorbar\": {\"outlinewidth\": 0, \"ticks\": \"\"}}, \"type\": \"scattergeo\"}], \"scattergl\": [{\"marker\": {\"colorbar\": {\"outlinewidth\": 0, \"ticks\": \"\"}}, \"type\": \"scattergl\"}], \"scattermapbox\": [{\"marker\": {\"colorbar\": {\"outlinewidth\": 0, \"ticks\": \"\"}}, \"type\": \"scattermapbox\"}], \"scatterpolar\": [{\"marker\": {\"colorbar\": {\"outlinewidth\": 0, \"ticks\": \"\"}}, \"type\": \"scatterpolar\"}], \"scatterpolargl\": [{\"marker\": {\"colorbar\": {\"outlinewidth\": 0, \"ticks\": \"\"}}, \"type\": \"scatterpolargl\"}], \"scatterternary\": [{\"marker\": {\"colorbar\": {\"outlinewidth\": 0, \"ticks\": \"\"}}, \"type\": \"scatterternary\"}], \"surface\": [{\"colorbar\": {\"outlinewidth\": 0, \"ticks\": \"\"}, \"colorscale\": [[0.0, \"#0d0887\"], [0.1111111111111111, \"#46039f\"], [0.2222222222222222, \"#7201a8\"], [0.3333333333333333, \"#9c179e\"], [0.4444444444444444, \"#bd3786\"], [0.5555555555555556, \"#d8576b\"], [0.6666666666666666, \"#ed7953\"], [0.7777777777777778, \"#fb9f3a\"], [0.8888888888888888, \"#fdca26\"], [1.0, \"#f0f921\"]], \"type\": \"surface\"}], \"table\": [{\"cells\": {\"fill\": {\"color\": \"#EBF0F8\"}, \"line\": {\"color\": \"white\"}}, \"header\": {\"fill\": {\"color\": \"#C8D4E3\"}, \"line\": {\"color\": \"white\"}}, \"type\": \"table\"}]}, \"layout\": {\"annotationdefaults\": {\"arrowcolor\": \"#2a3f5f\", \"arrowhead\": 0, \"arrowwidth\": 1}, \"coloraxis\": {\"colorbar\": {\"outlinewidth\": 0, \"ticks\": \"\"}}, \"colorscale\": {\"diverging\": [[0, \"#8e0152\"], [0.1, \"#c51b7d\"], [0.2, \"#de77ae\"], [0.3, \"#f1b6da\"], [0.4, \"#fde0ef\"], [0.5, \"#f7f7f7\"], [0.6, \"#e6f5d0\"], [0.7, \"#b8e186\"], [0.8, \"#7fbc41\"], [0.9, \"#4d9221\"], [1, \"#276419\"]], \"sequential\": [[0.0, \"#0d0887\"], [0.1111111111111111, \"#46039f\"], [0.2222222222222222, \"#7201a8\"], [0.3333333333333333, \"#9c179e\"], [0.4444444444444444, \"#bd3786\"], [0.5555555555555556, \"#d8576b\"], [0.6666666666666666, \"#ed7953\"], [0.7777777777777778, \"#fb9f3a\"], [0.8888888888888888, \"#fdca26\"], [1.0, \"#f0f921\"]], \"sequentialminus\": [[0.0, \"#0d0887\"], [0.1111111111111111, \"#46039f\"], [0.2222222222222222, \"#7201a8\"], [0.3333333333333333, \"#9c179e\"], [0.4444444444444444, \"#bd3786\"], [0.5555555555555556, \"#d8576b\"], [0.6666666666666666, \"#ed7953\"], [0.7777777777777778, \"#fb9f3a\"], [0.8888888888888888, \"#fdca26\"], [1.0, \"#f0f921\"]]}, \"colorway\": [\"#636efa\", \"#EF553B\", \"#00cc96\", \"#ab63fa\", \"#FFA15A\", \"#19d3f3\", \"#FF6692\", \"#B6E880\", \"#FF97FF\", \"#FECB52\"], \"font\": {\"color\": \"#2a3f5f\"}, \"geo\": {\"bgcolor\": \"white\", \"lakecolor\": \"white\", \"landcolor\": \"#E5ECF6\", \"showlakes\": true, \"showland\": true, \"subunitcolor\": \"white\"}, \"hoverlabel\": {\"align\": \"left\"}, \"hovermode\": \"closest\", \"mapbox\": {\"style\": \"light\"}, \"paper_bgcolor\": \"white\", \"plot_bgcolor\": \"#E5ECF6\", \"polar\": {\"angularaxis\": {\"gridcolor\": \"white\", \"linecolor\": \"white\", \"ticks\": \"\"}, \"bgcolor\": \"#E5ECF6\", \"radialaxis\": {\"gridcolor\": \"white\", \"linecolor\": \"white\", \"ticks\": \"\"}}, \"scene\": {\"xaxis\": {\"backgroundcolor\": \"#E5ECF6\", \"gridcolor\": \"white\", \"gridwidth\": 2, \"linecolor\": \"white\", \"showbackground\": true, \"ticks\": \"\", \"zerolinecolor\": \"white\"}, \"yaxis\": {\"backgroundcolor\": \"#E5ECF6\", \"gridcolor\": \"white\", \"gridwidth\": 2, \"linecolor\": \"white\", \"showbackground\": true, \"ticks\": \"\", \"zerolinecolor\": \"white\"}, \"zaxis\": {\"backgroundcolor\": \"#E5ECF6\", \"gridcolor\": \"white\", \"gridwidth\": 2, \"linecolor\": \"white\", \"showbackground\": true, \"ticks\": \"\", \"zerolinecolor\": \"white\"}}, \"shapedefaults\": {\"line\": {\"color\": \"#2a3f5f\"}}, \"ternary\": {\"aaxis\": {\"gridcolor\": \"white\", \"linecolor\": \"white\", \"ticks\": \"\"}, \"baxis\": {\"gridcolor\": \"white\", \"linecolor\": \"white\", \"ticks\": \"\"}, \"bgcolor\": \"#E5ECF6\", \"caxis\": {\"gridcolor\": \"white\", \"linecolor\": \"white\", \"ticks\": \"\"}}, \"title\": {\"x\": 0.05}, \"xaxis\": {\"automargin\": true, \"gridcolor\": \"white\", \"linecolor\": \"white\", \"ticks\": \"\", \"title\": {\"standoff\": 15}, \"zerolinecolor\": \"white\", \"zerolinewidth\": 2}, \"yaxis\": {\"automargin\": true, \"gridcolor\": \"white\", \"linecolor\": \"white\", \"ticks\": \"\", \"title\": {\"standoff\": 15}, \"zerolinecolor\": \"white\", \"zerolinewidth\": 2}}}, \"xaxis\": {\"anchor\": \"y\", \"domain\": [0.0, 1.0], \"title\": {\"text\": \"Year\"}}, \"yaxis\": {\"anchor\": \"x\", \"domain\": [0.0, 1.0], \"title\": {\"text\": \"Emission\"}}},\n",
              "                        {\"responsive\": true}\n",
              "                    ).then(function(){\n",
              "                            \n",
              "var gd = document.getElementById('0548af1f-13c2-4ae5-a1f8-a709c7e1deb9');\n",
              "var x = new MutationObserver(function (mutations, observer) {{\n",
              "        var display = window.getComputedStyle(gd).display;\n",
              "        if (!display || display === 'none') {{\n",
              "            console.log([gd, 'removed!']);\n",
              "            Plotly.purge(gd);\n",
              "            observer.disconnect();\n",
              "        }}\n",
              "}});\n",
              "\n",
              "// Listen for the removal of the full notebook cells\n",
              "var notebookContainer = gd.closest('#notebook-container');\n",
              "if (notebookContainer) {{\n",
              "    x.observe(notebookContainer, {childList: true});\n",
              "}}\n",
              "\n",
              "// Listen for the clearing of the current output cell\n",
              "var outputEl = gd.closest('.output');\n",
              "if (outputEl) {{\n",
              "    x.observe(outputEl, {childList: true});\n",
              "}}\n",
              "\n",
              "                        })\n",
              "                };\n",
              "                \n",
              "            </script>\n",
              "        </div>\n",
              "</body>\n",
              "</html>"
            ]
          },
          "metadata": {
            "tags": []
          }
        }
      ]
    },
    {
      "cell_type": "code",
      "metadata": {
        "id": "agricultural-ability"
      },
      "source": [
        ""
      ],
      "id": "agricultural-ability",
      "execution_count": 20,
      "outputs": []
    }
  ]
}