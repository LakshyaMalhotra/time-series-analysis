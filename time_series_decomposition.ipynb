{
  "nbformat": 4,
  "nbformat_minor": 0,
  "metadata": {
    "colab": {
      "name": "time-series-decomposition.ipynb",
      "provenance": [],
      "authorship_tag": "ABX9TyN7fZkT/hj73vb2KEe0fiAG",
      "include_colab_link": true
    },
    "kernelspec": {
      "name": "python3",
      "display_name": "Python 3"
    },
    "language_info": {
      "name": "python"
    }
  },
  "cells": [
    {
      "cell_type": "markdown",
      "metadata": {
        "id": "view-in-github",
        "colab_type": "text"
      },
      "source": [
        "<a href=\"https://colab.research.google.com/github/LakshyaMalhotra/time-series-analysis/blob/main/time_series_decomposition.ipynb\" target=\"_parent\"><img src=\"https://colab.research.google.com/assets/colab-badge.svg\" alt=\"Open In Colab\"/></a>"
      ]
    },
    {
      "cell_type": "code",
      "metadata": {
        "id": "I-6OSdd3hwR4"
      },
      "source": [
        "# library imports\n",
        "import os\n",
        "import gc\n",
        "import datetime\n",
        "\n",
        "import numpy as np\n",
        "import pandas as pd\n",
        "import plotly.graph_objects as go\n",
        "import matplotlib.pyplot as plt\n",
        "import seaborn as sns\n",
        "\n",
        "%matplotlib inline"
      ],
      "execution_count": 1,
      "outputs": []
    },
    {
      "cell_type": "code",
      "metadata": {
        "id": "9FcfZcV4e811"
      },
      "source": [
        "# plot formatting\n",
        "plt.rcParams['figure.figsize'] = (10,8)\n",
        "plt.rcParams['xtick.labelsize'] = 13\n",
        "plt.rcParams['ytick.labelsize'] = 13\n",
        "plt.rcParams['axes.labelsize'] = 14\n",
        "sns.set_palette('Set2')\n",
        "colors = list(sns.color_palette('Set2'))"
      ],
      "execution_count": 2,
      "outputs": []
    },
    {
      "cell_type": "code",
      "metadata": {
        "id": "fZlM4kWch3Gw"
      },
      "source": [
        "def convert_to_dt(x):\n",
        "    return datetime.datetime.strptime(x, '%m/%d/%Y')"
      ],
      "execution_count": 3,
      "outputs": []
    },
    {
      "cell_type": "code",
      "metadata": {
        "colab": {
          "base_uri": "https://localhost:8080/",
          "height": 204
        },
        "id": "kQE6RPLKiJHq",
        "outputId": "9e56ffb6-c33d-4f03-8464-9cef36e3594c"
      },
      "source": [
        "df = pd.read_csv('https://raw.githubusercontent.com/srivatsan88/YouTubeLI/master/dataset/amazon_revenue_profit.csv', \n",
        "                 parse_dates=['Quarter'], date_parser=convert_to_dt)\n",
        "df.head()"
      ],
      "execution_count": 4,
      "outputs": [
        {
          "output_type": "execute_result",
          "data": {
            "text/html": [
              "<div>\n",
              "<style scoped>\n",
              "    .dataframe tbody tr th:only-of-type {\n",
              "        vertical-align: middle;\n",
              "    }\n",
              "\n",
              "    .dataframe tbody tr th {\n",
              "        vertical-align: top;\n",
              "    }\n",
              "\n",
              "    .dataframe thead th {\n",
              "        text-align: right;\n",
              "    }\n",
              "</style>\n",
              "<table border=\"1\" class=\"dataframe\">\n",
              "  <thead>\n",
              "    <tr style=\"text-align: right;\">\n",
              "      <th></th>\n",
              "      <th>Quarter</th>\n",
              "      <th>Revenue</th>\n",
              "      <th>Net Income</th>\n",
              "    </tr>\n",
              "  </thead>\n",
              "  <tbody>\n",
              "    <tr>\n",
              "      <th>0</th>\n",
              "      <td>2020-03-31</td>\n",
              "      <td>75452</td>\n",
              "      <td>2535</td>\n",
              "    </tr>\n",
              "    <tr>\n",
              "      <th>1</th>\n",
              "      <td>2019-12-31</td>\n",
              "      <td>87437</td>\n",
              "      <td>3268</td>\n",
              "    </tr>\n",
              "    <tr>\n",
              "      <th>2</th>\n",
              "      <td>2019-09-30</td>\n",
              "      <td>69981</td>\n",
              "      <td>2134</td>\n",
              "    </tr>\n",
              "    <tr>\n",
              "      <th>3</th>\n",
              "      <td>2019-06-30</td>\n",
              "      <td>63404</td>\n",
              "      <td>2625</td>\n",
              "    </tr>\n",
              "    <tr>\n",
              "      <th>4</th>\n",
              "      <td>2019-03-31</td>\n",
              "      <td>59700</td>\n",
              "      <td>3561</td>\n",
              "    </tr>\n",
              "  </tbody>\n",
              "</table>\n",
              "</div>"
            ],
            "text/plain": [
              "     Quarter  Revenue  Net Income\n",
              "0 2020-03-31    75452        2535\n",
              "1 2019-12-31    87437        3268\n",
              "2 2019-09-30    69981        2134\n",
              "3 2019-06-30    63404        2625\n",
              "4 2019-03-31    59700        3561"
            ]
          },
          "metadata": {
            "tags": []
          },
          "execution_count": 4
        }
      ]
    },
    {
      "cell_type": "code",
      "metadata": {
        "colab": {
          "base_uri": "https://localhost:8080/"
        },
        "id": "2G7ky8AYiXCD",
        "outputId": "078f95fc-d1a0-43ae-8555-cfac1890f298"
      },
      "source": [
        "df.info()"
      ],
      "execution_count": 5,
      "outputs": [
        {
          "output_type": "stream",
          "text": [
            "<class 'pandas.core.frame.DataFrame'>\n",
            "RangeIndex: 61 entries, 0 to 60\n",
            "Data columns (total 3 columns):\n",
            " #   Column      Non-Null Count  Dtype         \n",
            "---  ------      --------------  -----         \n",
            " 0   Quarter     61 non-null     datetime64[ns]\n",
            " 1   Revenue     61 non-null     int64         \n",
            " 2   Net Income  61 non-null     int64         \n",
            "dtypes: datetime64[ns](1), int64(2)\n",
            "memory usage: 1.6 KB\n"
          ],
          "name": "stdout"
        }
      ]
    },
    {
      "cell_type": "code",
      "metadata": {
        "id": "WgZNCzL-jcx5"
      },
      "source": [
        "def missing_values(df):\n",
        "    data = pd.DataFrame(df.isnull().sum())\n",
        "    data.columns = ['# missing']\n",
        "    data['% missing'] = np.round((100 * data['# missing'])/df.shape[0], 2)\n",
        "    return data"
      ],
      "execution_count": 6,
      "outputs": []
    },
    {
      "cell_type": "code",
      "metadata": {
        "colab": {
          "base_uri": "https://localhost:8080/"
        },
        "id": "aKc6QiJyio3N",
        "outputId": "a3f606ed-c851-41c7-ba05-927d46931356"
      },
      "source": [
        "# printing basic info about the data\n",
        "print(f'Rows: {df.shape[0]}')\n",
        "print(f'Columns: {df.shape[1]}')\n",
        "print(f\"\\nFeatures:\\n{'-'*10}\\n{df.columns.tolist()}\")\n",
        "print(f'\\nMissing values:\\n{\"-\"*15}\\n{missing_values(df)}')\n",
        "print(f'\\nUnique values:\\n{\"-\"*15}\\n{df.nunique()}')"
      ],
      "execution_count": 7,
      "outputs": [
        {
          "output_type": "stream",
          "text": [
            "Rows: 61\n",
            "Columns: 3\n",
            "\n",
            "Features:\n",
            "----------\n",
            "['Quarter', 'Revenue', 'Net Income']\n",
            "\n",
            "Missing values:\n",
            "---------------\n",
            "            # missing  % missing\n",
            "Quarter             0        0.0\n",
            "Revenue             0        0.0\n",
            "Net Income          0        0.0\n",
            "\n",
            "Unique values:\n",
            "---------------\n",
            "Quarter       61\n",
            "Revenue       61\n",
            "Net Income    57\n",
            "dtype: int64\n"
          ],
          "name": "stdout"
        }
      ]
    },
    {
      "cell_type": "code",
      "metadata": {
        "id": "to7jq4E1ivZ-"
      },
      "source": [
        "df.set_index('Quarter', inplace=True)"
      ],
      "execution_count": 8,
      "outputs": []
    },
    {
      "cell_type": "code",
      "metadata": {
        "colab": {
          "base_uri": "https://localhost:8080/",
          "height": 504
        },
        "id": "xOLLNaH0i_4o",
        "outputId": "b13cd4dc-c75d-4f99-bdaa-b4db5df7254c"
      },
      "source": [
        "df.plot(lw=3);"
      ],
      "execution_count": 16,
      "outputs": [
        {
          "output_type": "display_data",
          "data": {
            "image/png": "[encoded data removed]",
            "text/plain": [
              "<Figure size 720x576 with 1 Axes>"
            ]
          },
          "metadata": {
            "tags": [],
            "needs_background": "light"
          }
        }
      ]
    },
    {
      "cell_type": "code",
      "metadata": {
        "colab": {
          "base_uri": "https://localhost:8080/",
          "height": 542
        },
        "id": "7j2dhOt9jPZA",
        "outputId": "92b82c03-9e55-4be7-f211-9083698579c3"
      },
      "source": [
        "fig = go.Figure()\n",
        "trace = go.Scatter(x=df.index, y=df.Revenue, name='Amazon Revenue over the years', \n",
        "                   text=df.index, mode='lines', marker=dict(color='rgb(102,194,165)'))\n",
        "fig.add_trace(trace)\n",
        "\n",
        "layout = dict(\n",
        "    title='Amazon revenue over the years',\n",
        "    xaxis=dict(\n",
        "        rangeselector=dict(\n",
        "            buttons=list(\n",
        "                [\n",
        "                 dict(count=1, label='1y', step='year', stepmode='backward'),\n",
        "                 dict(count=3, label='3y', step='year', stepmode='backward'),\n",
        "                 dict(count=5, label='5y', step='year', stepmode='backward'),\n",
        "                 dict(step='all'),\n",
        "                ]\n",
        "            )\n",
        "        ),\n",
        "        rangeslider=dict(\n",
        "            visible=True\n",
        "        ),\n",
        "        type='date'\n",
        "    )\n",
        ")\n",
        "fig.update_layout(layout)\n",
        "fig.show()"
      ],
      "execution_count": 20,
      "outputs": [
        {
          "output_type": "display_data",
          "data": {
            "text/html": [
              "<html>\n",
              "<head><meta charset=\"utf-8\" /></head>\n",
              "<body>\n",
              "    <div>\n",
              "            <script src=\"https://cdnjs.cloudflare.com/ajax/libs/mathjax/2.7.5/MathJax.js?config=TeX-AMS-MML_SVG\"></script><script type=\"text/javascript\">if (window.MathJax) {MathJax.Hub.Config({SVG: {font: \"STIX-Web\"}});}</script>\n",
              "                <script type=\"text/javascript\">window.PlotlyConfig = {MathJaxConfig: 'local'};</script>\n",
              "        <script src=\"https://cdn.plot.ly/plotly-latest.min.js\"></script>    \n",
              "            <div id=\"01953ae3-afa0-4b75-8b8d-b37ee64b5f18\" class=\"plotly-graph-div\" style=\"height:525px; width:100%;\"></div>\n",
              "            <script type=\"text/javascript\">\n",
              "                \n",
              "                    window.PLOTLYENV=window.PLOTLYENV || {};\n",
              "                    \n",
              "                if (document.getElementById(\"01953ae3-afa0-4b75-8b8d-b37ee64b5f18\")) {\n",
              "                    Plotly.newPlot(\n",
              "                        '01953ae3-afa0-4b75-8b8d-b37ee64b5f18',\n",
              "                        [{\"marker\": {\"color\": \"rgb(102,194,165)\"}, \"mode\": \"lines\", \"name\": \"Amazon Revenue over the years\", \"text\": [\"2020-03-31T00:00:00\", \"2019-12-31T00:00:00\", \"2019-09-30T00:00:00\", \"2019-06-30T00:00:00\", \"2019-03-31T00:00:00\", \"2018-12-31T00:00:00\", \"2018-09-30T00:00:00\", \"2018-06-30T00:00:00\", \"2018-03-31T00:00:00\", \"2017-12-31T00:00:00\", \"2017-09-30T00:00:00\", \"2017-06-30T00:00:00\", \"2017-03-31T00:00:00\", \"2016-12-31T00:00:00\", \"2016-09-30T00:00:00\", \"2016-06-30T00:00:00\", \"2016-03-31T00:00:00\", \"2015-12-31T00:00:00\", \"2015-09-30T00:00:00\", \"2015-06-30T00:00:00\", \"2015-03-31T00:00:00\", \"2014-12-31T00:00:00\", \"2014-09-30T00:00:00\", \"2014-06-30T00:00:00\", \"2014-03-31T00:00:00\", \"2013-12-31T00:00:00\", \"2013-09-30T00:00:00\", \"2013-06-30T00:00:00\", \"2013-03-31T00:00:00\", \"2012-12-31T00:00:00\", \"2012-09-30T00:00:00\", \"2012-06-30T00:00:00\", \"2012-03-31T00:00:00\", \"2011-12-31T00:00:00\", \"2011-09-30T00:00:00\", \"2011-06-30T00:00:00\", \"2011-03-31T00:00:00\", \"2010-12-31T00:00:00\", \"2010-09-30T00:00:00\", \"2010-06-30T00:00:00\", \"2010-03-31T00:00:00\", \"2009-12-31T00:00:00\", \"2009-09-30T00:00:00\", \"2009-06-30T00:00:00\", \"2009-03-31T00:00:00\", \"2008-12-31T00:00:00\", \"2008-09-30T00:00:00\", \"2008-06-30T00:00:00\", \"2008-03-31T00:00:00\", \"2007-12-31T00:00:00\", \"2007-09-30T00:00:00\", \"2007-06-30T00:00:00\", \"2007-03-31T00:00:00\", \"2006-12-31T00:00:00\", \"2006-09-30T00:00:00\", \"2006-06-30T00:00:00\", \"2006-03-31T00:00:00\", \"2005-12-31T00:00:00\", \"2005-09-30T00:00:00\", \"2005-06-30T00:00:00\", \"2005-03-31T00:00:00\"], \"type\": \"scatter\", \"x\": [\"2020-03-31T00:00:00\", \"2019-12-31T00:00:00\", \"2019-09-30T00:00:00\", \"2019-06-30T00:00:00\", \"2019-03-31T00:00:00\", \"2018-12-31T00:00:00\", \"2018-09-30T00:00:00\", \"2018-06-30T00:00:00\", \"2018-03-31T00:00:00\", \"2017-12-31T00:00:00\", \"2017-09-30T00:00:00\", \"2017-06-30T00:00:00\", \"2017-03-31T00:00:00\", \"2016-12-31T00:00:00\", \"2016-09-30T00:00:00\", \"2016-06-30T00:00:00\", \"2016-03-31T00:00:00\", \"2015-12-31T00:00:00\", \"2015-09-30T00:00:00\", \"2015-06-30T00:00:00\", \"2015-03-31T00:00:00\", \"2014-12-31T00:00:00\", \"2014-09-30T00:00:00\", \"2014-06-30T00:00:00\", \"2014-03-31T00:00:00\", \"2013-12-31T00:00:00\", \"2013-09-30T00:00:00\", \"2013-06-30T00:00:00\", \"2013-03-31T00:00:00\", \"2012-12-31T00:00:00\", \"2012-09-30T00:00:00\", \"2012-06-30T00:00:00\", \"2012-03-31T00:00:00\", \"2011-12-31T00:00:00\", \"2011-09-30T00:00:00\", \"2011-06-30T00:00:00\", \"2011-03-31T00:00:00\", \"2010-12-31T00:00:00\", \"2010-09-30T00:00:00\", \"2010-06-30T00:00:00\", \"2010-03-31T00:00:00\", \"2009-12-31T00:00:00\", \"2009-09-30T00:00:00\", \"2009-06-30T00:00:00\", \"2009-03-31T00:00:00\", \"2008-12-31T00:00:00\", \"2008-09-30T00:00:00\", \"2008-06-30T00:00:00\", \"2008-03-31T00:00:00\", \"2007-12-31T00:00:00\", \"2007-09-30T00:00:00\", \"2007-06-30T00:00:00\", \"2007-03-31T00:00:00\", \"2006-12-31T00:00:00\", \"2006-09-30T00:00:00\", \"2006-06-30T00:00:00\", \"2006-03-31T00:00:00\", \"2005-12-31T00:00:00\", \"2005-09-30T00:00:00\", \"2005-06-30T00:00:00\", \"2005-03-31T00:00:00\"], \"y\": [75452, 87437, 69981, 63404, 59700, 72383, 56576, 52886, 51042, 60453, 43744, 37955, 35714, 43741, 32714, 30404, 29128, 35746, 25358, 23185, 22717, 29328, 20579, 19340, 19741, 25586, 17092, 15704, 16070, 21268, 13806, 12834, 13185, 17431, 10876, 9913, 9857, 12947, 7560, 6566, 7131, 9520, 5449, 4651, 4889, 6704, 4264, 4063, 4135, 5672, 3262, 2886, 3015, 3986, 2307, 2139, 2279, 2977, 1858, 1753, 1902]}],\n",
              "                        {\"template\": {\"data\": {\"bar\": [{\"error_x\": {\"color\": \"#2a3f5f\"}, \"error_y\": {\"color\": \"#2a3f5f\"}, \"marker\": {\"line\": {\"color\": \"#E5ECF6\", \"width\": 0.5}}, \"type\": \"bar\"}], \"barpolar\": [{\"marker\": {\"line\": {\"color\": \"#E5ECF6\", \"width\": 0.5}}, \"type\": \"barpolar\"}], \"carpet\": [{\"aaxis\": {\"endlinecolor\": \"#2a3f5f\", \"gridcolor\": \"white\", \"linecolor\": \"white\", \"minorgridcolor\": \"white\", \"startlinecolor\": \"#2a3f5f\"}, \"baxis\": {\"endlinecolor\": \"#2a3f5f\", \"gridcolor\": \"white\", \"linecolor\": \"white\", \"minorgridcolor\": \"white\", \"startlinecolor\": \"#2a3f5f\"}, \"type\": \"carpet\"}], \"choropleth\": [{\"colorbar\": {\"outlinewidth\": 0, \"ticks\": \"\"}, \"type\": \"choropleth\"}], \"contour\": [{\"colorbar\": {\"outlinewidth\": 0, \"ticks\": \"\"}, \"colorscale\": [[0.0, \"#0d0887\"], [0.1111111111111111, \"#46039f\"], [0.2222222222222222, \"#7201a8\"], [0.3333333333333333, \"#9c179e\"], [0.4444444444444444, \"#bd3786\"], [0.5555555555555556, \"#d8576b\"], [0.6666666666666666, \"#ed7953\"], [0.7777777777777778, \"#fb9f3a\"], [0.8888888888888888, \"#fdca26\"], [1.0, \"#f0f921\"]], \"type\": \"contour\"}], \"contourcarpet\": [{\"colorbar\": {\"outlinewidth\": 0, \"ticks\": \"\"}, \"type\": \"contourcarpet\"}], \"heatmap\": [{\"colorbar\": {\"outlinewidth\": 0, \"ticks\": \"\"}, \"colorscale\": [[0.0, \"#0d0887\"], [0.1111111111111111, \"#46039f\"], [0.2222222222222222, \"#7201a8\"], [0.3333333333333333, \"#9c179e\"], [0.4444444444444444, \"#bd3786\"], [0.5555555555555556, \"#d8576b\"], [0.6666666666666666, \"#ed7953\"], [0.7777777777777778, \"#fb9f3a\"], [0.8888888888888888, \"#fdca26\"], [1.0, \"#f0f921\"]], \"type\": \"heatmap\"}], \"heatmapgl\": [{\"colorbar\": {\"outlinewidth\": 0, \"ticks\": \"\"}, \"colorscale\": [[0.0, \"#0d0887\"], [0.1111111111111111, \"#46039f\"], [0.2222222222222222, \"#7201a8\"], [0.3333333333333333, \"#9c179e\"], [0.4444444444444444, \"#bd3786\"], [0.5555555555555556, \"#d8576b\"], [0.6666666666666666, \"#ed7953\"], [0.7777777777777778, \"#fb9f3a\"], [0.8888888888888888, \"#fdca26\"], [1.0, \"#f0f921\"]], \"type\": \"heatmapgl\"}], \"histogram\": [{\"marker\": {\"colorbar\": {\"outlinewidth\": 0, \"ticks\": \"\"}}, \"type\": \"histogram\"}], \"histogram2d\": [{\"colorbar\": {\"outlinewidth\": 0, \"ticks\": \"\"}, \"colorscale\": [[0.0, \"#0d0887\"], [0.1111111111111111, \"#46039f\"], [0.2222222222222222, \"#7201a8\"], [0.3333333333333333, \"#9c179e\"], [0.4444444444444444, \"#bd3786\"], [0.5555555555555556, \"#d8576b\"], [0.6666666666666666, \"#ed7953\"], [0.7777777777777778, \"#fb9f3a\"], [0.8888888888888888, \"#fdca26\"], [1.0, \"#f0f921\"]], \"type\": \"histogram2d\"}], \"histogram2dcontour\": [{\"colorbar\": {\"outlinewidth\": 0, \"ticks\": \"\"}, \"colorscale\": [[0.0, \"#0d0887\"], [0.1111111111111111, \"#46039f\"], [0.2222222222222222, \"#7201a8\"], [0.3333333333333333, \"#9c179e\"], [0.4444444444444444, \"#bd3786\"], [0.5555555555555556, \"#d8576b\"], [0.6666666666666666, \"#ed7953\"], [0.7777777777777778, \"#fb9f3a\"], [0.8888888888888888, \"#fdca26\"], [1.0, \"#f0f921\"]], \"type\": \"histogram2dcontour\"}], \"mesh3d\": [{\"colorbar\": {\"outlinewidth\": 0, \"ticks\": \"\"}, \"type\": \"mesh3d\"}], \"parcoords\": [{\"line\": {\"colorbar\": {\"outlinewidth\": 0, \"ticks\": \"\"}}, \"type\": \"parcoords\"}], \"pie\": [{\"automargin\": true, \"type\": \"pie\"}], \"scatter\": [{\"marker\": {\"colorbar\": {\"outlinewidth\": 0, \"ticks\": \"\"}}, \"type\": \"scatter\"}], \"scatter3d\": [{\"line\": {\"colorbar\": {\"outlinewidth\": 0, \"ticks\": \"\"}}, \"marker\": {\"colorbar\": {\"outlinewidth\": 0, \"ticks\": \"\"}}, \"type\": \"scatter3d\"}], \"scattercarpet\": [{\"marker\": {\"colorbar\": {\"outlinewidth\": 0, \"ticks\": \"\"}}, \"type\": \"scattercarpet\"}], \"scattergeo\": [{\"marker\": {\"colorbar\": {\"outlinewidth\": 0, \"ticks\": \"\"}}, \"type\": \"scattergeo\"}], \"scattergl\": [{\"marker\": {\"colorbar\": {\"outlinewidth\": 0, \"ticks\": \"\"}}, \"type\": \"scattergl\"}], \"scattermapbox\": [{\"marker\": {\"colorbar\": {\"outlinewidth\": 0, \"ticks\": \"\"}}, \"type\": \"scattermapbox\"}], \"scatterpolar\": [{\"marker\": {\"colorbar\": {\"outlinewidth\": 0, \"ticks\": \"\"}}, \"type\": \"scatterpolar\"}], \"scatterpolargl\": [{\"marker\": {\"colorbar\": {\"outlinewidth\": 0, \"ticks\": \"\"}}, \"type\": \"scatterpolargl\"}], \"scatterternary\": [{\"marker\": {\"colorbar\": {\"outlinewidth\": 0, \"ticks\": \"\"}}, \"type\": \"scatterternary\"}], \"surface\": [{\"colorbar\": {\"outlinewidth\": 0, \"ticks\": \"\"}, \"colorscale\": [[0.0, \"#0d0887\"], [0.1111111111111111, \"#46039f\"], [0.2222222222222222, \"#7201a8\"], [0.3333333333333333, \"#9c179e\"], [0.4444444444444444, \"#bd3786\"], [0.5555555555555556, \"#d8576b\"], [0.6666666666666666, \"#ed7953\"], [0.7777777777777778, \"#fb9f3a\"], [0.8888888888888888, \"#fdca26\"], [1.0, \"#f0f921\"]], \"type\": \"surface\"}], \"table\": [{\"cells\": {\"fill\": {\"color\": \"#EBF0F8\"}, \"line\": {\"color\": \"white\"}}, \"header\": {\"fill\": {\"color\": \"#C8D4E3\"}, \"line\": {\"color\": \"white\"}}, \"type\": \"table\"}]}, \"layout\": {\"annotationdefaults\": {\"arrowcolor\": \"#2a3f5f\", \"arrowhead\": 0, \"arrowwidth\": 1}, \"coloraxis\": {\"colorbar\": {\"outlinewidth\": 0, \"ticks\": \"\"}}, \"colorscale\": {\"diverging\": [[0, \"#8e0152\"], [0.1, \"#c51b7d\"], [0.2, \"#de77ae\"], [0.3, \"#f1b6da\"], [0.4, \"#fde0ef\"], [0.5, \"#f7f7f7\"], [0.6, \"#e6f5d0\"], [0.7, \"#b8e186\"], [0.8, \"#7fbc41\"], [0.9, \"#4d9221\"], [1, \"#276419\"]], \"sequential\": [[0.0, \"#0d0887\"], [0.1111111111111111, \"#46039f\"], [0.2222222222222222, \"#7201a8\"], [0.3333333333333333, \"#9c179e\"], [0.4444444444444444, \"#bd3786\"], [0.5555555555555556, \"#d8576b\"], [0.6666666666666666, \"#ed7953\"], [0.7777777777777778, \"#fb9f3a\"], [0.8888888888888888, \"#fdca26\"], [1.0, \"#f0f921\"]], \"sequentialminus\": [[0.0, \"#0d0887\"], [0.1111111111111111, \"#46039f\"], [0.2222222222222222, \"#7201a8\"], [0.3333333333333333, \"#9c179e\"], [0.4444444444444444, \"#bd3786\"], [0.5555555555555556, \"#d8576b\"], [0.6666666666666666, \"#ed7953\"], [0.7777777777777778, \"#fb9f3a\"], [0.8888888888888888, \"#fdca26\"], [1.0, \"#f0f921\"]]}, \"colorway\": [\"#636efa\", \"#EF553B\", \"#00cc96\", \"#ab63fa\", \"#FFA15A\", \"#19d3f3\", \"#FF6692\", \"#B6E880\", \"#FF97FF\", \"#FECB52\"], \"font\": {\"color\": \"#2a3f5f\"}, \"geo\": {\"bgcolor\": \"white\", \"lakecolor\": \"white\", \"landcolor\": \"#E5ECF6\", \"showlakes\": true, \"showland\": true, \"subunitcolor\": \"white\"}, \"hoverlabel\": {\"align\": \"left\"}, \"hovermode\": \"closest\", \"mapbox\": {\"style\": \"light\"}, \"paper_bgcolor\": \"white\", \"plot_bgcolor\": \"#E5ECF6\", \"polar\": {\"angularaxis\": {\"gridcolor\": \"white\", \"linecolor\": \"white\", \"ticks\": \"\"}, \"bgcolor\": \"#E5ECF6\", \"radialaxis\": {\"gridcolor\": \"white\", \"linecolor\": \"white\", \"ticks\": \"\"}}, \"scene\": {\"xaxis\": {\"backgroundcolor\": \"#E5ECF6\", \"gridcolor\": \"white\", \"gridwidth\": 2, \"linecolor\": \"white\", \"showbackground\": true, \"ticks\": \"\", \"zerolinecolor\": \"white\"}, \"yaxis\": {\"backgroundcolor\": \"#E5ECF6\", \"gridcolor\": \"white\", \"gridwidth\": 2, \"linecolor\": \"white\", \"showbackground\": true, \"ticks\": \"\", \"zerolinecolor\": \"white\"}, \"zaxis\": {\"backgroundcolor\": \"#E5ECF6\", \"gridcolor\": \"white\", \"gridwidth\": 2, \"linecolor\": \"white\", \"showbackground\": true, \"ticks\": \"\", \"zerolinecolor\": \"white\"}}, \"shapedefaults\": {\"line\": {\"color\": \"#2a3f5f\"}}, \"ternary\": {\"aaxis\": {\"gridcolor\": \"white\", \"linecolor\": \"white\", \"ticks\": \"\"}, \"baxis\": {\"gridcolor\": \"white\", \"linecolor\": \"white\", \"ticks\": \"\"}, \"bgcolor\": \"#E5ECF6\", \"caxis\": {\"gridcolor\": \"white\", \"linecolor\": \"white\", \"ticks\": \"\"}}, \"title\": {\"x\": 0.05}, \"xaxis\": {\"automargin\": true, \"gridcolor\": \"white\", \"linecolor\": \"white\", \"ticks\": \"\", \"title\": {\"standoff\": 15}, \"zerolinecolor\": \"white\", \"zerolinewidth\": 2}, \"yaxis\": {\"automargin\": true, \"gridcolor\": \"white\", \"linecolor\": \"white\", \"ticks\": \"\", \"title\": {\"standoff\": 15}, \"zerolinecolor\": \"white\", \"zerolinewidth\": 2}}}, \"title\": {\"text\": \"Amazon revenue over the years\"}, \"xaxis\": {\"rangeselector\": {\"buttons\": [{\"count\": 1, \"label\": \"1y\", \"step\": \"year\", \"stepmode\": \"backward\"}, {\"count\": 3, \"label\": \"3y\", \"step\": \"year\", \"stepmode\": \"backward\"}, {\"count\": 5, \"label\": \"5y\", \"step\": \"year\", \"stepmode\": \"backward\"}, {\"step\": \"all\"}]}, \"rangeslider\": {\"visible\": true}, \"type\": \"date\"}},\n",
              "                        {\"responsive\": true}\n",
              "                    ).then(function(){\n",
              "                            \n",
              "var gd = document.getElementById('01953ae3-afa0-4b75-8b8d-b37ee64b5f18');\n",
              "var x = new MutationObserver(function (mutations, observer) {{\n",
              "        var display = window.getComputedStyle(gd).display;\n",
              "        if (!display || display === 'none') {{\n",
              "            console.log([gd, 'removed!']);\n",
              "            Plotly.purge(gd);\n",
              "            observer.disconnect();\n",
              "        }}\n",
              "}});\n",
              "\n",
              "// Listen for the removal of the full notebook cells\n",
              "var notebookContainer = gd.closest('#notebook-container');\n",
              "if (notebookContainer) {{\n",
              "    x.observe(notebookContainer, {childList: true});\n",
              "}}\n",
              "\n",
              "// Listen for the clearing of the current output cell\n",
              "var outputEl = gd.closest('.output');\n",
              "if (outputEl) {{\n",
              "    x.observe(outputEl, {childList: true});\n",
              "}}\n",
              "\n",
              "                        })\n",
              "                };\n",
              "                \n",
              "            </script>\n",
              "        </div>\n",
              "</body>\n",
              "</html>"
            ]
          },
          "metadata": {
            "tags": []
          }
        }
      ]
    },
    {
      "cell_type": "markdown",
      "metadata": {
        "id": "-k_tr-cjpYfe"
      },
      "source": [
        "We can see the time-series almost stays stationary till about year 2010 but afterwards it is non-stationary as we can see from the non-linear trend.\n",
        "\n",
        "Let's try to explore this further with the help of hypothesis testing:\n",
        "\n",
        "$H_{0}$ : data is stationary\n",
        "\n",
        "$H_{a}$ : data is non-stationary"
      ]
    },
    {
      "cell_type": "code",
      "metadata": {
        "id": "4qCki78vnQpE"
      },
      "source": [
        ""
      ],
      "execution_count": null,
      "outputs": []
    }
  ]
}